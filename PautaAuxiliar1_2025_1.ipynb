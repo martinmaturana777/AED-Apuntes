{
  "cells": [
    {
      "cell_type": "markdown",
      "metadata": {
        "id": "view-in-github",
        "colab_type": "text"
      },
      "source": [
        "<a href=\"https://colab.research.google.com/github/martinmaturana777/AED-Apuntes/blob/main/PautaAuxiliar1_2025_1.ipynb\" target=\"_parent\"><img src=\"https://colab.research.google.com/assets/colab-badge.svg\" alt=\"Open In Colab\"/></a>"
      ]
    },
    {
      "cell_type": "code",
      "source": [
        "import numpy as np"
      ],
      "metadata": {
        "id": "8lMxWdolS4Kv"
      },
      "execution_count": null,
      "outputs": []
    },
    {
      "cell_type": "markdown",
      "metadata": {
        "id": "GogcYuA4Qt5H"
      },
      "source": [
        "# Pauta Auxiliar 1\n",
        "\n",
        "**Auxiliares: Valentina Alarcón Yañez, Antonia G. Calvo, Cristián Llull, Raimundo Lorca Correa, Samuel Chavéz Fierro<br>\n",
        "Profesores: Nelson Baloian, Iván Sipirán, Patricio Poblete<br>\n",
        "Curso: CC3001 Algoritmos y Estructuras de Datos**"
      ]
    },
    {
      "cell_type": "markdown",
      "source": [
        "---\n",
        "## Preliminar: ¿Qué es un invariante?"
      ],
      "metadata": {
        "id": "nK8s7WdAzDt_"
      }
    },
    {
      "cell_type": "markdown",
      "metadata": {
        "id": "CtxCDG1qQruU"
      },
      "source": [
        "El invariante es una afirmación lógica, es decir, se puede verificar si es verdadero o falso.\n",
        "\n",
        "Condiciones que debe cumplir un invariante para que esté bien definido:\n",
        "\n",
        "* Debe ser verificable y verdadero en todo momento, es decir, antes de empezar un ciclo, luego de cada iteración realizada y tras finalizar el ciclo.\n",
        "  > **Obs:** es posible que el invariante se rompa (su valor de verdad sea falso) **durante** una iteración, sin embargo, debe volver a cumplirse antes de terminar la iteración.\n",
        "\n",
        "* Debe estar en función de TODOS sus índices/iteradores/contadores.\n",
        "\n",
        "* Debe tener una condición inicial y una condición de término acorde.\n",
        "\n",
        "Se llama invariante porque a pesar de estar definido en función de elementos variables (Ej: `for i in range(0,20)`), la afirmación es siempre la misma, es decir, no depende del valor que tome el iterador/contador.\n",
        "\n"
      ]
    },
    {
      "cell_type": "markdown",
      "metadata": {
        "id": "-zHvs-rLw2E3"
      },
      "source": [
        "---\n",
        "## **P1. Bandera Holandesa**"
      ]
    },
    {
      "cell_type": "markdown",
      "source": [
        "###a) Analice los posibles invariantes del problema y dibújelos\n"
      ],
      "metadata": {
        "id": "BU6X1I5gy8jV"
      }
    },
    {
      "cell_type": "markdown",
      "metadata": {
        "id": "vrwC0LErr0jz"
      },
      "source": [
        "En este caso es bastante más complejo poder intuír cuales serán los invariantes que nos permitan resolver el problema. La idea general para afrontar este problema es poder mantener una estructura que sea nuestro invariante.\n",
        "<br>\n",
        "\n",
        "\n",
        "Como pueden observar en la imagen de abajo, nuestra situación inicial es Q, donde tenemos un arreglo con los elementos desordenados y R es al arreglo al cual debemos llegar.\n",
        "\n",
        "Los arreglos con letras rojas representan 4 posibles invariantes que se pueden usar para resolver el problema.\n",
        "\n",
        "\n",
        "\n",
        "\n",
        "![](https://drive.google.com/uc?export=view&id=1ZcAwxJekswfwj8he6_HkFVHMcdMbugw0)\n",
        "\n",
        "\n",
        "Estas 4 estructuras funcionan como invariantes del problema, pues en todo momento podremos identificar un grupo que sea rojo, un grupo blanco, un grupo azul y un grupo indeterminado. La idea será partir con los grupos de colores vacíos y a medida que vamos recorriendo la lista podremos ir colocando valores en los grupos rojo, blanco y azul, según corresponda. Eventualmente lograremos clasificar todos los colores y el grupo indeterminado quedará vacío.\n",
        "\n",
        "Notemos que lo único que cambia en nuestros 4 modelos de invariantes son el orden en el que ponemos el grupo indeterminado, que para efectos de resolver el problema cualquiera de los 4 invariantes funcionarían.\n"
      ]
    },
    {
      "cell_type": "markdown",
      "metadata": {
        "id": "uLhub3lGr36i"
      },
      "source": [
        "### b) Programe la solución al problema siguiendo alguno de los invariantes de la parte __a)__:"
      ]
    },
    {
      "cell_type": "markdown",
      "metadata": {
        "id": "7A24nLXqr4bh"
      },
      "source": [
        "El invariante que usaremos será el de la esquina inferior izquierda. La idea del algoritmo es mantener 3 contadores, los cuales delimitan los trozos del arreglo en que estamos agrupando los colores.\n",
        "\n",
        "Usaremos algunos indices para representar el invariante del dibujo:\n",
        "\n",
        "* Desde el indice __0__ hasta el indice __i__ (sin incluirlo) estarán los elementos de color rojo\n",
        "\n",
        "* Desde el indice __i__ hasta el indice __j__ (sin incluirlo) estarán los elementos de color blanco\n",
        "\n",
        "* Desde el indice __j__ hasta el indice __k__ estarán los elementos que aun no sabemos de que color son y no hemos acomodado aún.\n",
        "\n",
        "* Desde el indice __k__ (sin incluirlo) hasta el indice __n-1__ (donde __n__ es el total de elementos) estarán los elementos de color azul\n",
        "\n",
        "Por lo tanto, la idea del algoritmo es ir avanzando el indice __j__ e ir acomodando los elementos que vayamos viendo. Para acomodarlos correctamente debemos manejar los indices __i__ y __k__ correctamente. Es importante notar que el elemento al que apunta __i__ no es rojo, ya que apunta al siguiente espacio donde puede ir un elemento rojo. Esto nos permite hacer un rápido intercambio de elementos. Lo mismo ocurre para los otros indices.\n",
        "\n",
        "En el momento que el indice __j__ supere al indice __k__ ya estaran vistos todos los elementos y por tanto ya se encuentran ordenados.\n",
        "\n",
        "Para simplificar el código usaremos el número 0 para representar el color rojo, el número 1 para respresentar el color blanco y el número 2 para el color azul"
      ]
    },
    {
      "cell_type": "code",
      "execution_count": null,
      "metadata": {
        "id": "2nCwrHDZr7_U"
      },
      "outputs": [],
      "source": [
        "def ordenarBandera(arr):\n",
        "  i = 0                     #i,j,k serán los índices que nos permiten definir nuestro invariante\n",
        "  j = 0\n",
        "  k = len(arr)-1            #k parte siendo el último elemento de la lista porque su recorrido es de atrás hacía adelante\n",
        "  while(j <= k):            #condición de término\n",
        "    if arr[j]==0:           #caso en el que encontramos el color rojo\n",
        "      arr[i], arr[j] = arr[j], arr[i]    #intercambiamos los valores del índice i y del índice j\n",
        "      i += 1                #como el color rojo aumento en 1 ahora debemos avanzar un valor el indice\n",
        "      j += 1                #aumentamos el valor de j para analizar el siguiente elemento de la lista\n",
        "    elif arr[j]==1:         #caso en el que encontramos el color blanco\n",
        "      j += 1                #aumentamos el valor de j para analizar el siguiente elemento de la lista\n",
        "    else:                   #caso en el que encontramos el color azul\n",
        "      arr[j], arr[k] = arr[k], arr[j]     #intercambiamos los valores del índice j y del índice k\n",
        "      k -= 1                              #como el color azul aumento en 1 ahora debemos retroceder un valor el indice k\n",
        "         #OJO! no es necesario aumentar en 1 el valor de j, pues el índice k almacenaba un valor desconocido.\n",
        "  return arr           #retornamos el mismo arreglo que recibimos, pero en este caso ya está modificado según lo pedido\n"
      ]
    },
    {
      "cell_type": "code",
      "execution_count": null,
      "metadata": {
        "colab": {
          "base_uri": "https://localhost:8080/"
        },
        "id": "6KIBDxO1r9wB",
        "outputId": "930af019-17b2-43e9-c94a-484db2a76439"
      },
      "outputs": [
        {
          "name": "stdout",
          "output_type": "stream",
          "text": [
            "[0 0 0 0 0 1 1 1 1 1 2 2]\n"
          ]
        }
      ],
      "source": [
        "#Veamos un ejemplo:\n",
        "\n",
        "arr = np.array([0, 1, 1, 0, 1, 2, 1, 2, 0, 0, 0, 1])\n",
        "ordenados = ordenarBandera(arr)\n",
        "print(ordenados)"
      ]
    },
    {
      "cell_type": "markdown",
      "source": [
        "---\n",
        "## **P2. Partición de Lomuto y Hoare**"
      ],
      "metadata": {
        "id": "z_6MKpAhzIem"
      }
    },
    {
      "cell_type": "markdown",
      "source": [
        "El ordenamiento rápido (_quicksort_ en ingles), es un algoritmo creado por el científico británico en computación C.A.R.Hoare. La magia de este algoritmo está en el uso de la función partición, la cual dado un arreglo y un elemento dentro del arreglo llamado pivote, realiza las siguientes tareas:\n",
        " 1. Seleccionar un pivote (puede elegirse cualquiera, existen distintas técnicas).\n",
        " 2. Situar el pivote en la posición que ocupará dentro del arreglo si este estuviese ordenado.\n",
        " 3. Sitúa todos los elementos menores o iguales que el pivote a la izquierda, y todos los elementos mayores que el pivote a la derecha de este.\n",
        "\n",
        "Existen varios algoritmos para realizar la partición de un arreglo, unos de lo más conocidos son **la partición de Hoare y la partición de Lomuto.** Para las explicaciones que siguen asumiremos el primer elemento del arreglo como pivote.\n",
        "\n",
        " **Partición de Hoare**: Si partimos con el arreglo `4,5,3,1,2`, este variará de la siguiente forma:\n",
        "  `4,5,3,1,2` ->\n",
        "  `4,5,3,1,2` ->\n",
        "  `2,4,3,1,5` ->\n",
        "  `2,3,4,1,5` ->\n",
        "  `2,3,1,4,5`\n",
        "\n",
        "**Partición de Lomuto**: Si partimos con el arreglo `4,5,3,1,2`, este variará de la siguiente forma:\n",
        "`4,5,3,1,2` ->\n",
        "`4,5,3,1,2` ->\n",
        "`4,5,3,1,2` ->\n",
        "`3,4,5,1,2` ->\n",
        "`3,1,4,5,2` ->`3,1,2,4,5`\n",
        "(a) Implemente el algoritmo de la partición de Hoare con una función:\n",
        "``` particionHoare(x, ini, fin, pos_pivote)```\n",
        "\n",
        "(b) Implemente el algoritmo de la particion de Lomuto con una función:\n",
        "``` particionLomuto(x, ini, fin, pos_pivote)```\n",
        "\n",
        "(c) Especifique cuál es el invariante del ciclo en cada caso.\n",
        "\n",
        "Donde ``` x``` es el arreglo de NumPy a particionar, los parámetros ``` ini``` y ``` fin``` son enteros que representan la posición inicial y final del arreglo que se quiere particionar, y 'pivote' es el índice del mismo ."
      ],
      "metadata": {
        "id": "ssfx6y9IQBkN"
      }
    },
    {
      "cell_type": "markdown",
      "source": [
        "Primero explicaremos la idea tras la partición de Hoare.\n",
        "\n",
        "- Toma dos punteros, los cuales llamaremos i y j, los cuales comienzan en el principio y final del arreglo respectivamente.\n",
        "- Junto con esto también selecciona un pivote, el cual se puede encontrar en cualquier lugar del arreglo.\n",
        "- Para comenzar, el pivote se coloca en el inicio del arreglo y se avanza i.\n",
        "- Luego, el puntero i comienza a avanzar siempre y cuando los elementos sean menores al pivote, si encuentra uno que es mayor se detiene en ese elemento.\n",
        "- Seguido de esto, el puntero j comienza un procedimiento análogo desde el lado derecho, para los mayores al pivote.\n",
        "- Cuando i está apuntando a un elemento mayor y j a uno menor, se debe hacer un swap para corregir el invariante. El elemento al que apunta i se pasa al lugar del elemento apuntado por j y el apuntado por j se pasa al lugar del elemento apuntado por i (se hace un swap de los elementos).\n",
        "- Luego, se hace swap de i con el pivote, para dejar el pivote siempre a la derecha de los menores.\n",
        "- Se vuelve a realizar el movimiento ya descrito de los punteros y el swap de elementos hasta que i sea mayor a j."
      ],
      "metadata": {
        "id": "tUiin5R6xyIV"
      }
    },
    {
      "cell_type": "code",
      "source": [
        "# Código Hoare\n",
        "def hoare(arreglo, ini, fin, pos_pivote):\n",
        "  # 1: variables iniciales\n",
        "  i = ini\n",
        "  j = fin\n",
        "  pivote = arreglo[pos_pivote]\n",
        "\n",
        "  # 2: mover pivote a \"mayor de los menores\"\n",
        "  arreglo[pos_pivote], arreglo[i] = arreglo[i], arreglo[pos_pivote]\n",
        "  pos_pivote = i\n",
        "  i = i + 1\n",
        "\n",
        "  # 3: iterar sobre el arreglo\n",
        "  while True:\n",
        "    if i > j:\n",
        "      break\n",
        "    elif arreglo[i] <= pivote:\n",
        "      arreglo[i], arreglo[pos_pivote] = arreglo[pos_pivote], arreglo[i]\n",
        "      pos_pivote = i\n",
        "      i += 1\n",
        "    elif arreglo[j] > pivote:\n",
        "      j -= 1\n",
        "    else:\n",
        "      arreglo[i], arreglo[j] = arreglo[j], arreglo[i] #hacer swap de a[i] con a[j]\n",
        "      arreglo[i], arreglo[pos_pivote] = arreglo[pos_pivote], arreglo[i]\n",
        "      pos_pivote = i\n",
        "      i += 1\n",
        "      j -= 1\n",
        "  return arreglo, pos_pivote"
      ],
      "metadata": {
        "id": "OG-hA_0dkatc"
      },
      "execution_count": null,
      "outputs": []
    },
    {
      "cell_type": "code",
      "source": [
        "# Test hoare\n",
        "def test_hoare(a, pos_pivote):\n",
        "  print(\"Arreglo inicial\")\n",
        "  print(a)\n",
        "  print(\"Pivote: {}\".format(a[pos_pivote]))\n",
        "  print(\"Arreglo pivoteado:\")\n",
        "  print(hoare(a, 0, len(a)-1, pos_pivote))\n",
        "  hoa, m = hoare(a, 0, len(a)-1, pos_pivote)\n",
        "  print(hoa)\n",
        "  p = hoa[m]\n",
        "  print()\n",
        "  print(\"Partición OK\" if (m==0 or max(a[0:m])<=p) and (m==len(a) or min(a[m:])>=p)\n",
        "          else \"Error\")\n",
        "  print()\n",
        "\n",
        "a = np.arange(10)\n",
        "np.random.shuffle(a)\n",
        "pos_pivote = 0\n",
        "test_hoare(a, pos_pivote)\n",
        "\n",
        "arrays = [\n",
        "    np.array([4, 0, 7, 3, 2, 1, 8, 5, 9, 6]),\n",
        "    np.array([1, 5, 9, 4, 7, 2, 0, 3, 8, 6]),\n",
        "    np.array([8, 1, 0, 5, 4, 7, 6, 3, 9, 2]),\n",
        "    np.array([9, 5, 3, 4, 6, 2, 0, 7, 8, 1]),\n",
        "    np.array([1, 2, 0]),\n",
        "    np.array([8, 1, 0, 5, 4, 7, 6, 3, 9, 2])\n",
        "]\n",
        "pivotes = [\n",
        "    0,\n",
        "    0,\n",
        "    0,\n",
        "    0,\n",
        "    1,\n",
        "    5\n",
        "]\n",
        "\n",
        "for array, pivote in zip(arrays, pivotes):\n",
        "  test_hoare(array, pivote)\n"
      ],
      "metadata": {
        "colab": {
          "base_uri": "https://localhost:8080/"
        },
        "id": "wDoYHaKpk1Yj",
        "outputId": "ab7f1100-29a9-4566-e3fb-3014e0e70571"
      },
      "execution_count": null,
      "outputs": [
        {
          "output_type": "stream",
          "name": "stdout",
          "text": [
            "Arreglo inicial\n",
            "[2 8 1 7 0 9 6 5 4 3]\n",
            "Pivote: 2\n",
            "Arreglo pivoteado:\n",
            "(array([0, 1, 2, 7, 8, 9, 6, 5, 4, 3]), 2)\n",
            "[0 1 2 7 8 9 6 5 4 3]\n",
            "\n",
            "Partición OK\n",
            "\n",
            "Arreglo inicial\n",
            "[4 0 7 3 2 1 8 5 9 6]\n",
            "Pivote: 4\n",
            "Arreglo pivoteado:\n",
            "(array([0, 1, 3, 2, 4, 7, 8, 5, 9, 6]), 4)\n",
            "[0 1 3 2 4 7 8 5 9 6]\n",
            "\n",
            "Partición OK\n",
            "\n",
            "Arreglo inicial\n",
            "[1 5 9 4 7 2 0 3 8 6]\n",
            "Pivote: 1\n",
            "Arreglo pivoteado:\n",
            "(array([0, 1, 9, 4, 7, 2, 5, 3, 8, 6]), 1)\n",
            "[0 1 9 4 7 2 5 3 8 6]\n",
            "\n",
            "Partición OK\n",
            "\n",
            "Arreglo inicial\n",
            "[8 1 0 5 4 7 6 3 9 2]\n",
            "Pivote: 8\n",
            "Arreglo pivoteado:\n",
            "(array([1, 0, 5, 4, 7, 6, 3, 2, 8, 9]), 8)\n",
            "[0 1 5 4 7 6 3 2 8 9]\n",
            "\n",
            "Partición OK\n",
            "\n",
            "Arreglo inicial\n",
            "[9 5 3 4 6 2 0 7 8 1]\n",
            "Pivote: 9\n",
            "Arreglo pivoteado:\n",
            "(array([5, 3, 4, 6, 2, 0, 7, 8, 1, 9]), 9)\n",
            "[3 4 1 2 0 5 7 8 6 9]\n",
            "\n",
            "Partición OK\n",
            "\n",
            "Arreglo inicial\n",
            "[1 2 0]\n",
            "Pivote: 2\n",
            "Arreglo pivoteado:\n",
            "(array([1, 0, 2]), 2)\n",
            "[0 1 2]\n",
            "\n",
            "Partición OK\n",
            "\n",
            "Arreglo inicial\n",
            "[8 1 0 5 4 7 6 3 9 2]\n",
            "Pivote: 7\n",
            "Arreglo pivoteado:\n",
            "(array([1, 0, 5, 4, 2, 6, 3, 7, 9, 8]), 7)\n",
            "[0 5 4 2 1 3 6 7 9 8]\n",
            "\n",
            "Partición OK\n",
            "\n"
          ]
        }
      ]
    },
    {
      "cell_type": "markdown",
      "source": [
        "- La idea de esta partición es mantener dos punteros, pero esta vez ambos comienzan apuntando al principio del arreglo.\n",
        "- Luego, se comienza a mover el índice j, en cada movimiento del índice vamos a revisar si el elemento es menor al pivote, si es que esto es así, aumentamos en uno el valor de i y realizamos un swap entre el elemento al cual esta apuntando i con el que apunta j.\n",
        "- Después, un swap de i con el pivote para mantener el invariante.\n",
        "- En caso de que esto no se cumpla, simplemente avanza el índice j sin que que se realice ninguna acción.\n",
        "- De esta forma, se va cumpliendo que todos los elementos a la izquierda de i son menores al pivote y los que están entre i y j son mayores al pivote.\n",
        "- Cuando el índice j llega al final del arreglo, se hace un swap de la posición i+1 con el pivote."
      ],
      "metadata": {
        "id": "wINDCMRF7k77"
      }
    },
    {
      "cell_type": "code",
      "source": [
        "# Código Lomuto\n",
        "def lomuto(arreglo, ini, fin, pos_pivote):\n",
        "  # 1: Inicializar variables\n",
        "  j = ini\n",
        "  i = ini\n",
        "  pivote = arreglo[pos_pivote]\n",
        "\n",
        "  # 2: mover pivote a mayor de los menores\n",
        "  arreglo[i], arreglo[pos_pivote] = arreglo[pos_pivote], arreglo[i]\n",
        "  pos_pivote = i\n",
        "  i += 1\n",
        "  j += 1\n",
        "\n",
        "  # 3: Iterar sobre arreglo\n",
        "  while j <= fin:\n",
        "    print(i, j)\n",
        "    if arreglo[j] > pivote:\n",
        "      j += 1\n",
        "    elif arreglo[j] <= pivote:\n",
        "      # Swap\n",
        "      arreglo[i], arreglo[j] = arreglo[j], arreglo[i]\n",
        "      # Swap con pivote\n",
        "      arreglo[i], arreglo[pos_pivote] = arreglo[pos_pivote], arreglo[i]\n",
        "      pos_pivote = i\n",
        "      i += 1\n",
        "      j += 1\n",
        "\n",
        "  return arreglo, pos_pivote"
      ],
      "metadata": {
        "id": "2ikg3cDgk4Sx"
      },
      "execution_count": null,
      "outputs": []
    },
    {
      "cell_type": "code",
      "source": [
        "#Test Lomuto\n",
        "def test_lomuto(a, pos_pivote):\n",
        "  print(\"Arreglo inicial\")\n",
        "  print(a)\n",
        "  print(\"Pivote: {}\".format(a[pos_pivote]))\n",
        "  print(\"Arreglo pivoteado:\")\n",
        "  lom, m = lomuto(a, 0, len(a)-1, pos_pivote)\n",
        "  print(lom)\n",
        "  p = lom[m]\n",
        "  print()\n",
        "  print(\"Partición OK\" if (m==0 or max(a[0:m])<=p) and (m==len(a) or min(a[m:])>=p)\n",
        "          else \"Error\")\n",
        "  print()\n",
        "\n",
        "a = np.arange(10)\n",
        "np.random.shuffle(a)\n",
        "pos_pivote = 0\n",
        "test_lomuto(a, pos_pivote)\n",
        "\n",
        "arrays = [\n",
        "    np.array([4, 9, 3, 8, 5, 6, 7, 2, 0, 1]),\n",
        "    np.array([2, 0, 1]),\n",
        "    np.array([2, 9, 0, 1, 1]),\n",
        "    np.array([4, 0, 7, 3, 2, 1, 8, 5, 9, 6]),\n",
        "    np.array([1, 5, 9, 4, 7, 2, 0, 3, 8, 6]),\n",
        "    np.array([8, 1, 0, 5, 4, 7, 6, 3, 9, 2]),\n",
        "    np.array([9, 5, 3, 4, 6, 2, 0, 7, 8, 1]),\n",
        "    np.array([1, 2, 0]),\n",
        "    np.array([8, 1, 0, 5, 4, 7, 6, 3, 9, 2])\n",
        "]\n",
        "pivotes = [\n",
        "    0,\n",
        "    2,\n",
        "    3,\n",
        "    0,\n",
        "    0,\n",
        "    0,\n",
        "    0,\n",
        "    1,\n",
        "    5\n",
        "]\n",
        "\n",
        "for array, pivote in zip(arrays, pivotes):\n",
        "  test_lomuto(array, pivote)"
      ],
      "metadata": {
        "colab": {
          "base_uri": "https://localhost:8080/"
        },
        "id": "saL52WAKlTMU",
        "outputId": "6f5e54b8-0950-49bf-b53e-d210cdebd243"
      },
      "execution_count": null,
      "outputs": [
        {
          "output_type": "stream",
          "name": "stdout",
          "text": [
            "Arreglo inicial\n",
            "[3 6 4 9 7 2 1 0 5 8]\n",
            "Pivote: 3\n",
            "Arreglo pivoteado:\n",
            "1 1\n",
            "1 2\n",
            "1 3\n",
            "1 4\n",
            "1 5\n",
            "2 6\n",
            "3 7\n",
            "4 8\n",
            "4 9\n",
            "[2 1 0 3 7 6 4 9 5 8]\n",
            "\n",
            "Partición OK\n",
            "\n",
            "Arreglo inicial\n",
            "[4 9 3 8 5 6 7 2 0 1]\n",
            "Pivote: 4\n",
            "Arreglo pivoteado:\n",
            "1 1\n",
            "1 2\n",
            "2 3\n",
            "2 4\n",
            "2 5\n",
            "2 6\n",
            "2 7\n",
            "3 8\n",
            "4 9\n",
            "[3 2 0 1 4 6 7 9 8 5]\n",
            "\n",
            "Partición OK\n",
            "\n",
            "Arreglo inicial\n",
            "[2 0 1]\n",
            "Pivote: 1\n",
            "Arreglo pivoteado:\n",
            "1 1\n",
            "2 2\n",
            "[0 1 2]\n",
            "\n",
            "Partición OK\n",
            "\n",
            "Arreglo inicial\n",
            "[2 9 0 1 1]\n",
            "Pivote: 1\n",
            "Arreglo pivoteado:\n",
            "1 1\n",
            "1 2\n",
            "2 3\n",
            "2 4\n",
            "[0 1 1 2 9]\n",
            "\n",
            "Partición OK\n",
            "\n",
            "Arreglo inicial\n",
            "[4 0 7 3 2 1 8 5 9 6]\n",
            "Pivote: 4\n",
            "Arreglo pivoteado:\n",
            "1 1\n",
            "2 2\n",
            "2 3\n",
            "3 4\n",
            "4 5\n",
            "5 6\n",
            "5 7\n",
            "5 8\n",
            "5 9\n",
            "[0 3 2 1 4 7 8 5 9 6]\n",
            "\n",
            "Partición OK\n",
            "\n",
            "Arreglo inicial\n",
            "[1 5 9 4 7 2 0 3 8 6]\n",
            "Pivote: 1\n",
            "Arreglo pivoteado:\n",
            "1 1\n",
            "1 2\n",
            "1 3\n",
            "1 4\n",
            "1 5\n",
            "1 6\n",
            "2 7\n",
            "2 8\n",
            "2 9\n",
            "[0 1 9 4 7 2 5 3 8 6]\n",
            "\n",
            "Partición OK\n",
            "\n",
            "Arreglo inicial\n",
            "[8 1 0 5 4 7 6 3 9 2]\n",
            "Pivote: 8\n",
            "Arreglo pivoteado:\n",
            "1 1\n",
            "2 2\n",
            "3 3\n",
            "4 4\n",
            "5 5\n",
            "6 6\n",
            "7 7\n",
            "8 8\n",
            "8 9\n",
            "[1 0 5 4 7 6 3 2 8 9]\n",
            "\n",
            "Partición OK\n",
            "\n",
            "Arreglo inicial\n",
            "[9 5 3 4 6 2 0 7 8 1]\n",
            "Pivote: 9\n",
            "Arreglo pivoteado:\n",
            "1 1\n",
            "2 2\n",
            "3 3\n",
            "4 4\n",
            "5 5\n",
            "6 6\n",
            "7 7\n",
            "8 8\n",
            "9 9\n",
            "[5 3 4 6 2 0 7 8 1 9]\n",
            "\n",
            "Partición OK\n",
            "\n",
            "Arreglo inicial\n",
            "[1 2 0]\n",
            "Pivote: 2\n",
            "Arreglo pivoteado:\n",
            "1 1\n",
            "2 2\n",
            "[1 0 2]\n",
            "\n",
            "Partición OK\n",
            "\n",
            "Arreglo inicial\n",
            "[8 1 0 5 4 7 6 3 9 2]\n",
            "Pivote: 7\n",
            "Arreglo pivoteado:\n",
            "1 1\n",
            "2 2\n",
            "3 3\n",
            "4 4\n",
            "5 5\n",
            "5 6\n",
            "6 7\n",
            "7 8\n",
            "7 9\n",
            "[1 0 5 4 6 3 2 7 9 8]\n",
            "\n",
            "Partición OK\n",
            "\n"
          ]
        }
      ]
    },
    {
      "cell_type": "markdown",
      "source": [
        "---\n",
        "## **P3. Suma Objetivo (Propuesto)**"
      ],
      "metadata": {
        "id": "8oBnjiNRS5Ov"
      }
    },
    {
      "cell_type": "markdown",
      "source": [
        "Dado un arreglo ordenado ascendente con $n$ números enteros diferentes y un entero $T$, se pide encontrar dos números cuya suma sea exactamente $T$ y retornar sus índices. En caso de que esta tupla no exista, se debería retornar $(-1, -1)$.\n",
        "\n",
        "Para esto construya una función: ``` sumaObjetivo(arr, T)```"
      ],
      "metadata": {
        "id": "-f6D8IX1zZKF"
      }
    },
    {
      "cell_type": "markdown",
      "source": [
        "*Solución* :\n",
        "\n",
        "Podemos entender este problema como una busqueda dentro del arreglo. Entonces mientras existan elementos en el arreglo, quedan pares de números por revisar. Por lo que podemos plantear la idea que hasta el momento ningún par comparado ha dado como suma T. Esto nos permitirá establecer el invariante.\n",
        "\n",
        "\n",
        "**Invariante**\n",
        "* Mientras $i < j$, no hay ningún par compuesto de un elemento de $A[0..i-1]$ y un elemento de $A[j-1...n-1]$ que su suma sea T.\n",
        "\n",
        "**Condiciones Iniciales**\n",
        "\n",
        "* $i = 0$\n",
        "* $j = n - 1$\n",
        "\n",
        "**Condición de termino**\n",
        "\n",
        "* $i > j$ dado que no quedan elementos por comparar.\n",
        "* $i = j$ se llegó a un mismo elemento, por lo cual no existen pares de números.\n",
        "\n",
        "\n"
      ],
      "metadata": {
        "id": "LCO9ZMCVTlEL"
      }
    },
    {
      "cell_type": "code",
      "source": [
        "def sumaobjetivo(arr, T):\n",
        "  i = 0;\n",
        "  j = len(arr)-1\n",
        "  while i < j:\n",
        "     suma = arr[i] + arr[j]\n",
        "     if suma == T:\n",
        "        return i, j\n",
        "     elif suma < T:\n",
        "        i +=1\n",
        "     elif suma > T:\n",
        "        j -=1\n",
        "  return -1, -1"
      ],
      "metadata": {
        "id": "HnvZpWrhgV5g"
      },
      "execution_count": null,
      "outputs": []
    },
    {
      "cell_type": "code",
      "source": [
        "a = np.array([-69, 0, 7 , 9, 42, 70, 90, 271, 314,400])\n",
        "\n",
        "print(sumaobjetivo(a,1))\n",
        "print(sumaobjetivo(a,97))\n",
        "print(sumaobjetivo(a,84))"
      ],
      "metadata": {
        "colab": {
          "base_uri": "https://localhost:8080/"
        },
        "id": "ThGiK0oagXnF",
        "outputId": "63829796-46c3-4306-c367-01c1f1629071"
      },
      "execution_count": null,
      "outputs": [
        {
          "output_type": "stream",
          "name": "stdout",
          "text": [
            "(0, 5)\n",
            "(2, 6)\n",
            "(-1, -1)\n"
          ]
        }
      ]
    }
  ],
  "metadata": {
    "colab": {
      "provenance": [],
      "include_colab_link": true
    },
    "kernelspec": {
      "display_name": "Python 3",
      "name": "python3"
    },
    "language_info": {
      "name": "python"
    }
  },
  "nbformat": 4,
  "nbformat_minor": 0
}