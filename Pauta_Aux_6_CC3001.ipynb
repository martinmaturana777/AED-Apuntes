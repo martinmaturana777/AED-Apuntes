{
  "nbformat": 4,
  "nbformat_minor": 0,
  "metadata": {
    "colab": {
      "provenance": [],
      "include_colab_link": true
    },
    "kernelspec": {
      "name": "python3",
      "display_name": "Python 3"
    },
    "language_info": {
      "name": "python"
    }
  },
  "cells": [
    {
      "cell_type": "markdown",
      "metadata": {
        "id": "view-in-github",
        "colab_type": "text"
      },
      "source": [
        "<a href=\"https://colab.research.google.com/github/martinmaturana777/AED-Apuntes/blob/main/Pauta_Aux_6_CC3001.ipynb\" target=\"_parent\"><img src=\"https://colab.research.google.com/assets/colab-badge.svg\" alt=\"Open In Colab\"/></a>"
      ]
    },
    {
      "cell_type": "code",
      "source": [
        "!pip install aed-utilities"
      ],
      "metadata": {
        "id": "f4vw3Cwyd0Fp",
        "colab": {
          "base_uri": "https://localhost:8080/"
        },
        "outputId": "54923802-a09e-4b09-8965-bc2cec8c11c9"
      },
      "execution_count": null,
      "outputs": [
        {
          "output_type": "stream",
          "name": "stdout",
          "text": [
            "Requirement already satisfied: aed-utilities in /usr/local/lib/python3.11/dist-packages (0.5.6)\n",
            "Requirement already satisfied: validators in /usr/local/lib/python3.11/dist-packages (from aed-utilities) (0.35.0)\n",
            "Requirement already satisfied: beautifulsoup4 in /usr/local/lib/python3.11/dist-packages (from aed-utilities) (4.13.4)\n",
            "Requirement already satisfied: soupsieve>1.2 in /usr/local/lib/python3.11/dist-packages (from beautifulsoup4->aed-utilities) (2.7)\n",
            "Requirement already satisfied: typing-extensions>=4.0.0 in /usr/local/lib/python3.11/dist-packages (from beautifulsoup4->aed-utilities) (4.14.0)\n"
          ]
        }
      ]
    },
    {
      "cell_type": "code",
      "source": [
        "import numpy as np\n",
        "import aed_utilities as aed"
      ],
      "metadata": {
        "id": "WPcLza16XvM4"
      },
      "execution_count": null,
      "outputs": []
    },
    {
      "cell_type": "markdown",
      "source": [
        "# Pauta Auxiliar 6: Heap y Busqueda Binaria\n",
        "\n",
        "**Auxiliares: Valentina Alarcón Yañez, Antonia G. Calvo, Cristián Llull, Raimundo Lorca Correa, Samuel Chávez Fierro<br>\n",
        "Profesores: Nelson Baloian, Iván Sipirán, Patricio Poblete<br>\n",
        "Curso: CC3001 Algoritmos y Estructuras de Datos**\n",
        "\n"
      ],
      "metadata": {
        "id": "92NDVBQ4xAj3"
      }
    },
    {
      "cell_type": "markdown",
      "source": [
        "# P1: Heap con método \"modificar\" (Ejercicio 5.2)"
      ],
      "metadata": {
        "id": "TUEhVkXqshPQ"
      }
    },
    {
      "cell_type": "markdown",
      "source": [
        "Agregue a la clase Heap un método ``` modificar(k,x)``` que al ser invocado, cambie la prioridad del elemento del casillero k, dándole como nuevo valor x y asegurando que el heap siga cumpliendo las restricciones de orden. Esta operación debe funcionar en tiempo  O(log n)  en el peor caso."
      ],
      "metadata": {
        "id": "_VBLp0bfwXtF"
      }
    },
    {
      "cell_type": "code",
      "source": [
        "#Clase Heap vista en el apunte.\n",
        "\n",
        "def trepar(a,j): # El elemento a[j] trepa hasta su nivel de prioridad\n",
        "    while j>=1 and a[j]>a[(j-1)//2]:\n",
        "        (a[j],a[(j-1)//2])=(a[(j-1)//2],a[j]) # intercambiamos con el padre\n",
        "        j=(j-1)//2 # subimos al lugar del padre\n",
        "\n",
        "def hundir(a,j,n): # El elemento a[j] se hunde hasta su nivel de prioridad\n",
        "    while 2*j+1<n: # mientras tenga al menos 1 hijo\n",
        "        k=2*j+1 # el hijo izquierdo\n",
        "        if k+1<n and a[k+1]>a[k]: # el hijo derecho existe y es mayor\n",
        "            k+=1\n",
        "        if a[j]>=a[k]: # tiene mejor prioridad que ambos hijos\n",
        "            break\n",
        "        (a[j],a[k])=(a[k],a[j]) # se intercambia con el mayor de los hijos\n",
        "        j=k # bajamos al lugar del mayor de los hijos\n",
        "\n",
        "class Heap:\n",
        "    def __init__(self,maxn=100):\n",
        "        self.a=np.zeros(maxn)\n",
        "        self.n=0\n",
        "    def insert(self,x):\n",
        "        assert self.n<len(self.a)\n",
        "        self.a[self.n]=x\n",
        "        trepar(self.a,self.n)\n",
        "        self.n+=1\n",
        "    def extract_max(self):\n",
        "        assert self.n>0\n",
        "        x=self.a[0] # esta variable lleva el máximo, el casillero 0 queda vacante\n",
        "        self.n-=1   # achicamos el heap\n",
        "        self.a[0]=self.a[self.n] # movemos el elemento sobrante hacia el casillero vacante\n",
        "        hundir(self.a,0,self.n)\n",
        "        return x\n",
        "    def imprimir(self):\n",
        "        print(self.a[0:self.n])\n",
        "    #funcion a crear.\n",
        "    def modificar(self, k, x): #Implementar esta función\n",
        "        b=self.a[k]\n",
        "        self.a[k]=x\n",
        "        if b>x:\n",
        "          hundir(self.a,k,self.n)\n",
        "        else:\n",
        "          trepar(self.a,k)\n"
      ],
      "metadata": {
        "id": "6RtAWG6tc41q"
      },
      "execution_count": null,
      "outputs": []
    },
    {
      "cell_type": "code",
      "source": [
        "# Revisión\n",
        "\n",
        "a=Heap(20)\n",
        "a.insert(55)\n",
        "a.insert(50)\n",
        "a.insert(70)\n",
        "a.insert(12)\n",
        "a.insert(36)\n",
        "a.insert(10)\n",
        "a.insert(21)\n",
        "a.insert(24)\n",
        "a.insert(20)\n",
        "a.insert(62)\n",
        "a.imprimir()\n",
        "a.modificar(4,65)\n",
        "a.imprimir()\n",
        "a.modificar(3,15)\n",
        "a.imprimir()"
      ],
      "metadata": {
        "id": "_mLRV2Kwhtwr",
        "outputId": "e2cc9f4c-bc42-4d6c-9232-8b90585344fb",
        "colab": {
          "base_uri": "https://localhost:8080/"
        }
      },
      "execution_count": null,
      "outputs": [
        {
          "output_type": "stream",
          "name": "stdout",
          "text": [
            "[70. 62. 55. 24. 50. 10. 21. 12. 20. 36.]\n",
            "[70. 65. 55. 24. 62. 10. 21. 12. 20. 36.]\n",
            "[70. 65. 55. 20. 62. 10. 21. 12. 15. 36.]\n"
          ]
        }
      ]
    },
    {
      "cell_type": "markdown",
      "source": [
        "# P2: Chequear ABB\n",
        "\n"
      ],
      "metadata": {
        "id": "qs0uW5IRsZnY"
      }
    },
    {
      "cell_type": "markdown",
      "source": [
        "Los *Á* rboles de *B* úsqueda *B* inaria son árboles binarios (es decir, que cada nodo tiene a lo más dos hijos) que cumplen la siguiente propiedad: dado un nodo padre, todos los nodos descendientes a la izquierda tienen valor menor que el padre, y todos los nodos descendientes a la derecha tienen valor mayor que el padre."
      ],
      "metadata": {
        "id": "d-dbuylDIIRV"
      }
    },
    {
      "cell_type": "markdown",
      "source": [
        "Se pide que programe diferentes métodos en la clase Árbol (que es una implementación de\n",
        "árbol binario), que le permita verificar si la estructura es un ABB o no.\n",
        "Los métodos que debe programar son los siguientes:\n",
        "\n",
        "+ Un método `check_order` que revisa que en el árbol, los nodos estén ordenados de menor a mayor, de izquierda a derecha. Esto se puede hacer realizando un recorrido en postorden o en inorden.\n",
        "+ Otro método `check_abb` que verifica que en el árbol, todos los nodos del subárbol izquierdo de un nodo sean menores que éste, y al mismo tiempo, todos los nodos del subárbol derecho son mayores que él. Esto se puede realizar chequeando por intervalos. Le puede ser útil saber los lı́mites del intervalo en cada subárbol. Para ello, utilice la clase Árbol definida en los apuntes.\n",
        "\n"
      ],
      "metadata": {
        "id": "lL8yozU-w03k"
      }
    },
    {
      "cell_type": "code",
      "source": [
        "class Nodo:\n",
        "    def __init__(self, izq, info, der):\n",
        "        self.izq = izq\n",
        "        self.info = info\n",
        "        self.der = der\n",
        "\n",
        "class Arbol:\n",
        "    def __init__(self, raiz=None):\n",
        "        self.raiz = raiz\n",
        "\n",
        "    def dibujar(self):\n",
        "        btd = aed.BinaryTreeDrawer(fieldData=\"info\", fieldLeft=\"izq\", fieldRight=\"der\")\n",
        "        btd.draw_tree(self, \"raiz\")"
      ],
      "metadata": {
        "id": "93WR3x5agXwK"
      },
      "execution_count": null,
      "outputs": []
    },
    {
      "cell_type": "code",
      "source": [
        "# función check_order\n",
        "\n",
        "def inorden(n):\n",
        "    if n is None:\n",
        "        return []\n",
        "    return inorden(n.izq) + [n.info] + inorden(n.der)\n",
        "\n",
        "def check_order(nodo):\n",
        "    valores = inorden(nodo)\n",
        "\n",
        "    for i in range(len(valores)-1):\n",
        "        if valores[i] >= valores[i+1]:\n",
        "            return False\n",
        "    return True"
      ],
      "metadata": {
        "id": "ut2pkIfUhgfr"
      },
      "execution_count": null,
      "outputs": []
    },
    {
      "cell_type": "code",
      "source": [
        "\n",
        "def checkABB_aux(nodo, min_val, max_val):\n",
        "    #Caso base\n",
        "    if nodo is None:\n",
        "      return True\n",
        "    #Si el nodo es menor al mínimo permitido\n",
        "    if nodo.info < min_val:\n",
        "      return False\n",
        "    #Si el nodo es mayor al máximo permitido\n",
        "    if nodo.info > max_val:\n",
        "      return False\n",
        "    #Caso recursivo\n",
        "    return checkABB_aux(nodo.izq, min_val, nodo.info) and checkABB_aux(nodo.der, nodo.info, max_val)\n",
        "\n",
        "def checkABB(nodo):\n",
        "  return checkABB_aux(nodo,0 ,2**32 - 1)"
      ],
      "metadata": {
        "id": "JvQfMuQyhilK"
      },
      "execution_count": null,
      "outputs": []
    },
    {
      "cell_type": "code",
      "source": [
        "no_abb = Arbol(Nodo(Nodo(Nodo(None,1,None),2, Nodo(None,3,None)),5, Nodo(Nodo(None,4,None),6,Nodo(None,7,None))))\n",
        "abb = Arbol(Nodo(Nodo(Nodo(None,1,None),2, Nodo(None,3,None)),4, Nodo(Nodo(None,5,None),6,Nodo(None,7,None))))"
      ],
      "metadata": {
        "id": "zrezllh0kjc8"
      },
      "execution_count": null,
      "outputs": []
    },
    {
      "cell_type": "code",
      "source": [
        "no_abb.dibujar()\n",
        "abb.dibujar()"
      ],
      "metadata": {
        "id": "a5dooj2EklaA",
        "colab": {
          "base_uri": "https://localhost:8080/",
          "height": 373
        },
        "outputId": "5904648a-8589-4a09-b5f3-d62d41066021"
      },
      "execution_count": null,
      "outputs": [
        {
          "output_type": "display_data",
          "data": {
            "text/plain": [
              "<IPython.core.display.SVG object>"
            ],
            "image/svg+xml": "<svg xmlns=\"http://www.w3.org/2000/svg\" xmlns:xlink=\"http://www.w3.org/1999/xlink\" width=\"246pt\" height=\"130pt\" viewBox=\"0.00 0.00 245.60 130.40\">\n<g id=\"graph0\" class=\"graph\" transform=\"scale(1 1) rotate(0) translate(4 126.4)\">\n<title>Arbol</title>\n<polygon fill=\"white\" stroke=\"transparent\" points=\"-4,4 -4,-126.4 241.6,-126.4 241.6,4 -4,4\"/>\n<!-- node0 -->\n<g id=\"node1\" class=\"node\">\n<title>node0</title>\n<ellipse fill=\"none\" stroke=\"black\" cx=\"18\" cy=\"-18\" rx=\"18\" ry=\"18\"/>\n<text text-anchor=\"middle\" x=\"18\" y=\"-14.3\" font-family=\"Times,serif\" font-size=\"14.00\">1</text>\n</g>\n<!-- node2 -->\n<g id=\"node2\" class=\"node\">\n<title>node2</title>\n<ellipse fill=\"none\" stroke=\"black\" cx=\"51.6\" cy=\"-61.2\" rx=\"18\" ry=\"18\"/>\n<text text-anchor=\"middle\" x=\"51.6\" y=\"-57.5\" font-family=\"Times,serif\" font-size=\"14.00\">2</text>\n</g>\n<!-- node2&#45;&#45;node0 -->\n<g id=\"edge2\" class=\"edge\">\n<title>node2--node0</title>\n<path fill=\"none\" stroke=\"black\" d=\"M40.22,-46.57C36.65,-41.97 32.7,-36.9 29.14,-32.32\"/>\n</g>\n<!-- node1 -->\n<g id=\"node3\" class=\"node\">\n<title>node1</title>\n<ellipse fill=\"none\" stroke=\"black\" cx=\"85.2\" cy=\"-18\" rx=\"18\" ry=\"18\"/>\n<text text-anchor=\"middle\" x=\"85.2\" y=\"-14.3\" font-family=\"Times,serif\" font-size=\"14.00\">3</text>\n</g>\n<!-- node2&#45;&#45;node1 -->\n<g id=\"edge3\" class=\"edge\">\n<title>node2--node1</title>\n<path fill=\"none\" stroke=\"black\" d=\"M62.98,-46.57C66.55,-41.97 70.5,-36.9 74.06,-32.32\"/>\n</g>\n<!-- node6 -->\n<g id=\"node4\" class=\"node\">\n<title>node6</title>\n<ellipse fill=\"none\" stroke=\"black\" cx=\"118.8\" cy=\"-104.4\" rx=\"18\" ry=\"18\"/>\n<text text-anchor=\"middle\" x=\"118.8\" y=\"-100.7\" font-family=\"Times,serif\" font-size=\"14.00\">5</text>\n</g>\n<!-- node6&#45;&#45;node2 -->\n<g id=\"edge1\" class=\"edge\">\n<title>node6--node2</title>\n<path fill=\"none\" stroke=\"black\" d=\"M103.55,-94.6C92.55,-87.53 77.77,-78.02 66.79,-70.96\"/>\n</g>\n<!-- node5 -->\n<g id=\"node6\" class=\"node\">\n<title>node5</title>\n<ellipse fill=\"none\" stroke=\"black\" cx=\"186\" cy=\"-61.2\" rx=\"18\" ry=\"18\"/>\n<text text-anchor=\"middle\" x=\"186\" y=\"-57.5\" font-family=\"Times,serif\" font-size=\"14.00\">6</text>\n</g>\n<!-- node6&#45;&#45;node5 -->\n<g id=\"edge4\" class=\"edge\">\n<title>node6--node5</title>\n<path fill=\"none\" stroke=\"black\" d=\"M134.05,-94.6C145.05,-87.53 159.83,-78.02 170.81,-70.96\"/>\n</g>\n<!-- node3 -->\n<g id=\"node5\" class=\"node\">\n<title>node3</title>\n<ellipse fill=\"none\" stroke=\"black\" cx=\"152.4\" cy=\"-18\" rx=\"18\" ry=\"18\"/>\n<text text-anchor=\"middle\" x=\"152.4\" y=\"-14.3\" font-family=\"Times,serif\" font-size=\"14.00\">4</text>\n</g>\n<!-- node5&#45;&#45;node3 -->\n<g id=\"edge5\" class=\"edge\">\n<title>node5--node3</title>\n<path fill=\"none\" stroke=\"black\" d=\"M174.62,-46.57C171.05,-41.97 167.1,-36.9 163.54,-32.32\"/>\n</g>\n<!-- node4 -->\n<g id=\"node7\" class=\"node\">\n<title>node4</title>\n<ellipse fill=\"none\" stroke=\"black\" cx=\"219.6\" cy=\"-18\" rx=\"18\" ry=\"18\"/>\n<text text-anchor=\"middle\" x=\"219.6\" y=\"-14.3\" font-family=\"Times,serif\" font-size=\"14.00\">7</text>\n</g>\n<!-- node5&#45;&#45;node4 -->\n<g id=\"edge6\" class=\"edge\">\n<title>node5--node4</title>\n<path fill=\"none\" stroke=\"black\" d=\"M197.38,-46.57C200.95,-41.97 204.9,-36.9 208.46,-32.32\"/>\n</g>\n</g>\n</svg>"
          },
          "metadata": {}
        },
        {
          "output_type": "display_data",
          "data": {
            "text/plain": [
              "<IPython.core.display.SVG object>"
            ],
            "image/svg+xml": "<svg xmlns=\"http://www.w3.org/2000/svg\" xmlns:xlink=\"http://www.w3.org/1999/xlink\" width=\"246pt\" height=\"130pt\" viewBox=\"0.00 0.00 245.60 130.40\">\n<g id=\"graph0\" class=\"graph\" transform=\"scale(1 1) rotate(0) translate(4 126.4)\">\n<title>Arbol</title>\n<polygon fill=\"white\" stroke=\"transparent\" points=\"-4,4 -4,-126.4 241.6,-126.4 241.6,4 -4,4\"/>\n<!-- node0 -->\n<g id=\"node1\" class=\"node\">\n<title>node0</title>\n<ellipse fill=\"none\" stroke=\"black\" cx=\"18\" cy=\"-18\" rx=\"18\" ry=\"18\"/>\n<text text-anchor=\"middle\" x=\"18\" y=\"-14.3\" font-family=\"Times,serif\" font-size=\"14.00\">1</text>\n</g>\n<!-- node2 -->\n<g id=\"node2\" class=\"node\">\n<title>node2</title>\n<ellipse fill=\"none\" stroke=\"black\" cx=\"51.6\" cy=\"-61.2\" rx=\"18\" ry=\"18\"/>\n<text text-anchor=\"middle\" x=\"51.6\" y=\"-57.5\" font-family=\"Times,serif\" font-size=\"14.00\">2</text>\n</g>\n<!-- node2&#45;&#45;node0 -->\n<g id=\"edge2\" class=\"edge\">\n<title>node2--node0</title>\n<path fill=\"none\" stroke=\"black\" d=\"M40.22,-46.57C36.65,-41.97 32.7,-36.9 29.14,-32.32\"/>\n</g>\n<!-- node1 -->\n<g id=\"node3\" class=\"node\">\n<title>node1</title>\n<ellipse fill=\"none\" stroke=\"black\" cx=\"85.2\" cy=\"-18\" rx=\"18\" ry=\"18\"/>\n<text text-anchor=\"middle\" x=\"85.2\" y=\"-14.3\" font-family=\"Times,serif\" font-size=\"14.00\">3</text>\n</g>\n<!-- node2&#45;&#45;node1 -->\n<g id=\"edge3\" class=\"edge\">\n<title>node2--node1</title>\n<path fill=\"none\" stroke=\"black\" d=\"M62.98,-46.57C66.55,-41.97 70.5,-36.9 74.06,-32.32\"/>\n</g>\n<!-- node6 -->\n<g id=\"node4\" class=\"node\">\n<title>node6</title>\n<ellipse fill=\"none\" stroke=\"black\" cx=\"118.8\" cy=\"-104.4\" rx=\"18\" ry=\"18\"/>\n<text text-anchor=\"middle\" x=\"118.8\" y=\"-100.7\" font-family=\"Times,serif\" font-size=\"14.00\">4</text>\n</g>\n<!-- node6&#45;&#45;node2 -->\n<g id=\"edge1\" class=\"edge\">\n<title>node6--node2</title>\n<path fill=\"none\" stroke=\"black\" d=\"M103.55,-94.6C92.55,-87.53 77.77,-78.02 66.79,-70.96\"/>\n</g>\n<!-- node5 -->\n<g id=\"node6\" class=\"node\">\n<title>node5</title>\n<ellipse fill=\"none\" stroke=\"black\" cx=\"186\" cy=\"-61.2\" rx=\"18\" ry=\"18\"/>\n<text text-anchor=\"middle\" x=\"186\" y=\"-57.5\" font-family=\"Times,serif\" font-size=\"14.00\">6</text>\n</g>\n<!-- node6&#45;&#45;node5 -->\n<g id=\"edge4\" class=\"edge\">\n<title>node6--node5</title>\n<path fill=\"none\" stroke=\"black\" d=\"M134.05,-94.6C145.05,-87.53 159.83,-78.02 170.81,-70.96\"/>\n</g>\n<!-- node3 -->\n<g id=\"node5\" class=\"node\">\n<title>node3</title>\n<ellipse fill=\"none\" stroke=\"black\" cx=\"152.4\" cy=\"-18\" rx=\"18\" ry=\"18\"/>\n<text text-anchor=\"middle\" x=\"152.4\" y=\"-14.3\" font-family=\"Times,serif\" font-size=\"14.00\">5</text>\n</g>\n<!-- node5&#45;&#45;node3 -->\n<g id=\"edge5\" class=\"edge\">\n<title>node5--node3</title>\n<path fill=\"none\" stroke=\"black\" d=\"M174.62,-46.57C171.05,-41.97 167.1,-36.9 163.54,-32.32\"/>\n</g>\n<!-- node4 -->\n<g id=\"node7\" class=\"node\">\n<title>node4</title>\n<ellipse fill=\"none\" stroke=\"black\" cx=\"219.6\" cy=\"-18\" rx=\"18\" ry=\"18\"/>\n<text text-anchor=\"middle\" x=\"219.6\" y=\"-14.3\" font-family=\"Times,serif\" font-size=\"14.00\">7</text>\n</g>\n<!-- node5&#45;&#45;node4 -->\n<g id=\"edge6\" class=\"edge\">\n<title>node5--node4</title>\n<path fill=\"none\" stroke=\"black\" d=\"M197.38,-46.57C200.95,-41.97 204.9,-36.9 208.46,-32.32\"/>\n</g>\n</g>\n</svg>"
          },
          "metadata": {}
        }
      ]
    },
    {
      "cell_type": "code",
      "source": [
        "print(\"Arbol incorrecto:\", checkABB(no_abb.raiz))\n",
        "print(\"Arbol correcto:\", checkABB(abb.raiz))"
      ],
      "metadata": {
        "id": "u1WlnQl9knvc",
        "colab": {
          "base_uri": "https://localhost:8080/"
        },
        "outputId": "97ee0b5b-2109-4611-fa98-47d297aa4b3f"
      },
      "execution_count": null,
      "outputs": [
        {
          "output_type": "stream",
          "name": "stdout",
          "text": [
            "Arbol incorrecto: False\n",
            "Arbol correcto: True\n"
          ]
        }
      ]
    },
    {
      "cell_type": "markdown",
      "source": [
        "# P3: Transpose y Move to Front\n",
        "\n",
        "Tamara y Mariana quieren guardar más datos de lo recomendado para un diccionario tal como\n",
        "se vio en cátedra. Además, saben que necesitarán ciertos valores más seguido que otros.\n",
        "Tamara plantea como solución que al buscar un elemento, este luego se mueva uno más cerca del\n",
        "inicio, para poder acceder más rápido la siguiente vez que se busque.\n",
        "\n",
        "* Implemente la idea de Tamara en una función ```transpose(x, a, n)```. Esta debe buscar 𝑥\n",
        "dentro del arreglo 𝑎 que contiene 𝑛 elementos. Si se encuentra el elemento, este se mueve una\n",
        "posición más adelante, lo que llamamos transposición. En caso contrario, se debe agregar 𝑥 al\n",
        "final del arreglo y luego realizar la transposición.\n",
        "\n",
        "Mariana ve la proposición de Tamara y decide formular una propia. En vez de mover el elemento\n",
        "buscado una posición más cerca del inicio, Mariana propone moverlo al frente del arreglo para\n",
        "acceder más rápido.\n",
        "\n",
        " * Repita lo anterior pero ahora implementando la idea de Mariana en una función\n",
        "```move_to_front(x, a, n)```\n"
      ],
      "metadata": {
        "id": "3d56ps9nXU98"
      }
    },
    {
      "cell_type": "code",
      "source": [
        "def transpose(x, a, n):\n",
        " buscar 𝑥 dentro del arreglo 𝑎 que contiene 𝑛 elementos. Si se encuentra el elemento, este se mueve una posición más adelante"
      ],
      "metadata": {
        "id": "9LPMji1FgFA5"
      },
      "execution_count": null,
      "outputs": []
    },
    {
      "cell_type": "code",
      "source": [
        "def move_to_front(x, a, n):\n",
        "  i = 0\n",
        "  # Incrementamos i hasta que sea igual a n, o hasta encontrar x\n",
        "  while i < n and a[i] != x:\n",
        "    i += 1\n",
        "\n",
        "  # Si no encontramos x, lo agregamos al final\n",
        "  if i == n:\n",
        "    a[n] = x\n",
        "\n",
        "  # Si x no se encuentra en la primera posición, lo movemos al principio\n",
        "  while 0 < i:\n",
        "    a[i-1], a[i] = a[i], a[i-1]\n",
        "    i -= 1"
      ],
      "metadata": {
        "id": "Q__st_lAgGG_"
      },
      "execution_count": null,
      "outputs": []
    },
    {
      "cell_type": "markdown",
      "source": [
        "# P4: Gatito en el árbol (Propuesto)\n",
        "\n",
        "Al gatito de Alan le gusta trepar al árbol binario de su jardín. El problema es que todavía no\n",
        "sabe cómo bajarse de ahí, así que siempre tienen que buscarlo. Debido a lo frondoso del árbol,\n",
        "no tiene más remedio que buscarlo rama por rama (nodo por nodo). Como Alan quiere subir lo\n",
        "menos posible al realizar la búsqueda por temor a caer, cada vez que trepa una rama él quiere\n",
        "buscar todos los nodos en ese nivel (esto es una Búsqueda a lo ancho, BFS). Tu objetivo es ayudar\n",
        "a Alan a salvar su gatito del árbol.\n",
        "\n",
        "Los nodos del árbol se definen en la siguiente clase:"
      ],
      "metadata": {
        "id": "YU74uKhgd8gA"
      }
    },
    {
      "cell_type": "code",
      "source": [
        "class NodoG:\n",
        "  def __init__(self,val, gatito,izq = None, der = None):\n",
        "    self.val = str(val) + ' 😿' if gatito else str(val)\n",
        "    self.gatito = gatito #True si está el gatito, False si no\n",
        "    self.izq = izq\n",
        "    self.der = der\n",
        "#clase de arbol del curso\n",
        "class Arbol:\n",
        "    def __init__(self,raiz=None):\n",
        "        self.raiz=raiz\n",
        "    def dibujar(self):\n",
        "        btd = aed.BinaryTreeDrawer(fieldData=\"val\", fieldLeft=\"izq\", fieldRight=\"der\")\n",
        "        btd.draw_tree(self, \"raiz\")"
      ],
      "metadata": {
        "id": "UZLg4yZOeHM8"
      },
      "execution_count": null,
      "outputs": []
    },
    {
      "cell_type": "markdown",
      "source": [
        "Para bajar al gatito del árbol, utilice la clase Cola vista en clase, y cree un programa que muestre\n",
        "en pantalla los valores de los nodos que ha recorrido Alan hasta encontrar a su gatito, de izquierda\n",
        "a derecha en cada nivel. Por ejemplo, en el árbol de la figura, la salida sería: 42 78 15 27 49 4"
      ],
      "metadata": {
        "id": "W0YRzCkteyni"
      }
    },
    {
      "cell_type": "code",
      "source": [
        "#Función Cola del Curso\n",
        "class Cola:\n",
        "    def __init__(self):\n",
        "        self.q=[]\n",
        "    def enq(self,x):\n",
        "        self.q.insert(0,x)\n",
        "    def deq(self):\n",
        "        assert len(self.q)>0\n",
        "        return self.q.pop()\n",
        "    def is_empty(self):\n",
        "        return len(self.q)==0"
      ],
      "metadata": {
        "id": "MiuFlnKUe3zH"
      },
      "execution_count": null,
      "outputs": []
    },
    {
      "cell_type": "code",
      "source": [
        "#Creamos y dibujamos el árbol del enunciado\n",
        "\n",
        "arbol = Arbol(NodoG(42, False, NodoG(21, False, NodoG(15, False, NodoG(4, True, None, None), None),\n",
        "                                        NodoG(27, False, None, None)),NodoG(78, False, NodoG(49, False, None, NodoG(57, False, None, None)), None)))\n",
        "arbol.dibujar()"
      ],
      "metadata": {
        "id": "wmzkRaYOhU8i",
        "colab": {
          "base_uri": "https://localhost:8080/",
          "height": 254
        },
        "outputId": "242e5232-f420-4845-e248-dd6e936acee9"
      },
      "execution_count": null,
      "outputs": [
        {
          "output_type": "display_data",
          "data": {
            "text/plain": [
              "<IPython.core.display.SVG object>"
            ],
            "image/svg+xml": "<svg xmlns=\"http://www.w3.org/2000/svg\" xmlns:xlink=\"http://www.w3.org/1999/xlink\" width=\"313pt\" height=\"174pt\" viewBox=\"0.00 0.00 312.80 173.60\">\n<g id=\"graph0\" class=\"graph\" transform=\"scale(1 1) rotate(0) translate(4 169.6)\">\n<title>Arbol</title>\n<polygon fill=\"white\" stroke=\"transparent\" points=\"-4,4 -4,-169.6 308.8,-169.6 308.8,4 -4,4\"/>\n<!-- node0 -->\n<g id=\"node1\" class=\"node\">\n<title>node0</title>\n<ellipse fill=\"none\" stroke=\"black\" cx=\"18\" cy=\"-18\" rx=\"18\" ry=\"18\"/>\n<text text-anchor=\"middle\" x=\"18\" y=\"-14.3\" font-family=\"Times,serif\" font-size=\"14.00\">4 😿</text>\n</g>\n<!-- node1 -->\n<g id=\"node2\" class=\"node\">\n<title>node1</title>\n<ellipse fill=\"none\" stroke=\"black\" cx=\"51.6\" cy=\"-61.2\" rx=\"18\" ry=\"18\"/>\n<text text-anchor=\"middle\" x=\"51.6\" y=\"-57.5\" font-family=\"Times,serif\" font-size=\"14.00\">15</text>\n</g>\n<!-- node1&#45;&#45;node0 -->\n<g id=\"edge3\" class=\"edge\">\n<title>node1--node0</title>\n<path fill=\"none\" stroke=\"black\" d=\"M40.22,-46.57C36.65,-41.97 32.7,-36.9 29.14,-32.32\"/>\n</g>\n<!-- node3 -->\n<g id=\"node3\" class=\"node\">\n<title>node3</title>\n<ellipse fill=\"none\" stroke=\"black\" cx=\"102\" cy=\"-104.4\" rx=\"18\" ry=\"18\"/>\n<text text-anchor=\"middle\" x=\"102\" y=\"-100.7\" font-family=\"Times,serif\" font-size=\"14.00\">21</text>\n</g>\n<!-- node3&#45;&#45;node1 -->\n<g id=\"edge2\" class=\"edge\">\n<title>node3--node1</title>\n<path fill=\"none\" stroke=\"black\" d=\"M88.23,-92.6C81.12,-86.5 72.46,-79.08 65.36,-72.99\"/>\n</g>\n<!-- node2 -->\n<g id=\"node4\" class=\"node\">\n<title>node2</title>\n<ellipse fill=\"none\" stroke=\"black\" cx=\"135.6\" cy=\"-61.2\" rx=\"18\" ry=\"18\"/>\n<text text-anchor=\"middle\" x=\"135.6\" y=\"-57.5\" font-family=\"Times,serif\" font-size=\"14.00\">27</text>\n</g>\n<!-- node3&#45;&#45;node2 -->\n<g id=\"edge4\" class=\"edge\">\n<title>node3--node2</title>\n<path fill=\"none\" stroke=\"black\" d=\"M113.38,-89.77C116.95,-85.17 120.9,-80.1 124.46,-75.52\"/>\n</g>\n<!-- node7 -->\n<g id=\"node5\" class=\"node\">\n<title>node7</title>\n<ellipse fill=\"none\" stroke=\"black\" cx=\"169.2\" cy=\"-147.6\" rx=\"18\" ry=\"18\"/>\n<text text-anchor=\"middle\" x=\"169.2\" y=\"-143.9\" font-family=\"Times,serif\" font-size=\"14.00\">42</text>\n</g>\n<!-- node7&#45;&#45;node3 -->\n<g id=\"edge1\" class=\"edge\">\n<title>node7--node3</title>\n<path fill=\"none\" stroke=\"black\" d=\"M153.95,-137.8C142.95,-130.73 128.17,-121.22 117.19,-114.16\"/>\n</g>\n<!-- node6 -->\n<g id=\"node8\" class=\"node\">\n<title>node6</title>\n<ellipse fill=\"none\" stroke=\"black\" cx=\"286.8\" cy=\"-104.4\" rx=\"18\" ry=\"18\"/>\n<text text-anchor=\"middle\" x=\"286.8\" y=\"-100.7\" font-family=\"Times,serif\" font-size=\"14.00\">78</text>\n</g>\n<!-- node7&#45;&#45;node6 -->\n<g id=\"edge5\" class=\"edge\">\n<title>node7--node6</title>\n<path fill=\"none\" stroke=\"black\" d=\"M186.3,-141.32C208.6,-133.13 247.37,-118.88 269.68,-110.69\"/>\n</g>\n<!-- node5 -->\n<g id=\"node6\" class=\"node\">\n<title>node5</title>\n<ellipse fill=\"none\" stroke=\"black\" cx=\"219.6\" cy=\"-61.2\" rx=\"18\" ry=\"18\"/>\n<text text-anchor=\"middle\" x=\"219.6\" y=\"-57.5\" font-family=\"Times,serif\" font-size=\"14.00\">49</text>\n</g>\n<!-- node4 -->\n<g id=\"node7\" class=\"node\">\n<title>node4</title>\n<ellipse fill=\"none\" stroke=\"black\" cx=\"253.2\" cy=\"-18\" rx=\"18\" ry=\"18\"/>\n<text text-anchor=\"middle\" x=\"253.2\" y=\"-14.3\" font-family=\"Times,serif\" font-size=\"14.00\">57</text>\n</g>\n<!-- node5&#45;&#45;node4 -->\n<g id=\"edge7\" class=\"edge\">\n<title>node5--node4</title>\n<path fill=\"none\" stroke=\"black\" d=\"M230.98,-46.57C234.55,-41.97 238.5,-36.9 242.06,-32.32\"/>\n</g>\n<!-- node6&#45;&#45;node5 -->\n<g id=\"edge6\" class=\"edge\">\n<title>node6--node5</title>\n<path fill=\"none\" stroke=\"black\" d=\"M271.55,-94.6C260.55,-87.53 245.77,-78.02 234.79,-70.96\"/>\n</g>\n</g>\n</svg>"
          },
          "metadata": {}
        }
      ]
    },
    {
      "cell_type": "code",
      "source": [
        "def buscar_gatito(arbol):\n",
        "    q = Cola()                                 #Creamos una cola\n",
        "    q.enq(arbol.raiz)                          #Encolamos el nodo raiz en la cola\n",
        "    while not q.is_empty():                    #Iteramos hasta que la cola quede vacía\n",
        "        rama = q.deq()                         #Sacamos un Nodo de la cola\n",
        "        print(rama.val)\n",
        "        if rama.gatito:                        #Vemos si este Nodo contiene al gatito\n",
        "            break\n",
        "        if rama.izq:                           #Si no está el gatito, entonces vemo si existe la rama izquierda\n",
        "            q.enq(rama.izq)                      #Si existe un Nodo izquierdo lo encolamos en la cola\n",
        "        if rama.der:                           #Si no está el gatito, entonces vemo si existe la rama derecha\n",
        "            q.enq(rama.der)                    #Si existe un Nodo derecho lo encolamos en la cola"
      ],
      "metadata": {
        "id": "tlEKfZ7ohjf_"
      },
      "execution_count": null,
      "outputs": []
    },
    {
      "cell_type": "code",
      "source": [
        "#Vemos el ejemplo puesto en el enunciado\n",
        "buscar_gatito(arbol)"
      ],
      "metadata": {
        "id": "lf5DsefvhnNw",
        "colab": {
          "base_uri": "https://localhost:8080/"
        },
        "outputId": "1ab62aa3-e832-46d0-c8e3-3bd85721f3e9"
      },
      "execution_count": null,
      "outputs": [
        {
          "output_type": "stream",
          "name": "stdout",
          "text": [
            "42\n",
            "21\n",
            "78\n",
            "15\n",
            "27\n",
            "49\n",
            "4 😿\n"
          ]
        }
      ]
    }
  ]
}