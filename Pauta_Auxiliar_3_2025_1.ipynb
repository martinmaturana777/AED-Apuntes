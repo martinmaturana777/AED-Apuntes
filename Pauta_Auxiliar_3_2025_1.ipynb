{
  "nbformat": 4,
  "nbformat_minor": 0,
  "metadata": {
    "colab": {
      "provenance": [],
      "include_colab_link": true
    },
    "kernelspec": {
      "name": "python3",
      "display_name": "Python 3"
    },
    "language_info": {
      "name": "python"
    }
  },
  "cells": [
    {
      "cell_type": "markdown",
      "metadata": {
        "id": "view-in-github",
        "colab_type": "text"
      },
      "source": [
        "<a href=\"https://colab.research.google.com/github/martinmaturana777/AED-Apuntes/blob/main/Pauta_Auxiliar_3_2025_1.ipynb\" target=\"_parent\"><img src=\"https://colab.research.google.com/assets/colab-badge.svg\" alt=\"Open In Colab\"/></a>"
      ]
    },
    {
      "cell_type": "code",
      "source": [
        "import numpy as np"
      ],
      "metadata": {
        "id": "WPcLza16XvM4"
      },
      "execution_count": null,
      "outputs": []
    },
    {
      "cell_type": "markdown",
      "source": [
        "# Pauta Auxiliar 3: Dividir y Reinar, Ecuaciones de Recurrencia y Teorema Maestro\n",
        "\n",
        "**Auxiliares: Valentina Alarcón Yañez, Antonia G. Calvo, Cristián Llull, Raimundo Lorca Correa, Samuel Chavéz Fierro<br>\n",
        "Profesores: Nelson Baloian, Iván Sipirán, Patricio Poblete<br>\n",
        "Curso: CC3001 Algoritmos y Estructuras de Datos**\n",
        "\n"
      ],
      "metadata": {
        "id": "92NDVBQ4xAj3"
      }
    },
    {
      "cell_type": "markdown",
      "source": [
        "# Resumen Teorema Maestro\n",
        "\n",
        "El teorema maestro dice lo siguiente.\n",
        "Dada una ecuación de recurrencia del tipo $T(n) = pT(\\frac{n}{q}) + Cn^r$, la solución es:\n",
        "\n",
        "\\begin{align*}\n",
        "T(n) &= \\Theta(n^r) & \\text{ si } p < q^r \\\\\n",
        "T(n) &= \\Theta(n^rlog(n)) & \\text{ si } p = q^r \\\\\n",
        "T(n) &= \\Theta(n^{\\log_q{p}}) & \\text{ si } p > q^r \\\\\n",
        "\\end{align*}\n",
        "\n",
        "\n"
      ],
      "metadata": {
        "id": "vCMqIrVXNakF"
      }
    },
    {
      "cell_type": "markdown",
      "source": [
        "# Pregunta 1: Merge Sort"
      ],
      "metadata": {
        "id": "TUEhVkXqshPQ"
      }
    },
    {
      "cell_type": "markdown",
      "source": [
        "  Una forma de ordenar arreglos, que puede ser de las primeras que se les ocurran una vez comprendido el poder de la recursión, es dividir el problema en partes atómicas e ir ordenando estos sub-arreglos después de su llamada recursiva. En especifico:\n",
        "\n",
        "  + Dividimos los arreglos en mitades y hacemos una llamada recursiva ordenando  los sub-arreglos\n",
        "  + Hacemos una combinación (merge) de los sub-arreglos ordenados, tomando una lista pivote, iteramos sobre la otra lista\n",
        "  + Una vez ordenado, podemos retornar nuestra llamada recursiva\n",
        "\n",
        "  ![image](https://upload.wikimedia.org/wikipedia/commons/c/cc/Merge-sort-example-300px.gif)\n",
        "\n",
        "  a) Dibuje con un diagrama el cómo podría verse el desarrollo del problema partiendo con el arreglo [6,5,3,1,8,7,2,4]\n",
        "\n",
        "  b) Asuma que existe una función que realiza merge entre dos arreglos, y programe `mergeSort(arr, left, right)`.  \n",
        "  \n"
      ],
      "metadata": {
        "id": "RGf3SQM9Mk5Y"
      }
    },
    {
      "cell_type": "markdown",
      "source": [
        "b) Código de Merge Sort"
      ],
      "metadata": {
        "id": "Aw-3qUn4Ydik"
      }
    },
    {
      "cell_type": "code",
      "source": [
        "def merge(arr, left, mid, right):\n",
        "    n1 = mid - left + 1\n",
        "    n2 = right - mid\n",
        "\n",
        "    # Create temp arrays\n",
        "    L = [0] * n1\n",
        "    R = [0] * n2\n",
        "\n",
        "    # Copy data to temp arrays L[] and R[]\n",
        "    for i in range(n1):\n",
        "        L[i] = arr[left + i]\n",
        "    for j in range(n2):\n",
        "        R[j] = arr[mid + 1 + j]\n",
        "\n",
        "    i = 0  # Initial index of first subarray\n",
        "    j = 0  # Initial index of second subarray\n",
        "    k = left  # Initial index of merged subarray\n",
        "\n",
        "    # Merge the temp arrays back\n",
        "    # into arr[left..right]\n",
        "    while i < n1 and j < n2:\n",
        "        if L[i] <= R[j]:\n",
        "            arr[k] = L[i]\n",
        "            i += 1\n",
        "        else:\n",
        "            arr[k] = R[j]\n",
        "            j += 1\n",
        "        k += 1\n",
        "\n",
        "    # Copy the remaining elements of L[],\n",
        "    # if there are any\n",
        "    while i < n1:\n",
        "        arr[k] = L[i]\n",
        "        i += 1\n",
        "        k += 1\n",
        "\n",
        "    # Copy the remaining elements of R[],\n",
        "    # if there are any\n",
        "    while j < n2:\n",
        "        arr[k] = R[j]\n",
        "        j += 1\n",
        "        k += 1\n",
        "\n",
        "def merge_sort(arr, left, right):\n",
        "    if left < right:\n",
        "        mid = (left + right) // 2\n",
        "\n",
        "        merge_sort(arr, left, mid)\n",
        "        merge_sort(arr, mid + 1, right)\n",
        "        merge(arr, left, mid, right)\n"
      ],
      "metadata": {
        "id": "rO8uDFLrXpg0"
      },
      "execution_count": null,
      "outputs": []
    },
    {
      "cell_type": "code",
      "source": [
        "def test_mergesort(arr, expected_arr):\n",
        "  print(f\"Testing array: {arr}...\")\n",
        "  merge_sort(arr, 0, len(arr)-1)\n",
        "  for i in range(len(arr)):\n",
        "    assert(arr[i] == expected_arr[i])\n",
        "  print(\"OK\")\n",
        "  print()\n",
        "\n",
        "arr = np.array([6, 5, 3, 1, 8, 7, 2, 4])\n",
        "test_mergesort(arr, np.arange(1, 9))\n",
        "\n"
      ],
      "metadata": {
        "colab": {
          "base_uri": "https://localhost:8080/"
        },
        "id": "udj__I-VQBVd",
        "outputId": "ab6d6c39-fe82-4084-d8fb-24f55c778666"
      },
      "execution_count": null,
      "outputs": [
        {
          "output_type": "stream",
          "name": "stdout",
          "text": [
            "Testing array: [6 5 3 1 8 7 2 4]...\n",
            "OK\n",
            "\n"
          ]
        }
      ]
    },
    {
      "cell_type": "markdown",
      "source": [
        "# Pregunta 2: Ecuaciones de Recurrencia\n",
        "\n"
      ],
      "metadata": {
        "id": "qs0uW5IRsZnY"
      }
    },
    {
      "cell_type": "markdown",
      "source": [
        "**Resuelva** las siguientes ecuaciones lineales homogéneas con coeficientes constantes:"
      ],
      "metadata": {
        "id": "BVUaH_eQMTCp"
      }
    },
    {
      "cell_type": "markdown",
      "source": [
        "1.  - T(n) = 5T(n − 1) − 4T(n − 2)\n",
        "    - T(1) = 3\n",
        "    - T(2) = 15"
      ],
      "metadata": {
        "id": "d-dbuylDIIRV"
      }
    },
    {
      "cell_type": "markdown",
      "source": [
        "Tenemos la siguiente ecuación lineal homogénea\n",
        "\n",
        "\\begin{align*}\n",
        "T(n) &=5T(n-1)-4T(n-2) \\\\\n",
        "T(1) &=3 \\\\\n",
        "T(2) &=15\n",
        "\\end{align*}\n",
        "\n",
        "Este tipo de ecuaciones tiene soluciones del tipo $T(n) = \\lambda^{n}$. El polinomio característico de la ecuación es:\n",
        "\n",
        "\\begin{align*}\n",
        "\\lambda^{n} &=5 \\lambda^{n-1} - 4\\lambda^{n-2}\n",
        "\\end{align*}\n",
        "\n",
        "Descartando la solución trivial $\\lambda = 0$ y dividiendo ambos lados por $\\lambda^{n-2}$ se obtiene\n",
        "\n",
        "\\begin{align*}\n",
        "\\lambda^{2} &= 5\\lambda - 4 \\\\\n",
        "0 &= \\lambda^{2} - 5\\lambda + 4 \\\\\n",
        "0 &= (\\lambda - 4)(\\lambda - 1) \\\\\n",
        "1 = \\lambda_{1} &\\quad 4 = \\lambda_{2}\n",
        "\\end{align*}\n",
        "\n",
        "La solución general a la ecuación de recurrencia es una combinación lineal de las soluciones del polinomio característico:\n",
        "\n",
        "\\begin{equation*}\n",
        "T(n) = A \\cdot 4^{n} + B \\cdot 1^{n} = A \\cdot 4^{n} + B\n",
        "\\end{equation*}\n",
        "\n",
        "Ahora, usamos las condiciones iniciales para encontrar $A$ y $B$:\n",
        "\n",
        "\\begin{equation}\n",
        "T(1) = 3 = A \\cdot 4 + B\n",
        "\\end{equation}\n",
        "\\begin{equation}\n",
        "T(2) = 15 = A \\cdot 16 + B\n",
        "\\end{equation}\n",
        "\n",
        "Restando la segunda ecuación con la primera nos deja\n",
        "\n",
        "\\begin{align*}\n",
        "12A &= 12 \\\\\n",
        "A &= 1\n",
        "\\end{align*}\n",
        "\n",
        "Y en (1), $A = 1$ nos dice inmediatamente que $B = -1$, por lo que la solución final es:\n",
        "\n",
        "\\begin{equation*}\n",
        "T(n)=4^n-1\n",
        "\\end{equation*}"
      ],
      "metadata": {
        "id": "5T43SKFpSyjI"
      }
    },
    {
      "cell_type": "markdown",
      "source": [
        "2.  - T(n) = 4T(n − 1) − 4T(n − 2)\n",
        "    - T(0) = 1\n",
        "    - T(1) = 2"
      ],
      "metadata": {
        "id": "YQF2e2pDITRC"
      }
    },
    {
      "cell_type": "markdown",
      "source": [
        "Se tiene otra ecuación con coeficientes constantes\n",
        "\n",
        "\\begin{align*}\n",
        "T(n)&=4T(n-1)-4T(n-2) \\\\\n",
        "T(0)&=1 \\\\\n",
        "T(1)&=2\n",
        "\\end{align*}\n",
        "\n",
        "Nuevamente podemos considerar $T(n) = \\lambda^{n}$. El polinomio característico de la ecuación es:\n",
        "\n",
        "\\begin{equation*}\n",
        "\\lambda^{n} = 4\\lambda^{n-1} - 4\\lambda^{n-2}\n",
        "\\end{equation*}\n",
        "\n",
        "Descartando la solución trivial $\\lambda = 0$ y dividiendo ambos lados por $\\lambda^{n-2}$ se obtiene\n",
        "\n",
        "\\begin{align*}\n",
        "&\\lambda^{2} = 4\\lambda - 4 \\\\\n",
        "&\\lambda^{2} - 4\\lambda + 4 = 0 \\\\\n",
        "&(\\lambda - 2)(\\lambda - 2) = 0 \\\\\n",
        "&\\lambda_{1} = 2, \\lambda_{2} = 2\n",
        "\\end{align*}\n",
        "\n",
        "Dado que $r=2$ es raíz doble, la solución tiene la forma:\n",
        "\\begin{align*}\n",
        "T(n)&=(A + B\\cdot n)\\cdot r^{n} = (A + B\\cdot n)\\cdot 2^{n}\n",
        "\\end{align*}\n",
        "\n",
        "Luego, usando las condiciones iniciales:\n",
        "\n",
        "a) T(0) = 1\n",
        "\\begin{align*}\n",
        "1 &= (A + B \\cdot 0) \\cdot 2^{0} \\\\\n",
        "1 &= (A + 0) \\cdot 1 \\\\\n",
        "1 &= A\n",
        "\\end{align*}\n",
        "\n",
        "b) T(1) = 2\n",
        "\\begin{align*}\n",
        "2 &= (A + B \\cdot 1) \\cdot 2^{1} \\\\\n",
        "2 &= (1 + B) \\cdot 2 \\\\\n",
        "2 &= 2 + 2\\cdot B \\\\\n",
        "0 &= 2\\cdot B \\\\\n",
        "0 &= B\n",
        "\\end{align*}\n",
        "\n",
        "Finalmente, reemplazando A = 1 y B = 0, la solución es:\n",
        "\\begin{equation*}\n",
        "T(n) = 2^{n}\n",
        "\\end{equation*}"
      ],
      "metadata": {
        "id": "4yJia5tJS6xB"
      }
    },
    {
      "cell_type": "markdown",
      "source": [
        "# Pregunta 3: Más Recurrencias"
      ],
      "metadata": {
        "id": "p2Opz8J-uHBo"
      }
    },
    {
      "cell_type": "markdown",
      "source": [
        "Suponga que para resolver un determinado problema se le presentan las siguientes tres alternativas de algoritmo:\n",
        "  + El algoritmo A resuelve el problema de tamaño n dividiéndolo en cinco subproblemas de tamaño $n/2$, resolviendo recursivamente cada subproblema y luego combinando las soluciones en tiempo lineal.\n",
        "  + El algoritmo B resuelve el problema de tamaño n resolviendo recursivamente dos subproblemas de tamaño n − 1 y realizando trabajo adicional a tiempo constante.\n",
        "  + El algoritmo C resuelve el problema de tamaño n dividiéndolo en nueve subproblemas de tamaño $n/3$, resolviendo recursivamente cada subproblema y luego combinando las soluciones en tiempo O($n^2$).\n",
        "¿Qué algoritmo escogería usted si el objetivo es minimizar el tiempo de ejecución?"
      ],
      "metadata": {
        "id": "XBpPOTSUNIyT"
      }
    },
    {
      "cell_type": "markdown",
      "source": [
        "Como los tres mencionan recursión, podemos obtener las ecuaciones de recurrencia que siguen los costos de los algoritmos.\n",
        "\n",
        "#### Algoritmo A\n",
        "La descripción menciona que el algoritmo resuelve recursivamente 5 subproblemas de tamaño $\\frac{n}{2}$, por lo que el término $5T_A(\\frac{n}{2})$ estará presente en la ecuación. Además, se menciona que luego combinan las soluciones en tiempo lineal, es decir, en $O(n)$ que equivale a $kn$, siendo k una constante, entonces el término $kn$ también estará en la ecuación. Teniendo en cuenta todo lo anterior, llegamos a que la ecuación de recurrencia del costo de este algoritmos es:\n",
        "$$T_A(n) = 5T_A(\\frac{n}{2}) + kn$$\n",
        "Podemos ver que $p=5 > 2^1 = q^r$, por lo que por Teorema Maestro $T_A(n) = Θ(n^{log_2(5)})$."
      ],
      "metadata": {
        "id": "CLpXUHdSRchA"
      }
    },
    {
      "cell_type": "markdown",
      "source": [
        "### Algoritmo B\n",
        "\n",
        "La descripción menciona que el algoritmo resuelve recursivamente 2 subproblemas de tamaño $n-1$, por lo que el término $2T_B(n-1)$ estará presente en la ecuación. Además, se menciona que luego combinan las soluciones en tiempo constante, es decir, en $O(1)$ que equivale a $k$, siendo $k$ una constante, entonces el término $k$ también estará en la ecuación. Teniendo encuenta todo lo anterior, llegamos a que la ecuación de recurrencia del costo de este algoritmos es:\n",
        "$$T_B(n) = 2T_B(n-1) + k$$\n",
        "\n",
        "Podemos ver que en este caso no es posible aplicar el teorema maestro, pues no podemos identificar el valor de $q$. Sin embargo, observando el problema que se plantea este es bastante similar al ejemplo del número de movidas en las Torres de Hanoi ($a_n=2a_{n-1}+1$).\n",
        "\n",
        "Resolveremos este caso utilizando la Resolución de Ecuaciones Lineales de Primer Orden.\n",
        "$$ a_n = ba_{n-1}+c_n$$\n",
        "La que nos da cómo resultado:\n",
        "$$ a_n = a_0b^n+\\sum_{1\\leq k\\leq n}c_kb^{n-k}$$\n",
        "En nuestro caso $c_k=constante$, $b=2$, $a_0=constante$, por lo que se tendrá:\n",
        "$$ a_n = a_02^n+\\sum_{1\\leq k\\leq n}c\\:2^{n-k}$$\n",
        "\n",
        "$$ a_n = a_02^n+c\\:\\sum_{1\\leq k\\leq n-1}2^{k}$$\n",
        "\n",
        "$$ a_n = a_02^n+c\\:(2^n-1)$$\n",
        "\n",
        "Finalmente se tendría que el tiempo es: $\\Theta(a_02^n+c\\:(2^n-1))$ como $a_0$ y $c$ son constantes:\n",
        "\n",
        "$$\\Theta(a_02^n+c\\:(2^n-1)) \\in \\Theta(2^n)$$"
      ],
      "metadata": {
        "id": "qWfQoukTRcM9"
      }
    },
    {
      "cell_type": "markdown",
      "source": [
        "### Algoritmo C\n",
        "\n",
        "La descripción menciona que el algoritmo resuelve recursivamente 9 subproblemas de tamaño $\\frac{n}{3}$, por lo que el término $9T_C(\\frac{n}{3})$ estará presente en la ecuación. Además, se menciona que luego combinan las soluciones en tiempo cuadrático, es decir, en $O(n^2)$ que equivale a $kn^2$, siendo k una constante, entonces el término $kn^2$ también estará en la ecuación. Teniendo en cuenta todo lo anterior, llegamos a que la ecuación de recurrencia del costo de este algoritmos es:\n",
        "$$T_C(n) = 9T_C(\\frac{n}{3}) + kn^2$$\n",
        "Podemos ver que $p=9 = 3^2 = q^r$, por lo que por Teorema Maestro $T_C(n) = Θ(n^2 {log(n)})$."
      ],
      "metadata": {
        "id": "08RJt4eeRrXS"
      }
    },
    {
      "cell_type": "markdown",
      "source": [
        "# Pregunta Propuesta : Stooge Sort (Ejercicio 2.3)\n",
        "\n",
        "### Ejercicio 2.3\n",
        "\n",
        "El método del ordenación **Stooge Sort** es un método recursivo que puede describirse de la siguiente manera:\n",
        "\n",
        "* Si el primer elemento es mayor que el último, los intercambiamos\n",
        "* Si hay 3 o más elementos en la lista, entonces:\n",
        "    * Ordenar los primeros 2/3 de la lista recursivamente\n",
        "    * Ordenar los últimos 2/3 de la lista, recursivamente, y\n",
        "    * Ordenar (¡de nuevo!) los primeros 2/3 de la lista.\n",
        "\n",
        "Escriba una ecuación que modele el tiempo de ejecución de Stooge Sort y resuélvala usando el Teorema Maestro."
      ],
      "metadata": {
        "id": "3d56ps9nXU98"
      }
    },
    {
      "cell_type": "markdown",
      "source": [
        "Para resolver este ejercicio con Teorema Maestro debemos considerar que queremos una ecuación del estilo:\n",
        "\n",
        "$T(n)= p \\cdot T(\\frac{n}{q}) + C \\cdot n^r$\n",
        "\n",
        "Donde $p$ es la cantidad de subproblemas que se tienen, $\\frac{n}{q}$ es el tamaño de los subproblemas, y $C*n^r$ es el término que representa el orden de combinar las soluciones (pasos extra).\n",
        "\n",
        "En el enunciado se comenta que, si hay 3 o más elementos en la lista, se realizan 3 pasos. Esto implica que $p$ es 3.\n",
        "\n",
        "Luego, dado que los subproblemas tienen tamaño $2/3$, q debe ser $3/2$ (tal que $\\frac{n}{q}$ sea $\\frac{2n}{3}$)\n",
        "\n",
        "Finalmente, dado que los pasos extra son constantes, y combinar la solución también lo es, entonces $C \\cdot n^r$ debe ser un término O(1). Esto es análogo a decir que $r$ debe ser 0, para cumplir que $C \\cdot n^r$ no dependa de n.\n",
        "\n",
        "Resumen:\n",
        "\n",
        "$p = 3$ \\\\\n",
        "$q = 3/2$ \\\\\n",
        "$r = 0$ \\\\\n",
        "\n",
        "Luego, revisamos la relación entre $p$ y $q^r$, donde $q^r = (\\frac{3}{2})^0 = 1$.\n",
        "\n",
        "En efecto, $p > q^r$ pues $3 > 1$. Esto hace que caiga en el caso de Teorema Maestro $T(n) = \\Theta(n^{\\log_q{p}}) \\text{ si } p > q^r$.\n",
        "\n",
        "Reemplazando los valores, quedaría que\n",
        "\n",
        "$T(n) = \\Theta(n^{\\log_{3/2}{3}})$\n",
        "$T(n) = \\Theta(n^{2,71})$"
      ],
      "metadata": {
        "id": "t_BnpKAa1LMW"
      }
    },
    {
      "cell_type": "code",
      "source": [],
      "metadata": {
        "id": "nRZoIXgJ2CVO"
      },
      "execution_count": null,
      "outputs": []
    }
  ]
}