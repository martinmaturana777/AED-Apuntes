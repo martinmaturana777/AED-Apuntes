{
  "nbformat": 4,
  "nbformat_minor": 0,
  "metadata": {
    "colab": {
      "provenance": [],
      "include_colab_link": true
    },
    "kernelspec": {
      "name": "python3",
      "display_name": "Python 3"
    },
    "language_info": {
      "name": "python"
    }
  },
  "cells": [
    {
      "cell_type": "markdown",
      "metadata": {
        "id": "view-in-github",
        "colab_type": "text"
      },
      "source": [
        "<a href=\"https://colab.research.google.com/github/martinmaturana777/AED-Apuntes/blob/main/Pauta_Auxiliar_7_2025_1.ipynb\" target=\"_parent\"><img src=\"https://colab.research.google.com/assets/colab-badge.svg\" alt=\"Open In Colab\"/></a>"
      ]
    },
    {
      "cell_type": "code",
      "source": [
        "!pip install aed-utilities"
      ],
      "metadata": {
        "id": "f4vw3Cwyd0Fp",
        "colab": {
          "base_uri": "https://localhost:8080/"
        },
        "outputId": "b024be50-080a-4aef-bdf6-0a6485dd37e5"
      },
      "execution_count": null,
      "outputs": [
        {
          "output_type": "stream",
          "name": "stdout",
          "text": [
            "Collecting aed-utilities\n",
            "  Downloading aed_utilities-0.5.6.tar.gz (4.3 kB)\n",
            "  Preparing metadata (setup.py) ... \u001b[?25l\u001b[?25hdone\n",
            "Collecting validators (from aed-utilities)\n",
            "  Downloading validators-0.34.0-py3-none-any.whl.metadata (3.8 kB)\n",
            "Requirement already satisfied: beautifulsoup4 in /usr/local/lib/python3.11/dist-packages (from aed-utilities) (4.13.4)\n",
            "Requirement already satisfied: soupsieve>1.2 in /usr/local/lib/python3.11/dist-packages (from beautifulsoup4->aed-utilities) (2.7)\n",
            "Requirement already satisfied: typing-extensions>=4.0.0 in /usr/local/lib/python3.11/dist-packages (from beautifulsoup4->aed-utilities) (4.13.2)\n",
            "Downloading validators-0.34.0-py3-none-any.whl (43 kB)\n",
            "\u001b[2K   \u001b[90m━━━━━━━━━━━━━━━━━━━━━━━━━━━━━━━━━━━━━━━━\u001b[0m \u001b[32m43.5/43.5 kB\u001b[0m \u001b[31m2.8 MB/s\u001b[0m eta \u001b[36m0:00:00\u001b[0m\n",
            "\u001b[?25hBuilding wheels for collected packages: aed-utilities\n",
            "  Building wheel for aed-utilities (setup.py) ... \u001b[?25l\u001b[?25hdone\n",
            "  Created wheel for aed-utilities: filename=aed_utilities-0.5.6-py3-none-any.whl size=4541 sha256=3a38698ba4945ddb57680dd4c120d131467402d5b88796640d68b82d51a732a3\n",
            "  Stored in directory: /root/.cache/pip/wheels/e2/87/f8/223d5e6792e7b0fc909ef2cdb96ceb6a5336f428bc8eea7ffa\n",
            "Successfully built aed-utilities\n",
            "Installing collected packages: validators, aed-utilities\n",
            "Successfully installed aed-utilities-0.5.6 validators-0.34.0\n"
          ]
        }
      ]
    },
    {
      "cell_type": "code",
      "source": [
        "import numpy as np\n"
      ],
      "metadata": {
        "id": "WPcLza16XvM4"
      },
      "execution_count": null,
      "outputs": []
    },
    {
      "cell_type": "markdown",
      "source": [
        "# Pauta Auxiliar 7: ABB y AVL.\n",
        "\n",
        "**Auxiliares: Valentina Alarcón Yañez, Antonia G. Calvo, Cristián Llull Torres, Raimundo Lorca Correa, Samuel Chávez Fierro<br>\n",
        "Profesores: Nelson Baloian, Iván Sipirán, Patricio Poblete<br>\n",
        "Curso: CC3001 Algoritmos y Estructuras de Datos**\n",
        "\n"
      ],
      "metadata": {
        "id": "92NDVBQ4xAj3"
      }
    },
    {
      "cell_type": "markdown",
      "source": [
        "# Pregunta 1: Rotación de arboles AVL"
      ],
      "metadata": {
        "id": "TUEhVkXqshPQ"
      }
    },
    {
      "cell_type": "markdown",
      "source": [
        "\n",
        "  Usted es tele-transportado en el tiempo a 1962, y se encuentra a Adelson-Velsky y Landis, los que tienen la siguiente lista de números a insertar en un ABB de tal forma que sean auto balanceados:\n",
        "\n",
        "\n",
        "\n",
        "  [5, 7, 4, 1, 3]\n",
        "\n",
        "\n",
        "  Usted decide mostrarles una nueva técnica que aprendió en clase de Algoritmos y Estructuras de Datos y les mostrara como hacer la inserción tal como en un árbol AVL.\n",
        "\n",
        "  + Realice la inserción de la lista\n",
        "  + Realice la inserción de la lista invertida\n",
        "  + Realice la inserción de la lista ordenada\n"
      ],
      "metadata": {
        "id": "CdelW3PTUExb"
      }
    },
    {
      "cell_type": "markdown",
      "source": [
        "Vaya a probar su solución dinámicamente en: [AVL Tree Visualization](https://www.cs.usfca.edu/~galles/visualization/AVLtree.html)"
      ],
      "metadata": {
        "id": "AmB6KIWsTpsQ"
      }
    },
    {
      "cell_type": "markdown",
      "source": [
        "# Pregunta 2: Move To Root en ABBs\n",
        "\n"
      ],
      "metadata": {
        "id": "qs0uW5IRsZnY"
      }
    },
    {
      "cell_type": "markdown",
      "source": [
        "\n",
        "  El algoritmo _autoorganizante_ funciona de la siguiente manera: cuando un nodo es accedido, se corta el árbol por la vertical, obteniendo el nodo y dos subárboles (ej. @peor, luego @corte). Uno cuya raíz es la raíz del árbol original y otro cuya raíz es el hijo izquierdo si el nodo es un hijo izquierdo, o derecho, si es un hijo derecho. Luego, se mueve el nodo a la raíz, resultando el árbol en la @final.\n",
        "\n",
        "  Se pide:\n",
        "  - Programar método enla clase `Arbol` `imprimirPreorden()` que imprima el árbol en preorden.\n",
        "  - Que programe un método en la clase `Arbol buscar(n)`, con `n` entero, que busque el número y retorne True si el elemento está en el árbol y False en caso contrario.\n"
      ],
      "metadata": {
        "id": "yrs51Ob1UThW"
      }
    },
    {
      "cell_type": "code",
      "source": [
        "class Nodoe:\n",
        "    def __init__(self):\n",
        "        pass  # Empty/null node\n",
        "\n",
        "    def imprimirPreorden(self, s):\n",
        "        print(s, '[]')\n",
        "\n",
        "    def buscar(self, n, padre=None):\n",
        "        return None, False  # Not found\n",
        "\n",
        "\n",
        "class Nodoi:\n",
        "    def __init__(self, izq, info, der):\n",
        "        self.izq = izq\n",
        "        self.info = info\n",
        "        self.der = der\n",
        "\n",
        "    def imprimirPreorden(self, s):\n",
        "        print(s, self.info)\n",
        "        self.izq.imprimirPreorden(s + '  ')\n",
        "        self.der.imprimirPreorden(s + '  ')\n",
        "\n",
        "    def buscar(self, n, padre=None):\n",
        "        if self.info == n:\n",
        "            return self, True\n",
        "        elif n < self.info:\n",
        "            return self.izq.buscar(n, self)\n",
        "        else:\n",
        "            return self.der.buscar(n, self)\n",
        "\n",
        "\n",
        "class Arbol:\n",
        "    def __init__(self, raiz=None):\n",
        "        self.raiz = raiz\n",
        "\n",
        "    def imprimirPreorden(self):\n",
        "        if self.raiz:\n",
        "            self.raiz.imprimirPreorden('')\n",
        "        else:\n",
        "            print('Árbol vacío')\n",
        "\n",
        "    def buscar(self, n):\n",
        "        if self.raiz:\n",
        "            nodo, encontrado = self.raiz.buscar(n)\n",
        "            if encontrado:\n",
        "                self.raiz = self._move_to_front(self.raiz, n)\n",
        "            return nodo, encontrado\n",
        "        else:\n",
        "            return None, False\n",
        "\n",
        "    def rotate_left(self, parent):\n",
        "        pivot = parent.der\n",
        "        parent.der = pivot.izq\n",
        "        pivot.izq = parent\n",
        "        return pivot\n",
        "\n",
        "    def rotate_right(self, parent):\n",
        "        pivot = parent.izq\n",
        "        parent.izq = pivot.der\n",
        "        pivot.der = parent\n",
        "        return pivot\n",
        "\n",
        "    def _move_to_front(self, node, key):\n",
        "        if not isinstance(node, Nodoi):\n",
        "            return node\n",
        "        if key < node.info:\n",
        "            if isinstance(node.izq, Nodoi):\n",
        "                if node.izq.info == key:\n",
        "                    return self.rotate_right(node)\n",
        "                node.izq = self._move_to_front(node.izq, key)\n",
        "                return self.rotate_right(node)\n",
        "        elif key > node.info:\n",
        "            if isinstance(node.der, Nodoi):\n",
        "                if node.der.info == key:\n",
        "                    return self.rotate_left(node)\n",
        "                node.der = self._move_to_front(node.der, key)\n",
        "                return self.rotate_left(node)\n",
        "        return node  # key is already at root or not found\n",
        "\n",
        "    def move_to_front(self, n):\n",
        "        if self.raiz:\n",
        "            self.raiz = self._move_to_front(self.raiz, n)"
      ],
      "metadata": {
        "id": "Vq4DKu9ChycA"
      },
      "execution_count": null,
      "outputs": []
    },
    {
      "cell_type": "code",
      "source": [
        "  arbol = Arbol(Nodoi(Nodoi(Nodoi(Nodoi(Nodoe(),\n",
        "                                      1,\n",
        "                                      Nodoe()),\n",
        "                                2,\n",
        "                                Nodoe()),\n",
        "                          3,\n",
        "                          Nodoe()),\n",
        "                    4,\n",
        "                    Nodoe()))"
      ],
      "metadata": {
        "id": "yifm2uXdWifF"
      },
      "execution_count": null,
      "outputs": []
    },
    {
      "cell_type": "code",
      "source": [
        "arbol.imprimirPreorden()"
      ],
      "metadata": {
        "colab": {
          "base_uri": "https://localhost:8080/"
        },
        "id": "H__1USDiWmtt",
        "outputId": "7e0dd119-99b5-4778-bf0e-2f9b9178eacb"
      },
      "execution_count": null,
      "outputs": [
        {
          "output_type": "stream",
          "name": "stdout",
          "text": [
            " 4\n",
            "   3\n",
            "     2\n",
            "       1\n",
            "         []\n",
            "         []\n",
            "       []\n",
            "     []\n",
            "   []\n"
          ]
        }
      ]
    },
    {
      "cell_type": "code",
      "source": [
        "arbol.buscar(2)"
      ],
      "metadata": {
        "colab": {
          "base_uri": "https://localhost:8080/"
        },
        "id": "eoX2xVznWoyw",
        "outputId": "7c7eb4b0-ceb8-424c-df42-fe3d51d9ec7c"
      },
      "execution_count": null,
      "outputs": [
        {
          "output_type": "execute_result",
          "data": {
            "text/plain": [
              "(<__main__.Nodoi at 0x7fd8e44fcdd0>, True)"
            ]
          },
          "metadata": {},
          "execution_count": 7
        }
      ]
    },
    {
      "cell_type": "code",
      "source": [
        "arbol.imprimirPreorden()"
      ],
      "metadata": {
        "colab": {
          "base_uri": "https://localhost:8080/"
        },
        "id": "GJVtHKRWWol7",
        "outputId": "5e4a4b9f-b063-4b8b-d940-df72c42f482f"
      },
      "execution_count": null,
      "outputs": [
        {
          "output_type": "stream",
          "name": "stdout",
          "text": [
            " 2\n",
            "   1\n",
            "     []\n",
            "     []\n",
            "   4\n",
            "     3\n",
            "       []\n",
            "       []\n",
            "     []\n"
          ]
        }
      ]
    },
    {
      "cell_type": "code",
      "source": [
        "arbol.buscar(3)"
      ],
      "metadata": {
        "colab": {
          "base_uri": "https://localhost:8080/"
        },
        "id": "eQRS5XJpWrWM",
        "outputId": "4fa4023f-61d7-4efe-8133-c3977ff2c25f"
      },
      "execution_count": null,
      "outputs": [
        {
          "output_type": "execute_result",
          "data": {
            "text/plain": [
              "(<__main__.Nodoi at 0x7fd8e44fce50>, True)"
            ]
          },
          "metadata": {},
          "execution_count": 9
        }
      ]
    },
    {
      "cell_type": "code",
      "source": [
        "arbol.imprimirPreorden()"
      ],
      "metadata": {
        "colab": {
          "base_uri": "https://localhost:8080/"
        },
        "id": "-ePJfI0hWshI",
        "outputId": "5b7e3b49-732f-4636-cf48-22e09fe9728a"
      },
      "execution_count": null,
      "outputs": [
        {
          "output_type": "stream",
          "name": "stdout",
          "text": [
            " 3\n",
            "   2\n",
            "     1\n",
            "       []\n",
            "       []\n",
            "     []\n",
            "   4\n",
            "     []\n",
            "     []\n"
          ]
        }
      ]
    },
    {
      "cell_type": "code",
      "source": [
        "  arbol = Arbol(Nodoi(Nodoi(Nodoe(),4,Nodoi(Nodoi(Nodoe(),5,Nodoe()),6,Nodoe())),\n",
        "                    8,\n",
        "                    Nodoe()))"
      ],
      "metadata": {
        "id": "Io4_bMXdXZaz"
      },
      "execution_count": null,
      "outputs": []
    },
    {
      "cell_type": "code",
      "source": [
        "arbol.imprimirPreorden()"
      ],
      "metadata": {
        "colab": {
          "base_uri": "https://localhost:8080/"
        },
        "id": "7FnHgfpQib7R",
        "outputId": "ae98e4d5-823e-476a-d657-4250b727a06c"
      },
      "execution_count": null,
      "outputs": [
        {
          "output_type": "stream",
          "name": "stdout",
          "text": [
            " 8\n",
            "   4\n",
            "     []\n",
            "     6\n",
            "       5\n",
            "         []\n",
            "         []\n",
            "       []\n",
            "   []\n"
          ]
        }
      ]
    },
    {
      "cell_type": "code",
      "source": [
        "arbol.buscar(2)"
      ],
      "metadata": {
        "colab": {
          "base_uri": "https://localhost:8080/"
        },
        "id": "Bi-77l1sjKwc",
        "outputId": "6a6e8cd8-cee1-4e5f-e7af-a8ffe9c280f4"
      },
      "execution_count": null,
      "outputs": [
        {
          "output_type": "execute_result",
          "data": {
            "text/plain": [
              "(None, False)"
            ]
          },
          "metadata": {},
          "execution_count": 13
        }
      ]
    },
    {
      "cell_type": "code",
      "source": [
        "arbol.buscar(5)"
      ],
      "metadata": {
        "colab": {
          "base_uri": "https://localhost:8080/"
        },
        "id": "lNdGEeOWjd62",
        "outputId": "500b7e0b-0ae5-45cc-ace4-eb06f31a0a46"
      },
      "execution_count": null,
      "outputs": [
        {
          "output_type": "execute_result",
          "data": {
            "text/plain": [
              "(<__main__.Nodoi at 0x7fd8e76ee550>, True)"
            ]
          },
          "metadata": {},
          "execution_count": 14
        }
      ]
    },
    {
      "cell_type": "code",
      "source": [
        "arbol.imprimirPreorden()"
      ],
      "metadata": {
        "id": "LzINJJZRj8Ck",
        "outputId": "defe60ff-8ef7-4d8f-b102-3ad823685d18",
        "colab": {
          "base_uri": "https://localhost:8080/"
        }
      },
      "execution_count": null,
      "outputs": [
        {
          "output_type": "stream",
          "name": "stdout",
          "text": [
            " 5\n",
            "   4\n",
            "     []\n",
            "     []\n",
            "   8\n",
            "     6\n",
            "       []\n",
            "       []\n",
            "     []\n"
          ]
        }
      ]
    },
    {
      "cell_type": "markdown",
      "source": [
        "# Pregunta 3: Pesos en un ABB"
      ],
      "metadata": {
        "id": "ScGCHaF2dULM"
      }
    },
    {
      "cell_type": "markdown",
      "source": [
        "Definiciones:\n",
        "  * El peso de un nodo es la cantidad de nodos que cuelgan de él, considerándose a si mismo.\n",
        "  * El peso de un árbol es el peso de su raíz.\n",
        "  * El desbalanceo de un nodo es el valor absoluto de la diferencia entre los pesos de sus hijos."
      ],
      "metadata": {
        "id": "MBoyVtr5daAc"
      }
    },
    {
      "cell_type": "code",
      "source": [
        "class Nodoi:\n",
        "  def __init__(self, izq, info, der):\n",
        "    self.izq = izq\n",
        "    self.info = info\n",
        "    self.der = der\n",
        "    self.peso = None\n",
        "  def search(self, x):\n",
        "    if x == self.info:\n",
        "      return self\n",
        "    elif x < self.info:\n",
        "      return self.izq.search(x)\n",
        "    else:\n",
        "      return self.der.search(x)\n",
        "  def insert(self, x):\n",
        "    if x < self.info:\n",
        "      return Nodoi(self.izq.insert(x), self.info, self.der)\n",
        "    elif x > self.info:\n",
        "      return Nodoi(self.izq, self.info, self.der.insert(x))\n",
        "  def __str__(self):\n",
        "    return f\"({self.izq.__str__()} {self.info} {self.der.__str__()})\"\n",
        "\n",
        "class Nodoe:\n",
        "  def __init__(self):\n",
        "    self.peso = None\n",
        "  def search(self, x):\n",
        "    return None\n",
        "  def insert(self, x):\n",
        "    return Nodoi(Nodoe(), x, Nodoe())\n",
        "  def __str__(self):\n",
        "    return \"[]\"\n",
        "\n",
        "class Arbol:\n",
        "  def __init__(self, raiz = Nodoe()):\n",
        "    self.raiz = raiz\n",
        "  def insert(self, x):\n",
        "    self.raiz = self.raiz.insert(x)\n",
        "  def search(self, x):\n",
        "    return self.raiz.search\n",
        "  def __str__(self):\n",
        "    return self.raiz.__str__()"
      ],
      "metadata": {
        "id": "VXodjlTcdjkj"
      },
      "execution_count": null,
      "outputs": []
    },
    {
      "cell_type": "markdown",
      "source": [
        "Se le entrega una clase `Arbol` que representa a un árbol de búsqueda binaria, y clases `Nodoi` y `Nodoe` que conforman sus nodos. Los nodos de este árbol pueden guardar su peso, pero al realizar la inserción estos pesos no se actualizan. Se debe:"
      ],
      "metadata": {
        "id": "FlUqe3qGdlc8"
      }
    },
    {
      "cell_type": "markdown",
      "source": [
        "## Parte a: `actualizarPesos(self)`"
      ],
      "metadata": {
        "id": "BInSReoadnOE"
      }
    },
    {
      "cell_type": "markdown",
      "source": [
        "Crear un método `actualizarPesos(self)` en la clase `Arbol` que actualice los pesos de sus nodos. ¿Cuánto debería demorarse?"
      ],
      "metadata": {
        "id": "qS-FgTlxdwec"
      }
    },
    {
      "cell_type": "code",
      "source": [
        "class Nodoi_a:\n",
        "  def __init__(self, izq, info, der):\n",
        "    self.izq = izq\n",
        "    self.info = info\n",
        "    self.der = der\n",
        "    self.peso = None\n",
        "  def search(self, x):\n",
        "    if x == self.info:\n",
        "      return self\n",
        "    elif x < self.info:\n",
        "      return self.izq.search(x)\n",
        "    else:\n",
        "      return self.der.search(x)\n",
        "  def insert(self, x):\n",
        "    if x < self.info:\n",
        "      return Nodoi_a(self.izq.insert(x), self.info, self.der)\n",
        "    elif x > self.info:\n",
        "      return Nodoi_a(self.izq, self.info, self.der.insert(x))\n",
        "  def __str__(self):\n",
        "    return f\"({self.izq.__str__()} {self.info} {self.der.__str__()})\"\n",
        "  def actualizar_peso(self):\n",
        "    self.izq.actualizar_peso()\n",
        "    self.der.actualizar_peso()\n",
        "    self.peso = self.izq.peso + self.der.peso + 1\n",
        "\n",
        "class Nodoe_a:\n",
        "  def __init__(self):\n",
        "    self.peso = 1\n",
        "  def search(self, x):\n",
        "    return None\n",
        "  def insert(self, x):\n",
        "    return Nodoi_a(Nodoe_a(), x, Nodoe_a())\n",
        "  def __str__(self):\n",
        "    return \"[]\"\n",
        "  def actualizar_peso(self):\n",
        "    return\n",
        "\n",
        "class Arbol_a:\n",
        "  def __init__(self, raiz = Nodoe_a()):\n",
        "    self.raiz = raiz\n",
        "  def insert(self, x):\n",
        "    self.raiz = self.raiz.insert(x)\n",
        "  def search(self, x):\n",
        "    return self.raiz.search\n",
        "  def __str__(self):\n",
        "    return self.raiz.__str__()\n",
        "  def actualizar_peso(self):\n",
        "    self.root.actualizar_peso()"
      ],
      "metadata": {
        "id": "45uptFbPd03r"
      },
      "execution_count": null,
      "outputs": []
    },
    {
      "cell_type": "markdown",
      "source": [
        "Esta solución recorre cada nodo exactamente una vez, por lo que debería demorarse tiempo $O(N)$."
      ],
      "metadata": {
        "id": "LB67aDood4lz"
      }
    },
    {
      "cell_type": "markdown",
      "source": [
        "## Parte b: `maximoDesbalanceo(self)`"
      ],
      "metadata": {
        "id": "43CyLqeaeAw1"
      }
    },
    {
      "cell_type": "markdown",
      "source": [
        "Crear un método `maximoDesbalanceo(self)` en la clase `Arbol` que retorne el nodo con mayor desbalanceo del árbol, y cuál es su desbalanceo."
      ],
      "metadata": {
        "id": "yl1bXKoyeCsT"
      }
    },
    {
      "cell_type": "code",
      "source": [
        "class Nodoi_b:\n",
        "  def __init__(self, izq, info, der):\n",
        "    self.izq = izq\n",
        "    self.info = info\n",
        "    self.der = der\n",
        "    self.peso = None\n",
        "  def search(self, x):\n",
        "    if x == self.info:\n",
        "      return self\n",
        "    elif x < self.info:\n",
        "      return self.izq.search(x)\n",
        "    else:\n",
        "      return self.der.search(x)\n",
        "  def insert(self, x):\n",
        "    if x < self.info:\n",
        "      return Nodoi_b(self.izq.insert(x), self.info, self.der)\n",
        "    elif x > self.info:\n",
        "      return Nodoi_b(self.izq, self.info, self.der.insert(x))\n",
        "  def __str__(self):\n",
        "    return f\"({self.izq.__str__()} {self.info} {self.der.__str__()})\"\n",
        "  def actualizar_peso(self):\n",
        "    self.izq.actualizar_peso()\n",
        "    self.der.actualizar_peso()\n",
        "    self.peso = self.izq.peso + self.der.peso + 1\n",
        "  def maximo_desbalanceo(self): # retorna una tupla de la forma (nodo, desbalanceo)\n",
        "    self.actualizar_peso() # por si los pesos están desactualizados\n",
        "    actual = (self, abs(self.izq.peso - self.der.peso))\n",
        "    # acá podríamos aplicar alguna heurística para descartar algunos casos de revisión, ¿cómo lo haría Ud.?\n",
        "    key = lambda x: x[1] # buscamos el máximo por el segundo elemento de la tupla (el desbalanceo)\n",
        "    hijos = max(self.izq.maximo_desbalanceo(), self.der.maximo_desbalanceo(), key = key)\n",
        "    final = max(actual, hijos, key = key)\n",
        "\n",
        "\n",
        "class Nodoe_b:\n",
        "  def __init__(self):\n",
        "    self.peso = 1\n",
        "  def search(self, x):\n",
        "    return None\n",
        "  def insert(self, x):\n",
        "    return Nodoi_b(Nodoe_b(), x, Nodoe_b())\n",
        "  def __str__(self):\n",
        "    return \"[]\"\n",
        "  def actualizar_peso(self):\n",
        "    return\n",
        "  def maximo_desbalanceo(self): # retorna una tupla de la forma (nodo, desbalanceo)\n",
        "    return (self, 0) # caso base\n",
        "\n",
        "class Arbol_b:\n",
        "  def __init__(self, raiz = Nodoe_b()):\n",
        "    self.raiz = raiz\n",
        "  def insert(self, x):\n",
        "    self.raiz = self.raiz.insert(x)\n",
        "  def search(self, x):\n",
        "    return self.raiz.search\n",
        "  def __str__(self):\n",
        "    return self.raiz.__str__()\n",
        "  def actualizar_peso(self):\n",
        "    self.root.actualizar_peso()\n",
        "  def maximo_desbalanceo(self): # retorna una tupla de la forma (nodo, desbalanceo)\n",
        "    return self.raiz.maximo_desbalanceo()"
      ],
      "metadata": {
        "id": "XMMD2dwXeNss"
      },
      "execution_count": null,
      "outputs": []
    }
  ]
}