{
  "nbformat": 4,
  "nbformat_minor": 0,
  "metadata": {
    "colab": {
      "provenance": [],
      "include_colab_link": true
    },
    "kernelspec": {
      "name": "python3",
      "display_name": "Python 3"
    },
    "language_info": {
      "name": "python"
    }
  },
  "cells": [
    {
      "cell_type": "markdown",
      "metadata": {
        "id": "view-in-github",
        "colab_type": "text"
      },
      "source": [
        "<a href=\"https://colab.research.google.com/github/martinmaturana777/AED-Apuntes/blob/main/Resumen_c2.ipynb\" target=\"_parent\"><img src=\"https://colab.research.google.com/assets/colab-badge.svg\" alt=\"Open In Colab\"/></a>"
      ]
    },
    {
      "cell_type": "markdown",
      "source": [
        "## 🌲 Árbol AVL\n",
        "\n",
        "Un **Árbol AVL** es un tipo de árbol binario de búsqueda (ABB) **autobalanceado**. La propiedad principal es que, para cada nodo, la diferencia de altura entre sus subárboles izquierdo y derecho es a lo más 1.\n",
        "\n",
        "### ➤ Usos:\n",
        "- Estructura eficiente para búsquedas, inserciones y eliminaciones en **O(log n)**.\n",
        "- Garantiza buen rendimiento incluso con entradas desordenadas.\n",
        "\n",
        "### ➤ Propiedades importantes:\n",
        "- Se reequilibra automáticamente usando **rotaciones** (simples o dobles).\n",
        "- Mantiene altura logarítmica para n nodos.\n"
      ],
      "metadata": {
        "id": "6_oLfHmfNXMm"
      }
    },
    {
      "cell_type": "markdown",
      "source": [
        "## 🌳 Árbol 2-3\n",
        "\n",
        "Es un árbol de búsqueda balanceado donde:\n",
        "- Los nodos pueden tener **1 o 2 llaves**.\n",
        "- Cada nodo interno tiene **2 o 3 hijos**.\n",
        "- Todas las hojas están al mismo nivel.\n",
        "\n",
        "### ➤ Usos:\n",
        "- Almacenamiento ordenado con inserciones y eliminaciones eficientes.\n",
        "- Alternativa balanceada a los AVL y B-trees.\n",
        "\n",
        "### ➤ Propiedades:\n",
        "- Al insertar, si un nodo se llena, se divide y se sube el valor medio.\n",
        "- Altura logarítmica garantizada.\n"
      ],
      "metadata": {
        "id": "KTJ0a8JFNZKp"
      }
    },
    {
      "cell_type": "markdown",
      "source": [
        "## 🧮 Hashing con encadenamiento\n",
        "\n",
        "Es una técnica para guardar claves usando una función de hash que asigna cada clave a una posición en una tabla. Para manejar colisiones, se usa una **lista enlazada en cada posición**.\n",
        "\n",
        "### ➤ Usos:\n",
        "- Búsquedas, inserciones y eliminaciones rápidas en promedio **O(1)**.\n",
        "- Ideal para diccionarios, sets y tablas de símbolos.\n",
        "\n",
        "### ➤ Detalles importantes:\n",
        "- Una **colisión** ocurre cuando dos claves diferentes producen el mismo valor hash.\n",
        "- El rendimiento depende de una buena función hash y del tamaño de la tabla.\n"
      ],
      "metadata": {
        "id": "4hS1mrIINbMY"
      }
    },
    {
      "cell_type": "markdown",
      "source": [
        "## ✅ Hashing perfecto\n",
        "\n",
        "Una función de hash es **perfecta** para un conjunto de claves si **no produce colisiones**.\n",
        "\n",
        "### ➤ Usos:\n",
        "- Casos donde las claves posibles están **totalmente determinadas** de antemano.\n",
        "- Compiladores, tablas de palabras clave, sistemas embebidos.\n",
        "\n",
        "### ➤ Características:\n",
        "- Solo puede ser perfecta si el conjunto de datos es **conocido y acotado**.\n",
        "- Se construye a medida para evitar colisiones.\n"
      ],
      "metadata": {
        "id": "Ud6hwwjJNbXV"
      }
    },
    {
      "cell_type": "markdown",
      "source": [
        "## 🔃 Métodos de ordenación\n",
        "\n",
        "### 📌 Insertion Sort\n",
        "- Inserta elementos uno por uno en la parte ya ordenada.\n",
        "- **Estable** (mantiene el orden relativo).\n",
        "- Bueno para arreglos pequeños o casi ordenados.\n",
        "- Peor caso: O(n²)\n",
        "\n",
        "### 📌 Heapsort\n",
        "- Usa una estructura tipo heap para ordenar.\n",
        "- **Inestable**\n",
        "- Siempre O(n log n)\n",
        "\n",
        "### 📌 Mergesort\n",
        "- Divide y conquista: divide, ordena recursivamente y mezcla.\n",
        "- **Estable**\n",
        "- Siempre O(n log n), requiere espacio extra.\n"
      ],
      "metadata": {
        "id": "m2llZGnrNbZu"
      }
    },
    {
      "cell_type": "markdown",
      "source": [
        "## 📈 Skip List\n",
        "\n",
        "Una **skip list** es una lista enlazada con múltiples niveles que permite buscar, insertar y borrar en **O(log n)** en promedio.\n",
        "\n",
        "### ➤ Usos:\n",
        "- Alternativa simple a los árboles balanceados.\n",
        "- Muy útil en estructuras concurrentes o distribuidas.\n",
        "\n",
        "### ➤ Propiedades:\n",
        "- Usa niveles superiores como \"atajos\".\n",
        "- Se basa en aleatoriedad para decidir en qué niveles está cada nodo.\n"
      ],
      "metadata": {
        "id": "z96pOTT0NbcQ"
      }
    },
    {
      "cell_type": "markdown",
      "source": [
        "## ⚙️ Quicksort con elementos repetidos\n",
        "\n",
        "Al adaptar Quicksort para datos con muchos elementos repetidos, se mejora la eficiencia usando una partición en **tres partes**:\n",
        "- Menores que el pivote.\n",
        "- Iguales al pivote.\n",
        "- Mayores que el pivote.\n",
        "\n",
        "### ➤ Beneficio:\n",
        "- Evita recursión innecesaria.\n",
        "- En arreglos con elementos todos iguales, se ejecuta en tiempo **O(n)**.\n"
      ],
      "metadata": {
        "id": "AShbvXqCNbzk"
      }
    },
    {
      "cell_type": "markdown",
      "source": [
        "## 🔄 Listas auto-organizables\n",
        "\n",
        "Son listas que se reorganizan cada vez que se accede a un elemento, para mejorar el rendimiento futuro.\n",
        "\n",
        "### 📌 Transpose\n",
        "- Intercambia el elemento accedido con el anterior.\n",
        "\n",
        "### 📌 Move to Front\n",
        "- Mueve el elemento accedido directamente al inicio.\n",
        "\n",
        "### ➤ Usos:\n",
        "- Listas de historial, caches, algoritmos de compresión.\n",
        "- Buen desempeño cuando los accesos son repetitivos.\n"
      ],
      "metadata": {
        "id": "u0D3gi1ANb2a"
      }
    },
    {
      "cell_type": "markdown",
      "source": [
        "## 📑 Estabilidad en algoritmos de ordenación\n",
        "\n",
        "Un algoritmo de ordenación es **estable** si **mantiene el orden relativo** entre elementos con la misma clave.\n",
        "\n",
        "### ➤ Importancia:\n",
        "- Útil cuando se hace ordenación por múltiples criterios (por ejemplo, por apellido y luego por edad).\n",
        "- Mergesort e Insertion sort son estables; Heapsort y Quicksort típicamente no lo son (a menos que se adapten).\n"
      ],
      "metadata": {
        "id": "a3etflr_OyVT"
      }
    },
    {
      "cell_type": "markdown",
      "source": [
        "## 🏹 Robin Hood Hashing\n",
        "\n",
        "En **Robin Hood Hashing** (open addressing) se mide la “distancia al hogar” (DIB) de la clave actual y de la entrante; la que esté más lejos se queda y “roba” la posición:\n",
        "\n",
        "- **Inserción:**  \n",
        "  1. Calcular índice inicial `i = h(x) mod m`.  \n",
        "  2. Calcular `dib_x = 0`.  \n",
        "  3. Si `table[i]` libre → insertar.  \n",
        "  4. Si hay colisión con `y = table[i]`, calcular `dib_y`.  \n",
        "     - Si `dib_y < dib_x`, intercambiar `x` y `y`, y continuar insertando `y`.  \n",
        "  5. Avanzar `i = (i+1) mod m`, `dib_x += 1`, repetir.\n",
        "\n",
        "- **Ventaja:** Reduce la varianza de distancias, equilibra la carga.\n"
      ],
      "metadata": {
        "id": "bdMqlvnSUCn7"
      }
    },
    {
      "cell_type": "markdown",
      "source": [
        "## 🌱 Inserción en raíz de ABB\n",
        "\n",
        "Función para insertar `x` en un ABB y luego **rotar** hasta que `x` sea la nueva raíz:\n",
        "\n",
        "```pseudocode\n",
        "function insertar_raiz(x, root):\n",
        "    if root == None:\n",
        "        return new Nodo(x)\n",
        "    if x < root.valor:\n",
        "        root.izq = insertar_raiz(x, root.izq)\n",
        "        # rotación derecha\n",
        "        N = root.izq\n",
        "        root.izq = N.der\n",
        "        N.der = root\n",
        "        return N\n",
        "    else:\n",
        "        root.der = insertar_raiz(x, root.der)\n",
        "        # rotación izquierda\n",
        "        N = root.der\n",
        "        root.der = N.izq\n",
        "        N.izq = root\n",
        "        return N\n"
      ],
      "metadata": {
        "id": "qtTrkycHUCfx"
      }
    },
    {
      "cell_type": "markdown",
      "source": [
        "\n",
        "---\n",
        "\n",
        "```markdown\n",
        "## 🎯 Quickselect\n",
        "\n",
        "Algoritmo para encontrar el **k-ésimo elemento** en un arreglo en tiempo promedio **O(n)**:\n",
        "\n",
        "1. Elegir pivote aleatorio y particionar en `< pivote`, `= pivote`, `> pivote`.  \n",
        "2. Si `k` está en el grupo `<` recursar allí.  \n",
        "3. Si `k` está en `=`, hemos encontrado el elemento.  \n",
        "4. Si `k` está en `>`, ajustar índice y recursar en ese grupo.\n",
        "\n",
        "- **Promedio:** O(n)  \n",
        "- **Peor caso (sin pivot “mediana de medianas”):** O(n²)  \n",
        "- **Con mediana de medianas:** peor caso O(n)\n"
      ],
      "metadata": {
        "id": "RyfzJ9u4UCcT"
      }
    },
    {
      "cell_type": "markdown",
      "source": [
        "## 🌲 Trie para detección de duplicados en filas binarias\n",
        "\n",
        "Usar un **Trie** (árbol de prefijos) para detectar filas de bits repetidas:\n",
        "\n",
        "```pseudocode\n",
        "function detectar_duplicados(matrix):\n",
        "    trie = new Trie()\n",
        "    duplicados = []\n",
        "    for i in 0..N-1:\n",
        "        node = trie.root\n",
        "        for bit in matrix[i]:\n",
        "            if node.child[bit] == None:\n",
        "                node.child[bit] = new TrieNode()\n",
        "            node = node.child[bit]\n",
        "        if node.isEnd:\n",
        "            duplicados.append((i, node.originalIndex))\n",
        "        else:\n",
        "            node.isEnd = True\n",
        "            node.originalIndex = i\n",
        "    return duplicados\n"
      ],
      "metadata": {
        "id": "7yu5XmkiVGOG"
      }
    },
    {
      "cell_type": "markdown",
      "source": [
        "\n",
        "---\n",
        "\n",
        "```markdown\n",
        "## ⚙️ Selección de los s menores (Quickselect modificado)\n",
        "\n",
        "Modificar Quicksort/Quickselect para ordenar **solo los s menores** de un arreglo:\n",
        "\n",
        "```python\n",
        "def quicksort_s(a, s):\n",
        "    def qsort(low, high):\n",
        "        if low >= high:\n",
        "            return\n",
        "        k = partition(a, low, high)  # pivote final en k\n",
        "        left_size = k - low + 1\n",
        "        if s < left_size:\n",
        "            qsort(low, k-1)\n",
        "        else:\n",
        "            qsort(low, k-1)\n",
        "            qsort(k+1, high)\n",
        "    qsort(0, len(a)-1)\n"
      ],
      "metadata": {
        "id": "VCYQiJM9VH9n"
      }
    },
    {
      "cell_type": "markdown",
      "source": [
        "## 🏹 Robin Hood Hashing\n",
        "\n",
        "**Definición**  \n",
        "Variante de _open addressing_ que minimiza la varianza de la “distancia al hogar” (DIB) de las claves.\n",
        "\n",
        "**Uso general**  \n",
        "Se emplea en tablas de hash donde se busca distribuir equitativamente las distancias de sondeo, reduciendo los “puntos calientes” que degradan el rendimiento.\n",
        "\n",
        "**Conceptos clave**  \n",
        "- **DIB (Distance‐from‐Initial‐Bucket):** número de pasos desde el índice ideal `h(x)` hasta la posición actual.  \n",
        "- Al colisionar, la clave con **mayor DIB** “roba” la posición y desplaza a la otra.  \n",
        "- Mejora la uniformidad de tiempo de acceso en tablas muy cargadas.\n",
        "\n",
        "---\n",
        "\n",
        "## 🌱 Inserción en raíz de ABB\n",
        "\n",
        "**Definición**  \n",
        "Mecanismo para insertar un elemento `x` en un árbol binario de búsqueda y luego aplicar rotaciones hasta que `x` quede en la raíz.\n",
        "\n",
        "**Uso general**  \n",
        "Sirve de base para árboles auto‐ajustables (ej. Splay Trees), que optimizan accesos recientes acercándolos a la raíz.\n",
        "\n",
        "**Conceptos clave**  \n",
        "- Inserción recursiva en subárbol izquierdo o derecho según comparación.  \n",
        "- Rotación simple (derecha o izquierda) para “subir” el nuevo nodo.  \n",
        "- Mantiene la propiedad de BST y reordena la estructura para accesos posteriores.\n",
        "\n",
        "---\n",
        "\n",
        "## 🎯 Quickselect\n",
        "\n",
        "**Definición**  \n",
        "Algoritmo de selección de orden estadístico que encuentra el k-ésimo menor elemento en un arreglo sin ordenarlo completamente.\n",
        "\n",
        "**Uso general**  \n",
        "Útil para calcular medianas, percentiles o los k-ésimos elementos en grandes volúmenes de datos, de manera más rápida que ordenar todo.\n",
        "\n",
        "**Conceptos clave**  \n",
        "- Basado en la partición de Quicksort: divide en `< pivote`, `= pivote`, `> pivote`.  \n",
        "- Solo recursiona en la parte que contiene la posición k.  \n",
        "- **Complejidad promedio:** O(n).  \n",
        "- Con “mediana de medianas” como pivote, garantiza O(n) en el peor caso.\n",
        "\n",
        "---\n",
        "\n",
        "## 🌲 Trie para detección de duplicados en filas binarias\n",
        "\n",
        "**Definición**  \n",
        "Estructura de árbol de prefijos (Trie) que almacena secuencias de bits de longitud fija, permitiendo búsquedas y detección de repeticiones en tiempo lineal en la longitud de la secuencia.\n",
        "\n",
        "**Uso general**  \n",
        "Detectar y eliminar duplicados en colecciones de cadenas binarias (por ejemplo, firma de datos, hash de bitmaps, patrones en bioinformática).\n",
        "\n",
        "**Conceptos clave**  \n",
        "- Cada nivel del Trie corresponde a un bit (0 o 1).  \n",
        "- Insertar o buscar una fila de M bits toma O(M).  \n",
        "- Marcar nodos terminales permite identificar filas ya vistas.\n",
        "\n",
        "---\n",
        "\n",
        "## ⚙️ Selección de los s menores (Quickselect modificado)\n",
        "\n",
        "**Definición**  \n",
        "Extensión de Quickselect/Quicksort que ordena únicamente los **s** menores elementos de un arreglo, sin procesar el resto.\n",
        "\n",
        "**Uso general**  \n",
        "Cuando solo se necesitan los primeros s mínimos (top-k), como en análisis de grandes datasets, selección de candidatos o ranking parcial.\n",
        "\n",
        "**Conceptos clave**  \n",
        "- Partición estándar en torno a un pivote.  \n",
        "- Si el bloque izquierdo contiene ≥ s elementos, recursiona solo allí.  \n",
        "- Si contiene < s, ordena ese bloque y continúa buscando los (s – tamaño) siguientes en la parte derecha.  \n",
        "- Eficiencia típica: O(n + s log s) en promedio.\n",
        "\n",
        "---\n"
      ],
      "metadata": {
        "id": "X6g8YTAmVLrH"
      }
    },
    {
      "cell_type": "markdown",
      "source": [
        "# 📚 Estructuras de Datos: Colas de Prioridad y Diccionarios\n",
        "\n",
        "---\n",
        "\n",
        "## 🎯 Colas de Prioridad\n",
        "\n",
        "Una **cola de prioridad** es una estructura de datos donde cada elemento tiene una prioridad. Al extraer elementos, se devuelve el de **mayor** o **menor** prioridad, según convención.\n",
        "\n",
        "### 🔹 Características\n",
        "- Generalmente se implementa usando un **heap** (montículo binario).\n",
        "- Tipos de heap:\n",
        "  - **Min-heap**: el menor valor está arriba.\n",
        "  - **Max-heap**: el mayor valor está arriba.\n",
        "\n",
        "### 🔹 Operaciones comunes\n",
        "- `insertar(prioridad, valor)` — inserta un elemento con prioridad.\n",
        "- `extraer_min()` — devuelve el de menor prioridad.\n",
        "- `ver_min()` — muestra sin remover.\n",
        "- `esta_vacia()` — verifica si está vacía.\n",
        "\n",
        "---\n",
        "\n",
        "## 🎯 Diccionarios (TDA Diccionario)\n",
        "\n",
        "Un **diccionario** almacena pares **llave: valor**. Cada llave es única y permite acceder de forma eficiente a su valor.\n",
        "\n",
        "### 🔹 Operaciones comunes en Python\n",
        "- `d[x] = v` — asigna el valor `v` a la llave `x`.\n",
        "- `d[x]` — accede al valor asociado.\n",
        "- `d.get(x)` — accede sin error si no existe (`None` si no está).\n",
        "- `x in d` — verifica si la llave está.\n",
        "- `d.pop(x)` — elimina `x` y retorna su valor.\n",
        "- `d.keys()`, `d.values()`, `d.items()` — listas de llaves, valores y pares.\n",
        "\n",
        "---\n"
      ],
      "metadata": {
        "id": "eW2U8EQldIlr"
      }
    },
    {
      "cell_type": "code",
      "source": [
        "# 🧪 Cola de Prioridad con heapq\n",
        "import heapq\n",
        "\n",
        "class ColaPrioridad:\n",
        "    def __init__(self):\n",
        "        self.q = []\n",
        "\n",
        "    def insertar(self, prioridad, valor):\n",
        "        heapq.heappush(self.q, (prioridad, valor))\n",
        "\n",
        "    def extraer_min(self):\n",
        "        if self.esta_vacia():\n",
        "            raise Exception(\"Cola vacía\")\n",
        "        return heapq.heappop(self.q)\n",
        "\n",
        "    def ver_min(self):\n",
        "        if self.esta_vacia():\n",
        "            raise Exception(\"Cola vacía\")\n",
        "        return self.q[0]\n",
        "\n",
        "    def esta_vacia(self):\n",
        "        return len(self.q) == 0\n",
        "\n",
        "# Ejemplo de uso:\n",
        "cp = ColaPrioridad()\n",
        "cp.insertar(2, \"comer\")\n",
        "cp.insertar(1, \"dormir\")\n",
        "cp.insertar(3, \"estudiar\")\n",
        "\n",
        "print(cp.extraer_min())  # (1, 'dormir')\n",
        "print(cp.ver_min())      # (2, 'comer')\n"
      ],
      "metadata": {
        "id": "VGK0P4bhdLIP"
      },
      "execution_count": null,
      "outputs": []
    },
    {
      "cell_type": "code",
      "source": [
        "# 📦 Uso básico de diccionarios\n",
        "distancia = {\n",
        "    'Valparaíso': 102,\n",
        "    'Concepción': 433,\n",
        "    'Arica': 1664,\n",
        "    'Puerto Montt': 912,\n",
        "    'Rancagua': 80\n",
        "}\n",
        "\n",
        "# Acceder a un valor\n",
        "print(distancia['Arica'])  # 1664\n",
        "\n",
        "# Verificar si existe una ciudad\n",
        "print('Osorno' in distancia)  # False\n",
        "\n",
        "# Obtener con .get\n",
        "print(distancia.get('Osorno'))  # None\n",
        "\n",
        "# Insertar nuevo valor\n",
        "distancia['Osorno'] = 945\n",
        "\n",
        "# Eliminar un valor\n",
        "valor_eliminado = distancia.pop('Rancagua')\n",
        "print(valor_eliminado)  # 80\n",
        "\n",
        "# Recorrer elementos\n",
        "for ciudad, km in distancia.items():\n",
        "    print(f\"{ciudad} está a {km} km\")\n"
      ],
      "metadata": {
        "id": "GFBMrke2dNtD"
      },
      "execution_count": null,
      "outputs": []
    },
    {
      "cell_type": "markdown",
      "source": [
        "# Resumen de Ordenación y Grafos\n",
        "\n",
        "## 1. Ordenación\n",
        "\n",
        "### Cota Inferior\n",
        "Para algoritmos de comparación, el mínimo número de comparaciones en el peor caso es:\n",
        "\n",
        "\\[\n",
        "\\log_2(n!) = \\Theta(n \\log n)\n",
        "\\]\n",
        "\n",
        "Esto se justifica usando árboles de decisión.\n",
        "\n",
        "### Quicksort\n",
        "\n",
        "Algoritmo eficiente de tipo \"divide y vencerás\":\n",
        "\n",
        "1. Escoge un pivote al azar.\n",
        "2. Reorganiza el arreglo en 3 partes:\n",
        "   - menores que el pivote,\n",
        "   - el pivote,\n",
        "   - mayores que el pivote.\n",
        "3. Ordena recursivamente las partes.\n",
        "\n",
        "Complejidad:\n",
        "- Promedio: \\( O(n \\log n) \\)\n",
        "- Peor caso: \\( O(n^2) \\)\n",
        "\n",
        "---\n",
        "\n",
        "## 2. Grafos (hasta Prim + Kruskal)\n",
        "\n",
        "### Definición\n",
        "\n",
        "Un grafo es un conjunto de vértices \\( V \\) y de arcos \\( E \\). Puede ser:\n",
        "- **No dirigido**: los arcos no tienen orientación.\n",
        "- **Dirigido**: los arcos tienen dirección.\n",
        "\n",
        "### Representaciones en memoria\n",
        "\n",
        "- **Matriz de adyacencia**:\n",
        "  - \\( A[i][j] = 1 \\) si hay conexión entre \\( v_i \\) y \\( v_j \\).\n",
        "  - Espacio: \\( \\Theta(n^2) \\)\n",
        "  \n",
        "- **Lista de adyacencia**:\n",
        "  - Para cada nodo, guarda su lista de vecinos.\n",
        "  - Espacio: \\( \\Theta(m) \\)\n",
        "\n",
        "### Caminos, ciclos y árboles\n",
        "\n",
        "- **Camino**: secuencia de arcos consecutivos.\n",
        "- **Ciclo**: camino simple cerrado.\n",
        "- **Árbol**: grafo **conexo** y **acíclico**.\n",
        "- **Árbol cobertor (spanning tree)**: árbol que contiene todos los nodos del grafo.\n",
        "\n",
        "Propiedades:\n",
        "- Un árbol con \\( n \\) nodos tiene \\( n - 1 \\) arcos.\n",
        "- Agregar un arco genera un único ciclo.\n",
        "\n",
        "### Recorridos\n",
        "\n",
        "- **DFS (Depth-First Search)**: se profundiza lo más posible antes de retroceder.\n",
        "- **BFS (Breadth-First Search)**: se explora por niveles.\n",
        "\n",
        "### Algoritmo de Prim\n",
        "\n",
        "Construye un árbol cobertor de peso mínimo:\n",
        "1. Comienza desde un nodo.\n",
        "2. Agrega sucesivamente el arco más barato que conecta con el árbol en construcción.\n",
        "\n",
        "---\n",
        "\n",
        "### Algoritmo de Kruskal\n",
        "\n",
        "Construye un árbol cobertor mínimo:\n",
        "1. Ordena todos los arcos por peso.\n",
        "2. Agrega el arco más liviano que no forme un ciclo (usando conjuntos disjuntos / Union-Find).\n"
      ],
      "metadata": {
        "id": "b21Zgx03cTEU"
      }
    },
    {
      "cell_type": "code",
      "source": [
        "import numpy as np\n",
        "\n",
        "# Quicksort\n",
        "def quicksort(a):\n",
        "    qsort(a, 0, len(a) - 1)\n",
        "\n",
        "def qsort(a, i, j):\n",
        "    if i < j:\n",
        "        k = particion(a, i, j)\n",
        "        qsort(a, i, k - 1)\n",
        "        qsort(a, k + 1, j)\n",
        "\n",
        "def particion(a, i, j):\n",
        "    k = np.random.randint(i, j + 1)\n",
        "    a[i], a[k] = a[k], a[i]\n",
        "    s = i\n",
        "    for t in range(i + 1, j + 1):\n",
        "        if a[t] <= a[i]:\n",
        "            s += 1\n",
        "            a[s], a[t] = a[t], a[s]\n",
        "    a[i], a[s] = a[s], a[i]\n",
        "    return s\n"
      ],
      "metadata": {
        "id": "NZzJ-jLEcSlM"
      },
      "execution_count": null,
      "outputs": []
    },
    {
      "cell_type": "code",
      "source": [
        "# Algoritmo de Kruskal\n",
        "\n",
        "class UnionFind:\n",
        "    def __init__(self, n):\n",
        "        self.padre = list(range(n))\n",
        "\n",
        "    def find(self, u):\n",
        "        if self.padre[u] != u:\n",
        "            self.padre[u] = self.find(self.padre[u])\n",
        "        return self.padre[u]\n",
        "\n",
        "    def union(self, u, v):\n",
        "        pu, pv = self.find(u), self.find(v)\n",
        "        if pu == pv:\n",
        "            return False\n",
        "        self.padre[pu] = pv\n",
        "        return True\n",
        "\n",
        "def kruskal(n, aristas):\n",
        "    \"\"\"\n",
        "    n: número de nodos (0 a n-1)\n",
        "    aristas: lista de tuplas (peso, u, v)\n",
        "    \"\"\"\n",
        "    aristas.sort()\n",
        "    uf = UnionFind(n)\n",
        "    mst = []\n",
        "    total = 0\n",
        "\n",
        "    for peso, u, v in aristas:\n",
        "        if uf.union(u, v):\n",
        "            mst.append((u, v, peso))\n",
        "            total += peso\n",
        "    return mst, total\n"
      ],
      "metadata": {
        "id": "cUh3Q9pIcX8p"
      },
      "execution_count": null,
      "outputs": []
    }
  ]
}