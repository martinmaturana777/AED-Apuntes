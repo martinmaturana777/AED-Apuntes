{
  "nbformat": 4,
  "nbformat_minor": 0,
  "metadata": {
    "colab": {
      "provenance": [],
      "include_colab_link": true
    },
    "kernelspec": {
      "name": "python3",
      "display_name": "Python 3"
    },
    "language_info": {
      "name": "python"
    }
  },
  "cells": [
    {
      "cell_type": "markdown",
      "metadata": {
        "id": "view-in-github",
        "colab_type": "text"
      },
      "source": [
        "<a href=\"https://colab.research.google.com/github/martinmaturana777/AED-Apuntes/blob/main/Pauta_Auxiliar_4_2025_1.ipynb\" target=\"_parent\"><img src=\"https://colab.research.google.com/assets/colab-badge.svg\" alt=\"Open In Colab\"/></a>"
      ]
    },
    {
      "cell_type": "code",
      "source": [
        "import numpy as np"
      ],
      "metadata": {
        "id": "WPcLza16XvM4"
      },
      "execution_count": null,
      "outputs": []
    },
    {
      "cell_type": "markdown",
      "source": [
        "# Pauta Auxiliar 4: Programación Dinámica y Backtracking.\n",
        "\n",
        "**Auxiliares: Valentina Alarcón Yañez, Antonia G. Calvo, Cristián Llull, Raimundo Lorca Correa, Samuel Chavéz Fierro<br>\n",
        "Profesores: Nelson Baloian, Iván Sipirán, Patricio Poblete<br>\n",
        "Curso: CC3001 Algoritmos y Estructuras de Datos**\n",
        "\n"
      ],
      "metadata": {
        "id": "92NDVBQ4xAj3"
      }
    },
    {
      "cell_type": "markdown",
      "source": [
        "# Resumen Programación Dinámica\n",
        "\n",
        "Algunos problemas hechos con recursividad pueden ser ineficientes, en particular, cuando tienen subproblemas que se repiten y se calculan una y otra vez. La estrategia de _programación dinámica_ incorpora una componente de uso de memoria para almacenar resultados parciales, y con ello, reducir la ineficiencia.\n",
        "\n",
        "En el apunte se muestra un ejemplo de esto con el caso de _Fibonacci_."
      ],
      "metadata": {
        "id": "vCMqIrVXNakF"
      }
    },
    {
      "cell_type": "code",
      "source": [
        "# Solución recursiva simple de Fibonacci\n",
        "\n",
        "def fibonacci(n):\n",
        "    if n<=1:\n",
        "        return n\n",
        "    else:\n",
        "        return fibonacci(n-1)+fibonacci(n-2)"
      ],
      "metadata": {
        "id": "d3t4MNf4Mw-8"
      },
      "execution_count": null,
      "outputs": []
    },
    {
      "cell_type": "markdown",
      "source": [
        "Esta solución es repetitiva e ineficiente, en el sentido de que hay términos que se calculan una y otra vez.\n",
        "\n",
        "Una primera versión más eficiente usa _memoización_: Utilizar una memoria para almacenar resultados calculados previamente, para evitar recalcularlos. Esto alternativamente se llama 'Memoria caché'."
      ],
      "metadata": {
        "id": "-heLeVuANGOz"
      }
    },
    {
      "cell_type": "code",
      "source": [
        "def fibonacci(n):\n",
        "    F=np.zeros(n+1,dtype=int)\n",
        "    def fib_rec(k):\n",
        "        if k>0 and F[k]==0: # primera vez que se calcula\n",
        "            if k<=1:\n",
        "                F[k]=k\n",
        "            else:\n",
        "                F[k]=fib_rec(k-1)+fib_rec(k-2)\n",
        "        return F[k]\n",
        "    return fib_rec(n)"
      ],
      "metadata": {
        "id": "WKQrRAdiOwyc"
      },
      "execution_count": null,
      "outputs": []
    },
    {
      "cell_type": "markdown",
      "source": [
        "La técnica de memoización va llenando el arreglo auxiliar  F  a medida que sus valores son solicitados. Este método es bastante general, pero se puede mejorar si logramos encontrar un orden para ir llenando el arreglo  F  que garantice que cuando se requiere el valor de un cierto casillero, éste ya está llenado. En el caso de Fibonacci, esto se logra simplemente al ir llenando los casilleros $F[k]$ en orden creciente de $k$.\n",
        "Esta técnica se llama _tabulación_:"
      ],
      "metadata": {
        "id": "74DdZT9FPrxK"
      }
    },
    {
      "cell_type": "code",
      "source": [
        "import numpy as np\n",
        "def fibonacci(n):\n",
        "    F=np.zeros(n+1,dtype=int)\n",
        "    F[0]=0\n",
        "    F[1]=1\n",
        "    for k in range(2,n+1):\n",
        "        F[k]=F[k-1]+F[k-2]\n",
        "    return F[n]"
      ],
      "metadata": {
        "id": "EM9OTSeuP0Co"
      },
      "execution_count": null,
      "outputs": []
    },
    {
      "cell_type": "markdown",
      "source": [
        "# Resumen Backtracking\n",
        "\n",
        "Existen situaciones en que no nos queda más que resolver un problema por prueba y error. O sea, debemos revisar una gran parte de las posibles soluciones exhaustivamente. Para esto podemos utilizar recursiones para probar las distintas posibilidades hasta que una funcione, o se acaben.\n",
        "\n",
        "Ahora, si solo utilizamos recursión entraríamos en bucles infinitos recorriendo los mismos caminos una y otra vez. Por lo tanto backtracking no es solo utilizar recursión. Debemos reconocer qué soluciones ya hemos probado antes, rehacerlas y continuar.\n",
        "\n",
        "Backtracking es costoso, por lo cual debemos analizar los problemas para determinar que no existen otras técnicas que puedan resolverlo en mejor tiempo.\n",
        "\n",
        "\n"
      ],
      "metadata": {
        "id": "CP85DsmMJ1KQ"
      }
    },
    {
      "cell_type": "markdown",
      "source": [
        "# Pregunta 1: Programación Dinámica - Distancia de Levenshtein"
      ],
      "metadata": {
        "id": "TUEhVkXqshPQ"
      }
    },
    {
      "cell_type": "markdown",
      "source": [
        "La distancia de Levenshtein es una medida de la diferencia entre dos cadenas de texto. Se calcula considerando el número mínimo de operaciones (borrar, insertar, sustituir) que se necesitan para transformar una cadena en otra.\n",
        "\n",
        "Ejemplos:\n",
        "- La distancia de Levenshtein entre “gato” y “pato” es 1, puesto que solo se requiere cambiar la 'g' por la 'p'.\n",
        "\n",
        "- La distancia de Levenshtein entre “perro” y “gato” es 4.\n",
        "  Una respuesta óptima es:\n",
        "  1. Se sustituye la 'p' de 'perro' por una 'g'.\n",
        "  2. Se sustituye la 'e' por una 'a'\n",
        "  3. Se cambia una 'r' por una 't'.\n",
        "  4. Se elimina la otra 'r'.\n",
        "  Lo que equivale a realizar 4 operaciones.\n",
        "\n",
        "La idea de este ejercicio es utilizar programación dinámica para crear una función ``` levenshtein(texto_1, texto_2)``` que calcule la distancia de Levenshtein entre dos cadenas.\n",
        "\n",
        "Para ello, deberá considerar el uso de una matriz M donde cada casilla M[i][j] represente la distancia de Levenshtein entre los primeros i caracteres de texto_1 y los primeros j caracteres de texto_2."
      ],
      "metadata": {
        "id": "RGf3SQM9Mk5Y"
      }
    },
    {
      "cell_type": "code",
      "source": [
        "def levenshtein(texto_1, texto_2):\n",
        "\n",
        "    # Primero se arma la matriz M, de tamaño (n+1)x(m+1)\n",
        "    n = len(texto_1)\n",
        "    m = len(texto_2)\n",
        "    # Debe ser '+1' para considerar cadenas vacías como opciones.\n",
        "    M = np.zeros((n+1, m+1))\n",
        "\n",
        "    # Se comienza llenando los bordes, que representan casos particulares\n",
        "    for i in range(n+1):\n",
        "        M[i][0] = i  # se busca llegar a una cadena vacía: se debe eliminar todo de texto_1 (i caracteres)\n",
        "    for j in range(m+1):\n",
        "        M[0][j] = j  # partir de una cadena vacía: se debe insertar todo j\n",
        "\n",
        "    # De aquí concluimos:\n",
        "    # - 'Moverse en distintos i' equivale a borrar un caracter\n",
        "    # - 'Moverse en distintos j' equivale a insertar un caracter\n",
        "\n",
        "    # Llenar la matriz\n",
        "    for i in range(1, n+1):\n",
        "        for j in range(1, m+1):\n",
        "            if texto_1[i - 1] == texto_2[j - 1]: # Mismo caracter. La distancia se mantiene.\n",
        "                M[i][j] = M[i - 1][j - 1]\n",
        "            else: # Caracteres distintos. Se busca la mejor alternativa\n",
        "                M[i][j] = 1 + min(M[i - 1][j],    # caso donde borramos una letra\n",
        "                                  M[i][j - 1],    # caso donde insertamos una letra de j\n",
        "                                  M[i - 1][j - 1]) # sustituir\n",
        "\n",
        "    print(M)\n",
        "    return M[n][m] # El resultado óptimo se encuentra en la celda M[n][m]\n"
      ],
      "metadata": {
        "id": "Y-XylakhWY8U"
      },
      "execution_count": null,
      "outputs": []
    },
    {
      "cell_type": "markdown",
      "source": [
        "Ej: Matriz para \"perro\" y \"gato\":\n",
        " ```\n",
        "     ''   g   a   t   o\n",
        "''   0    1   2   3   4\n",
        "p    1    1   2   3   4\n",
        "e    2    2   2   3   4\n",
        "r    3    3   3   3   4\n",
        "r    4    4   4   4   5\n",
        "o    5    5   5   5   4  \n",
        "\n",
        "```"
      ],
      "metadata": {
        "id": "fZOQV0xrfJT4"
      }
    },
    {
      "cell_type": "code",
      "source": [
        "# Tests\n",
        "\n",
        "assert levenshtein(\"pato\", \"gato\") == 1\n",
        "assert levenshtein(\"perro\", \"gato\") == 4"
      ],
      "metadata": {
        "colab": {
          "base_uri": "https://localhost:8080/"
        },
        "id": "jAcKZiquXkGe",
        "outputId": "9d2db308-8ae7-4083-e1af-2f533dec8f05"
      },
      "execution_count": null,
      "outputs": [
        {
          "output_type": "stream",
          "name": "stdout",
          "text": [
            "[[0. 1. 2. 3. 4.]\n",
            " [1. 1. 2. 3. 4.]\n",
            " [2. 2. 1. 2. 3.]\n",
            " [3. 3. 2. 1. 2.]\n",
            " [4. 4. 3. 2. 1.]]\n",
            "[[0. 1. 2. 3. 4.]\n",
            " [1. 1. 2. 3. 4.]\n",
            " [2. 2. 2. 3. 4.]\n",
            " [3. 3. 3. 3. 4.]\n",
            " [4. 4. 4. 4. 4.]\n",
            " [5. 5. 5. 5. 4.]]\n"
          ]
        }
      ]
    },
    {
      "cell_type": "markdown",
      "source": [
        "# Pregunta 2: Recorrido del caballo de ajedrez\n",
        "\n"
      ],
      "metadata": {
        "id": "qs0uW5IRsZnY"
      }
    },
    {
      "cell_type": "markdown",
      "source": [
        "El problema del caballo es un antiguo problema matemático. Se pide que, teniendo una cuadrícula de $n x n$ casillas y un caballo de ajedrez colocado en una posición cualquiera $(x, y)$, el caballo pase por todas las casillas, una sola vez. Es decir, debe realizar $n^2 - 1$ saltos.\n",
        "\n",
        "- Implemente una solución usando backtracking para el problema del caballo de ajedrez, llamada `resolverCaballo(int: n=8)`. Considere un tablero normal de $8 x 8$ por defecto y que el caballo parte en la posición (0,0) (a1)."
      ],
      "metadata": {
        "id": "d-dbuylDIIRV"
      }
    },
    {
      "cell_type": "markdown",
      "source": [
        "![image.png](data:image/png;base64,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)"
      ],
      "metadata": {
        "id": "TLOfdTj4UsV2"
      }
    },
    {
      "cell_type": "code",
      "source": [
        "# Knight Tour (El recorrido del caballo)\n",
        "# El algoritmo implementado corresponde a backtracking,\n",
        "# de tal manera de ir incrementando la solución hasta encontrar un camino que satisfaga el recorrido del caballo.\n",
        "\n",
        "# Método para imprimir la matriz\n",
        "def imprimir_matriz(m):\n",
        "    for fila in m:\n",
        "        print(\"\\t\".join(str(casilla) for casilla in fila))\n",
        "\n",
        "N = 8  # tamaño del tablero\n",
        "tablero = np.zeros((N,N), dtype=int)  # matriz que representa el tablero\n",
        "\n",
        "# Método principal que gatilla la resolución del problema\n",
        "def resolver_caballo():\n",
        "    for i in range(N):\n",
        "        for j in range(N):\n",
        "            tablero[i][j] = -1  # porque -1 significa que no se ha visitado esta casilla\n",
        "\n",
        "    if existe_solucion(0, 0, 0):\n",
        "        imprimir_matriz(tablero)\n",
        "        return True\n",
        "    return False  # no hay solución\n",
        "\n",
        "# Verificar si existe una solución\n",
        "def existe_solucion(i, j, paso):\n",
        "    # Si ya se recorrió el tablero completo, se logró el objetivo\n",
        "    if paso == N * N:\n",
        "        return True\n",
        "\n",
        "    # No puede haber solución pasando por fuera del tablero\n",
        "    if i >= N or j >= N or i < 0 or j < 0:\n",
        "        return False\n",
        "\n",
        "    # Si la posición consultada ya fue visitada, entonces no hay solución\n",
        "    if tablero[i][j] != -1:\n",
        "        return False\n",
        "\n",
        "    # Marcar casilla con el número de la posición\n",
        "    tablero[i][j] = paso\n",
        "\n",
        "    # Probar las diferentes posibilidades desde la dirección actual\n",
        "    if existe_solucion(i+1, j+2, paso+1):  # 1 hacia abajo, 2 a la derecha\n",
        "        return True\n",
        "    if existe_solucion(i+2, j+1, paso+1):  # 2 hacia abajo, 1 a la derecha\n",
        "        return True\n",
        "    if existe_solucion(i+2, j-1, paso+1):  # 2 hacia abajo, 1 a la izquierda\n",
        "        return True\n",
        "    if existe_solucion(i+1, j-2, paso+1):  # 1 hacia abajo, 2 a la izquierda\n",
        "        return True\n",
        "    if existe_solucion(i-1, j-2, paso+1):  # 1 hacia arriba, 2 a la izquierda\n",
        "        return True\n",
        "    if existe_solucion(i-2, j-1, paso+1):  # 2 hacia arriba, 1 a la izquierda\n",
        "        return True\n",
        "    if existe_solucion(i-2, j+1, paso+1):  # 2 hacia arriba, 1 a la derecha\n",
        "        return True\n",
        "    if existe_solucion(i-1, j+2, paso+1):  # 1 hacia arriba, 2 a la derecha\n",
        "        return True\n",
        "\n",
        "    # Si llega a este punto, ninguna opción era posible desde esta posición\n",
        "    tablero[i][j] = -1  # sacar el caballo de esta posición\n",
        "    return False\n",
        "\n",
        "resolver_caballo()\n"
      ],
      "metadata": {
        "colab": {
          "base_uri": "https://localhost:8080/"
        },
        "id": "T9UM2J4vIPzY",
        "outputId": "05487c5e-f4d3-4d18-adc0-efe811908bc2"
      },
      "execution_count": null,
      "outputs": [
        {
          "output_type": "stream",
          "name": "stdout",
          "text": [
            "0\t37\t58\t35\t42\t47\t56\t51\n",
            "59\t34\t1\t48\t57\t50\t43\t46\n",
            "38\t31\t36\t41\t2\t45\t52\t55\n",
            "33\t60\t39\t26\t49\t54\t3\t44\n",
            "30\t9\t32\t61\t40\t25\t22\t53\n",
            "17\t62\t27\t10\t23\t20\t13\t4\n",
            "8\t29\t18\t15\t6\t11\t24\t21\n",
            "63\t16\t7\t28\t19\t14\t5\t12\n"
          ]
        },
        {
          "output_type": "execute_result",
          "data": {
            "text/plain": [
              "True"
            ]
          },
          "metadata": {},
          "execution_count": 10
        }
      ]
    },
    {
      "cell_type": "markdown",
      "source": [
        "# Pregunta Propuesta : Cookie Monster\n",
        "\n",
        "Usted luego de levantarse a las 3AM decide conseguir un refrigerio de media noche. Para eso usted va a su cocina, donde ve convenientemente una fila de galletas de distinto peso, $g_0, g_1, g_2, ..., g_n$. Usted, recordando el auxiliar, quiere tener un problema de algoritmo avaro, y se propone que no debe escoger galletas contiguas, ¿Cuál sería el mejor algoritmo para poder maximizar su refrigerio de noche?\n",
        "\n",
        "a) Modele la situación, analice y preste atención a los casos base en donde usted puede que encuentre una galleta, dos o ninguna.\n",
        "\n",
        "b) Programe su algoritmo en Python, implementando programación dinámica, y encuentre la mejor elección de galletas para su comida de media noche.\n"
      ],
      "metadata": {
        "id": "3d56ps9nXU98"
      }
    },
    {
      "cell_type": "markdown",
      "source": [
        "Respuesta a)"
      ],
      "metadata": {
        "id": "eJI8NVAXM0h-"
      }
    },
    {
      "cell_type": "markdown",
      "source": [
        "Buscamos una expresión $F(k)$ que represente la máxima cantidad de galletas que se puede recoger con las primeras k galletas de valores $c_1, c_2, ..., c_k$ respectivamente. Para la k-ésima galleta hay solo dos casos posibles: Tomar la k-ésima galleta o no tomarla.\n",
        "\n",
        "Si no tomamos la galleta $k$, el máximo valor que podemos obtener con las primeras $k$ galletas es el mismo que podemos obtener con las primeras $k-1$. Entonces, para este caso se tiene que $F(k) = F(k-1)$.\n",
        "\n",
        "Si tomamos la galleta $k$, el máximo valor que podemos obtener es $c_k$ más el máximo valor que podemos obtener con las galletas anteriores. Como no podemos tomar dos galletas seguidas, la galleta $k-1$ no puede ser considerada dentro del óptimo, entonces el máximo valor que podemos obtener con las galletas anteriores es $F(k-2)$ y por lo tanto el máximo valor que podemos obtener con las primeras $k$ galletas es $c_k + F(k-2)$, es decir, $F(k) = c_k + F(k-2)$ para este caso.\n",
        "\n",
        "Para finalizar, nos interesa tomar el caso que nos entregue un valor mayor, que la expresión $F(k)$ es de la siguiente forma:\n",
        "\n",
        "$$\n",
        "F(k) = max\n",
        "\\begin{cases}\n",
        "F(k-1)\\\\\n",
        "c_k + F(k-2)\n",
        "\\end{cases} \\forall k \\geq 2\n",
        "$$"
      ],
      "metadata": {
        "id": "iMByUVKgUs2O"
      }
    },
    {
      "cell_type": "markdown",
      "source": [
        "Sabemos que $k$ corresponde al número de galletas que tenemos en consideración, entonces $F(0) = 0$, ya que sin galletas no tenemos gramos. Siguiendo la misma lógica, $F(1) = c_1$, porque la cantidad de galletas óptima que podemos obtener con una galleta es el valor de esta galleta."
      ],
      "metadata": {
        "id": "ewL9r_vcUX_Y"
      }
    },
    {
      "cell_type": "markdown",
      "source": [
        "Respuesta b)"
      ],
      "metadata": {
        "id": "rBAxpUJOT5go"
      }
    },
    {
      "cell_type": "code",
      "source": [
        "# c corresponde a una lista con los gramos de cada galleta\n",
        "def refrigerio_optimo(c):\n",
        "  n = len(c)\n",
        "  F = np.zeros(n+1, dtype = int)\n",
        "\n",
        "  for k in range(n+1):\n",
        "    if k == 0:\n",
        "      F[k] = 0\n",
        "    elif k == 1:\n",
        "      F[k] = c[k-1]\n",
        "    else:\n",
        "      F[k] = max(F[k-1], c[k-1] + F[k-2])\n",
        "\n",
        "  return F[n]"
      ],
      "metadata": {
        "id": "9KBrC1HdT7dw"
      },
      "execution_count": null,
      "outputs": []
    },
    {
      "cell_type": "code",
      "source": [
        "galletas_1 = [1, 4, 3, 6, 2, 5, 6, 7]\n",
        "galletas_2 = [0, 0, 0, 0, 1, 0, 0, 0]\n",
        "galletas_3 = [0, 0, 0, 0]\n",
        "galletas_4 = [4, 2, 6, 1, 99, 34, 56, 2, 7, 1]\n",
        "print(\"Éxito en galletas_1\" if galletas_optimas(galletas_1) == 22 else \"Error en galletas_1\")\n",
        "print(\"Éxito en galletas_2\" if galletas_optimas(galletas_2) == 1 else \"Error en galletas_2\")\n",
        "print(\"Éxito en galletas_3\" if galletas_optimas(galletas_3) == 0 else \"Error en galletas_3\")\n",
        "print(\"Éxito en galletas_4\" if galletas_optimas(galletas_4) == 172 else \"Error en galletas_4\")"
      ],
      "metadata": {
        "id": "xhX0ZhK3UEmI"
      },
      "execution_count": null,
      "outputs": []
    }
  ]
}