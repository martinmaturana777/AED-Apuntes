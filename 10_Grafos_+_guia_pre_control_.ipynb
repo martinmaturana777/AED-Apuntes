{
  "nbformat": 4,
  "nbformat_minor": 0,
  "metadata": {
    "kernelspec": {
      "display_name": "Python 3",
      "language": "python",
      "name": "python3"
    },
    "language_info": {
      "codemirror_mode": {
        "name": "ipython",
        "version": 3
      },
      "file_extension": ".py",
      "mimetype": "text/x-python",
      "name": "python",
      "nbconvert_exporter": "python",
      "pygments_lexer": "ipython3",
      "version": "3.6.9"
    },
    "colab": {
      "provenance": [],
      "include_colab_link": true
    }
  },
  "cells": [
    {
      "cell_type": "markdown",
      "metadata": {
        "id": "view-in-github",
        "colab_type": "text"
      },
      "source": [
        "<a href=\"https://colab.research.google.com/github/martinmaturana777/AED-Apuntes/blob/main/10_Grafos_%2B_guia_pre_control_.ipynb\" target=\"_parent\"><img src=\"https://colab.research.google.com/assets/colab-badge.svg\" alt=\"Open In Colab\"/></a>"
      ]
    },
    {
      "cell_type": "markdown",
      "metadata": {
        "id": "PiJ7qzJZxCl0"
      },
      "source": [
        "# 10 Grafos\n",
        "\n",
        "Un *grafo* es una estructura matemática que se utiliza para representar relaciones como las que hay entre las ciudades conectadas por caminos, los cursos con sus requisitos, las componentes conectadas en un circuito eléctrico, las páginas web vinculadas por enlaces, etc."
      ]
    },
    {
      "cell_type": "markdown",
      "metadata": {
        "id": "QS87M2ysxCl_"
      },
      "source": [
        "## Definiciones básicas\n",
        "\n",
        "Un grafo consiste de un conjunto $V$ de *vértices* (también llamados *nodos*) y un conjunto $E$ de *arcos*. El número de vértices se suele denotar $n$ y el número de arcos como $m$ (o a veces $e$).\n",
        "\n",
        "Se dice que un grafo es *no dirigido* si sus arcos no tiene una dirección asociada. Por ejemplo,\n",
        "\n",
        "![grafo-no-dirigido](https://github.com/ivansipiran/CC3001-Apuntes/blob/main/recursos/grafo-no-dirigido.png?raw=1)\n",
        "\n",
        "$$\n",
        "\\begin{align}\n",
        "V &=\\{v_1,v_2,v_3,v_4,v_5\\}\\\\\n",
        "E &=\\{ \\{v_1,v_2\\},\\{v_1,v_3\\},\\{v_1,v_5\\},\\{v_2,v_3\\},\\{v_3,v_4\\},\\{v_4,v_5\\} \\}\n",
        "\\end{align}\n",
        "$$\n",
        "\n",
        "Un grafo es *dirigido* si sus arcos tienen una orientación. Por ejemplo:\n",
        "\n",
        "![grafo-dirigido](https://github.com/ivansipiran/CC3001-Apuntes/blob/main/recursos/grafo-dirigido.png?raw=1)\n",
        "\n",
        "$$\n",
        "\\begin{align}\n",
        "V &=\\{v_1,v_2,v_3,v_4\\}\\\\\n",
        "E &=\\{ (v_1,v_2), (v_2,v_2), (v_2,v_3), (v_3,v_1), (v_3,v_4), (v_4,v_3) \\}\n",
        "\\end{align}\n",
        "$$\n",
        "\n",
        "Adicionalmente, los grafos pueden tener rótulos asociados a sus vértices o arcos. Estos rótulos pueden representar costos, longitudes, pesos, etc."
      ]
    },
    {
      "cell_type": "markdown",
      "metadata": {
        "id": "oprDqhuBxCmC"
      },
      "source": [
        "## Representaciones de grafos en memoria\n",
        "\n",
        "Un grafo se puede almacenar en memoria de distintas maneras, las cuales tienen distintos requerimientos de espacio, y ponen también distintas restricciones al tiempo de proceso.\n",
        "\n",
        "### Matriz de adyacencia\n",
        "\n",
        "Un grafo se puede representar a través de una matriz $A$ donde $A[i,j]=1$ si hay un arco que conecta $v_i$ con $v_j$, y $0$ si no.\n",
        "La matriz de adyacencia de un grafo no dirigido es simétrica.\n",
        "\n",
        "Una matriz de adyacencia permite determinar si dos vértices están conectados o no en tiempo constante, pero requieren $\\Theta(n^2)$ bits de memoria. Esto puede ser demasiado para muchos grafos que aparecen en aplicaciones reales, en donde $m<<n^2$. Otro problema es que se requiere tiempo $\\Theta(n)$ para encontrar la lista de vecinos de un vértice dado.\n",
        "\n",
        "### Listas de adyacencia\n",
        "\n",
        "Esta representación consiste en almacenar, para cada nodo, la lista de los nodos adyacentes a él (sus \"vecinos\"). Para el segundo ejemplo anterior, tenemos:\n",
        "\n",
        "$$\n",
        "\\begin{align}\n",
        "\\text{vecinos}[v_1] &= [v_2]\\\\\n",
        "\\text{vecinos}[v_2] &= [v_2, v_3]\\\\\n",
        "\\text{vecinos}[v_3] &= [v_1, v_4]\\\\\n",
        "\\text{vecinos}[v_4] &= [v_3]\n",
        "\\end{align}\n",
        "$$\n",
        "\n",
        "Esto utiliza espacio $\\Theta(m)$ y permite acceso eficiente a los vecinos, pero no permite acceso directo a los arcos.\n"
      ]
    },
    {
      "cell_type": "markdown",
      "metadata": {
        "id": "aT18wdxrxCmE"
      },
      "source": [
        "## Caminos, ciclos y árboles\n",
        "\n",
        "Consideremos un grafo no dirigido.\n",
        "\n",
        "Un *camino* es una secuencia de arcos en que el extremo final de cada arco coincide con el extremo inicial del siguiente en la secuencia. Por ejemplo, los arcos gruesos forman un camino desde $v_2$ a $v_5$ (o viceversa):\n",
        "\n",
        "![camino](https://github.com/ivansipiran/CC3001-Apuntes/blob/main/recursos/camino.png?raw=1)\n",
        "\n",
        "Un camino es *simple* si no se repiten vértices, excepto posiblemente el primero y el último.\n",
        "\n",
        "Un *ciclo* es un camino simple y cerrado (esto es, en que el vértice inicial y final son el mismo). En el siguiente ejemplo los arcos gruesos forman un ciclo:\n",
        "\n",
        "![ciclo](https://github.com/ivansipiran/CC3001-Apuntes/blob/main/recursos/ciclo.png?raw=1)\n",
        "\n",
        "Un grafo que no tiene ciclos se dice que es *acíclico*.\n",
        "\n",
        "Se dice que un grafo es *conexo* si para todo par de vértices del grafo existe un camino que los une. Si un grafo no es conexo, entonces estará compuesto por varias \"islas\", cada una de las cuales se llama una *componente conexa*. Más precisamentem una componente conexa es un subgrafo conexo *maximal* (esto es, que no está estrictamente contenido dentro de un subgrafo conexo mayor).\n",
        "\n",
        "Un *árbol* es un grafo que es *conexo* y *acíclico*. En el siguiente ejemplo, los arcos gruesos forman un árbol:\n",
        "\n",
        "![arbol](https://github.com/ivansipiran/CC3001-Apuntes/blob/main/recursos/arbol.png?raw=1)\n",
        "\n",
        "Si un árbol incluye todos los nodos de un grafo, se dice que es un *árbol cobertor* (*spanning tree*).\n",
        "\n",
        "### Propiedades de los árboles\n",
        "\n",
        "Es fácil demostrar las siguientes propiedades:\n",
        "\n",
        "* Todo árbol con $n$ nodos tiene $n-1$ arcos.\n",
        "* Si se agrega un arco a un árbol, se crea un único ciclo."
      ]
    },
    {
      "cell_type": "markdown",
      "metadata": {
        "id": "5i7S0Lz4xCmH"
      },
      "source": [
        "## Recorridos de grafos\n",
        "\n",
        "En muchas aplicaciones es necesario visitar todos los vértices del grafo a partir de un nodo dado. Algunas aplicaciones son:\n",
        "\n",
        "* Encontrar ciclos\n",
        "* Encontrar componentes conexas\n",
        "* Encontrar árboles cobertores\n",
        "\n",
        "Hay dos enfoque básicos:\n",
        "\n",
        "*Recorrido (o búsqueda) en profundidad (depth-first search)*:\n",
        "\n",
        "La idea es alejarse lo más posible del nodo inicial (sin repetir nodos), luego devolverse un paso e intentar lo mismo por otro camino.\n",
        "\n",
        "*Recorrido (o búsqueda) en amplitud (breadth-first search)*:\n",
        "\n",
        "Se visita a todos los vecinos directos del nodo inicial, luego a los vecinos de los vecinos, etc."
      ]
    },
    {
      "cell_type": "markdown",
      "metadata": {
        "id": "W4AKJ35dxCmK"
      },
      "source": [
        "### Recorrido en profundidad (DFS)\n",
        "\n",
        "A medida que recorremos el grafo, iremos numerando correlativamente los nodos encontrados $1,2,\\ldots$. Suponemos que todos estos números son cero inicialmente, y para ir asignando esta numeración utilizamos un contador global $n$, también inicializado en cero. A esta numeración asignada la llamamos el Depth-First-Number (DFN).\n",
        "\n",
        "El siguiente algoritmo en seudo-código muestra cómo se puede hacer este tipo de recorrido recursivamente:"
      ]
    },
    {
      "cell_type": "code",
      "metadata": {
        "id": "IfVllNMtxCmO"
      },
      "source": [
        "# seudo-código\n",
        "def DFS(v): # Recorre en profundidad a partir del vértice v\n",
        "    global n\n",
        "    global DFN\n",
        "    assert DFN[v]==0 # Supone que es primera vez que se visita el vértice v\n",
        "    n=n+1\n",
        "    DFN[v]=n # Numeramos el vértice v\n",
        "    for w in vecinos[v]:\n",
        "        if DFN[w]==0:\n",
        "            DFS(w)  # Visitamos w si no había sido visitado aún"
      ],
      "execution_count": null,
      "outputs": []
    },
    {
      "cell_type": "markdown",
      "metadata": {
        "id": "tQ705i1fxCmU"
      },
      "source": [
        "Para dar el \"puntapié inicial\" al proceso, hay que hacer que todos los DFN estén en cero, inicializar en cero la variable global $n$ e indicar el nodo de partida $x$:"
      ]
    },
    {
      "cell_type": "code",
      "metadata": {
        "id": "1APUNmBxxCmd"
      },
      "source": [
        "# seudo-código\n",
        "def startDFS(x):\n",
        "    global n\n",
        "    global DFN\n",
        "    n=0\n",
        "    for v in V:\n",
        "        DFN[v]=0\n",
        "    DFS(x)"
      ],
      "execution_count": null,
      "outputs": []
    },
    {
      "cell_type": "markdown",
      "metadata": {
        "id": "PUC3o_N0xCmg"
      },
      "source": [
        "En el siguiente ejemplo mostraremos un posible resultado de aplicar este recorrido a un grafo dado. A la derecha se muestra el mismo grafo, con sus vértices numerados con DFN y marcando más grueso al arco que permitió llegar a por primera vez a cada vértice. A estos arcos los llamamos *arcos de árbol*. A los arcos que permiten llegar a un vértice que ya había sido visitado los llamamos *arcos de retorno* y los mostramos con línea segmentada.\n",
        "\n",
        "![DFS](https://github.com/ivansipiran/CC3001-Apuntes/blob/main/recursos/DFS.png?raw=1)\n",
        "\n",
        "Si hubiera más de una componente conexa, este recorrido no llegaría a todos los nodos. Para recorrer el grafo por completo, podemos ejecutar un DFS sobre cada componente conexa."
      ]
    },
    {
      "cell_type": "code",
      "metadata": {
        "id": "yc_ngYuixCmi"
      },
      "source": [
        "# seudo-código\n",
        "def startDFS(): # recorre el grafo, retorna número de componentes conexas\n",
        "    global n\n",
        "    global ncc\n",
        "    global DFN\n",
        "    n=0\n",
        "    for v in V:\n",
        "        DFN[v]=0\n",
        "    ncc=0 # cuenta el número de componentes conexas\n",
        "    for x in V:\n",
        "        if DFN[x]==0:\n",
        "            ncc=ncc+1\n",
        "            DFS(x)\n",
        "    return ncc"
      ],
      "execution_count": null,
      "outputs": []
    },
    {
      "cell_type": "markdown",
      "metadata": {
        "id": "Fh_5nnD2xCmj"
      },
      "source": [
        "Existe una gran similitud entre el DFS y el recorrido en preorden que vimos para árboles binarios. Tal como ocurrió en esa oportunidad, también es posible programar el recorrido de manera no recursiva utilzando una pila:"
      ]
    },
    {
      "cell_type": "code",
      "metadata": {
        "id": "-UBEKGbGxCmk"
      },
      "source": [
        "# seudo-código\n",
        "def DFSnorecursivo(x): # Recorre en profundidad a partir del vértice x\n",
        "    n=0\n",
        "    for v in V:\n",
        "        DFN[v]=0\n",
        "    s=Pila()\n",
        "    s.push(x) # el vértice inicial del recorrido\n",
        "    while not s.is_empty():\n",
        "        v=s.pop()\n",
        "        if DFN[v]==0: # primera vez que se visita este nodo\n",
        "            n=n+1\n",
        "            DFN[v]=n\n",
        "            for w in vecinos[v]:\n",
        "                s.push(w)"
      ],
      "execution_count": null,
      "outputs": []
    },
    {
      "cell_type": "markdown",
      "metadata": {
        "id": "GC0KZD71xCmm"
      },
      "source": [
        "### Recorrido en amplitud\n",
        "\n",
        "Este recorrido es análogo al recorrido por niveles que vimos para árboles binarios. Su programación es similar a ``DFSnorecursivo``, sustituyendo la pila por una cola."
      ]
    },
    {
      "cell_type": "markdown",
      "metadata": {
        "id": "7oI7_hT-xCmn"
      },
      "source": [
        "## Árbol Cobertor Mínimo (*Minimum Spanning Tree*)\n",
        "\n",
        "Para un grafo dado pueden existir muchos árboles cobertores. Si introducimos un concepto de \"peso\" (o \"costo\") sobre los arcos, es interesante tratar de encontrar un árbol cobertor que tenga costo mínimo. El costo de un árbol es la suma de los costos de sus arcos.\n",
        "\n",
        "En esta sección veremos dos algoritmos para encontrar un árbol cobertor mínimo para un grafo no dirigido dado, conexo y con costos asociados a los arcos."
      ]
    },
    {
      "cell_type": "markdown",
      "metadata": {
        "id": "VV6vUx3hxCmo"
      },
      "source": [
        "### Algoritmo de Kruskal\n",
        "\n",
        "Este es un algoritmo del tipo \"avaro\" (\"greedy\"). Comienza inicialmente con un grafo que contiene sólo los nodos del grafo original, sin arcos. Luego, en cada iteración, se agrega al grafo el arco más barato que no genere un ciclo. El proceso termina cuando el grafo está completamente conectado.\n",
        "\n",
        "En general, la estrategia \"avara\" no garantiza que se encuentre un óptimo global, porque es un método \"miope\", que sólo optimiza las decisiones de corto plazo. Por otra parte, a menudo este tipo de métodos proveen buenas heurísticas, que se acercan al óptimo global. Pero en este caso, afortunadamente, se puede demostrar que el método \"avaro\" logra siempre encontrar el óptimo global, por lo cual un árbol cobertor encontrado por esta vía está garantizado que es un árbol cobertor mínimo.\n",
        "\n",
        "Una forma de ver este algoritmo es diciendo que al principio cada nodo constituye su propia componente conexa, aislado de todos los demás nodos. Durante el proceso de construcción del árbol, se agrega un arco sólo si sus dos extremos se encuentran en componentes conexas distintas, y luego de agregarlo, esas dos componentes conexas se fusionan en una sola.\n",
        "\n",
        "La siguiente animación muestra el algoritmo de Kruskal en funcionamiento. A cada paso, se intenta agregar un arco. Si se descarta, porque formaría un ciclo, se marca con una \"X\" y se pasa al siguiente. Si se acepta, porque une dos componentes conexas distintas, se marca como un arco sólido.\n",
        "\n",
        "![kruskal](https://github.com/ivansipiran/CC3001-Apuntes/blob/main/recursos/kruskal.gif?raw=1)\n",
        "\n",
        "Para la operatoria con componentes conexas supondremos que cada componente conexa se identifica mediante un representante canónico (el \"lider\" del conjunto), y que se dispone de las siguientes operaciones:\n",
        "\n",
        "``Union(a,b)``: Se fusionan las componentes canónicas representadas por a y b, respectivamente.\n",
        "\n",
        "``Find(x)``: Encuentra al representante canónico de la componente conexa a la cual pertenece x.\n",
        "\n",
        "Con estas operaciones, el algoritmo de Kruskal se puede escribir así (en seudo-código):"
      ]
    },
    {
      "cell_type": "code",
      "metadata": {
        "id": "QvbVsBw2xCmp"
      },
      "source": [
        "# seudo-código\n",
        "def kruskal(V,E):\n",
        "    sort(E) # Ordenar los arcos en orden creciente de costo\n",
        "    C = [[v] for v in V] # C es el conjunto de componentes conexas, inicialmente \"singletons\"\n",
        "    T = [] # La lista de los arcos del árbol\n",
        "    for e in E: # consideramos los arcos en orden creciente\n",
        "        if len(C)==1: # queda solo 1 componente conexa\n",
        "            break\n",
        "        (v,w)=vertices(e)      # los dos extremos del arco e\n",
        "        if Find(v) != Find(w): # están en componentes conexas distintas\n",
        "            T.append(e) # Agregar el arco e al árbol\n",
        "            Union(Find(v),Find(w)) # Fusionamos las dos componentes en una sola\n",
        "    return T"
      ],
      "execution_count": null,
      "outputs": []
    },
    {
      "cell_type": "markdown",
      "metadata": {
        "id": "rB4Pnv9OxCmr"
      },
      "source": [
        "El tiempo que demora este algoritmo está dominado por lo que demora la ordenación del conjunto $E$ de arcos, $\\Theta(m \\log{m})$, más lo que demora realizar $m$ operaciones ``Find``, más $n$ operaciones ``Union``.\n",
        "\n",
        "Es posible implementar ``Union-Find`` de modo que las operaciones ``Union`` demoren tiempo constante, y las operaciones ``Find`` un tiempo casi constante. Más precisamente, el costo amortizado de un Find está acotado por $\\log^*{n}$, donde $\\log^*{n}$ es una función definida como el número de veces que es necesario tomar el logaritmo de un número para que el resultado sea menor que 1.\n",
        "\n",
        "Por lo tanto, el costo total es $\\Theta(m \\log{m})$, lo cual es igual a $\\Theta(m \\log{n})$, porque en todo grafo se tiene que $m=O(n^2)$."
      ]
    },
    {
      "cell_type": "markdown",
      "metadata": {
        "id": "hfq91VbDxCmt"
      },
      "source": [
        "La correctitud del algoritmo de Kruskal viene del siguiente lema:\n",
        "\n",
        "#### Lema\n",
        "\n",
        "Sea $V'$ subconjunto propio de $V$, y sea $e=\\{v,w\\}$ un arco de costo mínimo tal que $v \\in V'$ y $w \\in V-V'$. Entonces existe un árbol cobertor mínimo que incluye a $e$.\n",
        "\n",
        "Este lema permite muchas estrategias distintas para escoger los arcos del árbol. Un ejemplo es el siguiente algoritmo.\n"
      ]
    },
    {
      "cell_type": "markdown",
      "metadata": {
        "id": "tVpohtmJxCmu"
      },
      "source": [
        "### Algoritmo de Prim\n",
        "\n",
        "Comenzamos con el arco más barato, y marcamos sus dos extremos como \"alcanzables\". Luego, a cada paso, intentamos extender nuestro conjunto de nodos alcanzables agregando siempre el arco más barato que tenga uno de sus extremos dentro del conjunto alcanzable y el otro fuera de él. De esta manera, el conjunto alcanzable se va extendiendo como una \"mancha de aceite\"."
      ]
    },
    {
      "cell_type": "code",
      "metadata": {
        "id": "y2xIjplvxCmw"
      },
      "source": [
        "# seudo-código\n",
        "def prim(V,E):\n",
        "    e=arco_de_costo_minimo(E)\n",
        "    (v,w)=vertices(e)\n",
        "    T=[e]   # árbol\n",
        "    A=[v,w] # conjunto alcanzable\n",
        "    while A!=V:\n",
        "        e=arco_de_costo_minimo_que_conecta(A,V-A)\n",
        "        (v,w)=vertices(e) # suponemos v en A y w en V-A\n",
        "        T.append(e)\n",
        "        A.append(w)"
      ],
      "execution_count": null,
      "outputs": []
    },
    {
      "cell_type": "markdown",
      "metadata": {
        "id": "rcNIxBcZxCm0"
      },
      "source": [
        "La siguiente animación muestra el algoritmo de Prim en funcionamiento. A cada paso, los arcos candidatos a agregarse se muestran con líneas punteadas. El arco que se acepta, por ser el de menor costo que une al conjunto alcanzable con el resto del grafo se marca como un arco sólido.\n",
        "\n",
        "![prim](https://github.com/ivansipiran/CC3001-Apuntes/blob/main/recursos/prim.gif?raw=1)\n",
        "\n",
        "Para implementar este algoritmo eficientemente, podemos mantener una tabla donde, para cada nodo de $V-A$, almacenamos el costo del arco más barato que lo conecta al conjunto A. Estos costos pueden cambiar en cada iteración, así que hay que recalcularlos para todos los vecinos del nodo que se agrega al conjunto alcanzable.\n",
        "\n",
        "Si se organiza la tabla como una cola de prioridad, el tiempo total es $\\Theta(m \\log{n})$. Si se deja la tabla desordenada y se busca linealmente en cada iteración, el costo es $\\Theta(n^2)$. Esto último es mejor que lo anterior cuando el grafo es denso."
      ]
    },
    {
      "cell_type": "markdown",
      "source": [
        "# Guia pre control\n"
      ],
      "metadata": {
        "id": "3uvIUqAwnqDK"
      }
    },
    {
      "cell_type": "markdown",
      "source": [
        "# **p1**"
      ],
      "metadata": {
        "id": "M4s5QGPioXCa"
      }
    },
    {
      "cell_type": "code",
      "source": [
        "def robin_hood_insert(tabla, valor):\n",
        "    \"\"\"\n",
        "    Inserta un valor en la tabla de hash usando Robin Hood Hashing.\n",
        "\n",
        "    Args:\n",
        "        tabla: Lista que representa la tabla hash, con -1 en casilleros vacíos\n",
        "        valor: Valor entero positivo (≥0) a insertar\n",
        "    \"\"\"\n",
        "    pos_original = hash(valor) % len(tabla)\n",
        "    distancia_actual = 0\n",
        "    valor_a_insertar = valor\n",
        "    pos_a_insertar = pos_original\n",
        "\n",
        "    # Buscamos posición para insertar\n",
        "    while True:\n",
        "        # Si encontramos un casillero vacío, insertamos y terminamos\n",
        "        if tabla[pos_a_insertar] == -1:\n",
        "            tabla[pos_a_insertar] = valor_a_insertar\n",
        "            return\n",
        "\n",
        "        # Calculamos la distancia del elemento actual en el casillero\n",
        "        valor_existente = tabla[pos_a_insertar]\n",
        "        pos_original_existente = hash(valor_existente) % len(tabla)\n",
        "        distancia_existente = (pos_a_insertar - pos_original_existente) % len(tabla)\n",
        "\n",
        "        # Si el elemento actual tiene menor distancia que el que queremos insertar,\n",
        "        # lo intercambiamos y continuamos con el elemento desplazado\n",
        "        if distancia_existente < distancia_actual:\n",
        "            tabla[pos_a_insertar] = valor_a_insertar\n",
        "            valor_a_insertar = valor_existente\n",
        "            distancia_actual = distancia_existente\n",
        "            pos_original = pos_original_existente\n",
        "\n",
        "        # Avanzamos al siguiente casillero\n",
        "        pos_a_insertar = (pos_a_insertar + 1) % len(tabla)\n",
        "        distancia_actual += 1"
      ],
      "metadata": {
        "id": "6fmBp5qZnuuK"
      },
      "execution_count": null,
      "outputs": []
    },
    {
      "cell_type": "markdown",
      "source": [
        "# **p2**"
      ],
      "metadata": {
        "id": "17kuX2dsofi7"
      }
    },
    {
      "cell_type": "markdown",
      "source": [
        "FUNCIÓN insertar_raiz(x, root):\n",
        "\n",
        "    // Caso base: árbol vacío, creamos un nuevo nodo\n",
        "    SI root == NULO:\n",
        "        DEVOLVER nuevo_nodo(x)\n",
        "    \n",
        "    // Insertamos recursivamente en el subárbol correspondiente\n",
        "    SI x < root.valor:\n",
        "        root.izquierdo = insertar_raiz(x, root.izquierdo)\n",
        "        // Rotación derecha para llevar x a la raíz\n",
        "        DEVOLVER rotar_derecha(root)\n",
        "    SINO:\n",
        "        root.derecho = insertar_raiz(x, root.derecho)\n",
        "        // Rotación izquierda para llevar x a la raíz\n",
        "        DEVOLVER rotar_izquierda(root)\n",
        "    FIN SI\n",
        "    FIN FUNCIÓN\n",
        "\n",
        "FUNCIÓN rotar_derecha(y):\n",
        "\n",
        "    x = y.izquierdo\n",
        "    y.izquierdo = x.derecho\n",
        "    x.derecho = y\n",
        "    DEVOLVER x\n",
        "    FIN FUNCIÓN\n",
        "\n",
        "FUNCIÓN rotar_izquierda(x):\n",
        "\n",
        "    y = x.derecho\n",
        "    x.derecho = y.izquierdo\n",
        "    y.izquierdo = x\n",
        "    DEVOLVER y\n",
        "    FIN FUNCIÓN"
      ],
      "metadata": {
        "id": "fz-0OmiwpZ8H"
      }
    },
    {
      "cell_type": "markdown",
      "source": [
        "# **p3**"
      ],
      "metadata": {
        "id": "CXkHu6k7oiri"
      }
    },
    {
      "cell_type": "markdown",
      "source": [
        "¿Cual es la complejidad en el mejor caso para este algoritmo? ¿Cual es la complejidad en el\n",
        "peor caso para este algoritmo? Explique brevemente sus respuestas, indicando cuanto tiempo\n",
        "toma cada uno de los pasos del algoritmo.\n",
        "\n",
        "**R:** Θ(n log n)\n",
        "\n",
        "    Explicación:\n",
        "\n",
        "    Crear ABB vacío: O(1)\n",
        "\n",
        "    Insertar n elementos: En el mejor caso (árbol balanceado), cada inserción toma O(log n) → n × O(log n) = O(n log n)\n",
        "\n",
        "    Recorrido inorden: O(n)\n",
        "\n",
        "    Total: O(n log n) dominado por las inserciones\n",
        "\n",
        "Un alumno muy perspicaz le propone al Profesor usar un arbol AVL en vez del ABB en su\n",
        "algoritmo de ordenamiento. ¿Cual es la complejidad en el peor caso para este nuevo algoritmo?\n",
        "Explique por quue. ¿Cual es la complejidad de este nuevo algoritmo si los elementos del arreglo\n",
        "ya vienen ordenados.\n",
        "\n",
        "**R:** Θ(n²)\n",
        "\n",
        "    Explicación:\n",
        "\n",
        "    Crear ABB vacío: O(1)\n",
        "\n",
        "    Insertar n elementos: En el peor caso (datos ordenados), el ABB degenera en una lista (altura n) → cada inserción toma O(n) → n × O(n) = O(n²)\n",
        "\n",
        "    Recorrido inorden: O(n)\n",
        "\n",
        "    Total: O(n²) dominado por las inserciones\n",
        "\n",
        "    \n",
        "**R:** Θ(n log n)\n",
        "\n",
        "    Explicación:\n",
        "\n",
        "    Crear AVL vacío: O(1)\n",
        "\n",
        "    Insertar n elementos: El AVL mantiene balance con rotaciones → cada inserción toma O(log n) → n × O(log n) = O(n log n)\n",
        "\n",
        "    Recorrido inorden: O(n)\n",
        "\n",
        "    Total: O(n log n) dominado por las inserciones balanceadas\n",
        "\n",
        "\n",
        "\n",
        "Explique por que (piense en cuanto cuesta insertar un nuevo elemento en el arbol AVL considerando que vienen ordenados, y luego calcule la complejidad total del algoritmo).\n",
        "\n",
        "**R:** Θ(n log n)\n",
        "\n",
        "    Explicación detallada:\n",
        "\n",
        "    Comportamiento del AVL:\n",
        "\n",
        "    Al insertar elementos ordenados, el AVL realiza rotaciones para mantener el balance\n",
        "\n",
        "    Cada inserción sigue costando O(log n) porque la altura se mantiene logarítmica\n",
        "\n",
        "    Las rotaciones (O(1) por inserción) no afectan la complejidad asintótica\n",
        "\n",
        "    Cálculo total:\n",
        "\n",
        "    n inserciones × O(log n) = O(n log n)\n",
        "\n",
        "    Recorrido inorden: O(n)\n",
        "\n",
        "    Total: O(n log n) (igual que el peor caso general)\n",
        "\n",
        "    Diferencia clave con ABB:\n",
        "\n",
        "    Mientras el ABB degenera a O(n²) con datos ordenados, el AVL mantiene O(n log n)\n",
        "\n",
        "    El costo adicional de balanceo es compensado por la altura controlada del árbol"
      ],
      "metadata": {
        "id": "8T6eaMvDqROG"
      }
    },
    {
      "cell_type": "markdown",
      "source": [
        "# **P4**\n"
      ],
      "metadata": {
        "id": "U9FJjjpHsdGD"
      }
    },
    {
      "cell_type": "markdown",
      "source": [
        "FUNCIÓN encontrar_filas_duplicadas(matriz):\n",
        "\n",
        "    trie = CrearTrie()\n",
        "    duplicados = {}\n",
        "    \n",
        "    PARA i DESDE 0 HASTA N-1 HACER:\n",
        "        fila = matriz[i]\n",
        "        nodo = trie.raiz\n",
        "        \n",
        "        PARA j DESDE 0 HASTA M-1 HACER:\n",
        "            bit = fila[j]\n",
        "            SI nodo.hijos[bit] NO EXISTE:\n",
        "                nodo.hijos[bit] = CrearNodo()\n",
        "            nodo = nodo.hijos[bit]\n",
        "        \n",
        "        SI nodo.es_final:\n",
        "            duplicados[nodo.fila_original].agregar(i)\n",
        "        SINO:\n",
        "            nodo.es_final = VERDADERO\n",
        "            nodo.fila_original = i\n",
        "    \n",
        "    DEVOLVER duplicados\n",
        "FIN FUNCIÓN"
      ],
      "metadata": {
        "id": "4YN9u_pOtPwJ"
      }
    },
    {
      "cell_type": "markdown",
      "source": [
        "Explicación del Algoritmo\n",
        "\n",
        "Estructura del Trie:\n",
        "\n",
        "    Cada nodo del trie tiene 2 hijos posibles (para bits 0 y 1)\n",
        "\n",
        "    Los nodos finales almacenan el índice de la fila original\n",
        "\n",
        "Proceso de inserción:\n",
        "\n",
        "    Para cada fila de la matriz (N filas):\n",
        "\n",
        "    Recorremos cada bit de la fila (M bits)\n",
        "\n",
        "    Seguimos la ruta correspondiente en el trie\n",
        "\n",
        "    Si llegamos al final y ya existe una marca de fila, hemos encontrado un duplicado\n",
        "\n",
        "    Si no, marcamos el nodo final con el índice de la fila actual\n",
        "\n",
        "Detección de duplicados:\n",
        "\n",
        "    Cuando encontramos que una ruta ya estaba completa, agregamos el par (fila_original, fila_actual) al resultado\n",
        "\n",
        "Complejidad O(N × M) - Justificación\n",
        "\n",
        "    Inserción en el Trie:\n",
        "\n",
        "    Para cada una de las N filas:\n",
        "\n",
        "    Insertamos M bits en el trie\n",
        "\n",
        "    Cada inserción de bit es O(1) (acceso directo a los hijos)\n",
        "\n",
        "    Total: N × M × O(1) = O(N × M)\n",
        "\n",
        "Detección de duplicados:\n",
        "\n",
        "    La detección ocurre durante la inserción sin costo adicional\n",
        "\n",
        "    Cuando encontramos un duplicado, solo agregamos a una lista (O(1))\n",
        "\n",
        "Ventaja sobre el enfoque de fuerza bruta:\n",
        "\n",
        "    Evita comparar todos los pares de filas (O(N²))\n",
        "\n",
        "    Cada fila se procesa exactamente una vez\n",
        "\n",
        "    El trie permite compartir prefijos comunes entre filas, reduciendo comparaciones\n",
        "\n",
        "Comparación con fuerza bruta:\n",
        "\n",
        "    Fuerza bruta: O(N² × M) (comparar todas las filas entre sí)\n",
        "\n",
        "    Con trie: O(N × M) (procesar cada fila una vez)\n",
        "\n",
        "    Este algoritmo es óptimo para este problema ya que debe examinar cada elemento de la matriz al menos una vez, logrando la complejidad lineal en el tamaño de la entrada (N × M)."
      ],
      "metadata": {
        "id": "8EHSWECVtZxj"
      }
    },
    {
      "cell_type": "markdown",
      "source": [
        "# **P5**"
      ],
      "metadata": {
        "id": "9Kz0KXB_tx9P"
      }
    },
    {
      "cell_type": "markdown",
      "source": [
        "Complejidad Computacional\n",
        "1. Mejor caso y caso promedio: O(n)\n",
        "\n",
        "        Partición óptima que divide el arreglo en proporciones balanceadas (pivote cerca de la mediana)\n",
        "\n",
        "        Cada paso reduce el problema a un tamaño constante (≈n/2)\n",
        "\n",
        "        Suma geométrica: n + n/2 + n/4 + ... ≤ 2n → O(n)\n",
        "\n",
        "2. Peor caso: O(n²)\n",
        "\n",
        "        Ocurre cuando siempre se selecciona el pivote mínimo/máximo (particiones desbalanceadas)\n",
        "\n",
        "        Cada paso solo reduce el problema en 1 elemento\n",
        "\n",
        "        Suma aritmética: n + (n-1) + (n-2) + ... → O(n²)\n",
        "\n",
        "**¿Es un algoritmo eficiente?**\n",
        "\n",
        "Sí, es eficiente en la práctica por:\n",
        "\n",
        "    Rendimiento promedio lineal: En implementaciones reales con selección inteligente de pivote (mediana de muestras), casi siempre alcanza O(n).\n",
        "\n",
        "    Constantes pequeñas: Las operaciones por iteración son simples (comparaciones e intercambios), más eficiente que otros algoritmos de selección teóricamente lineales como el algoritmo de la mediana de medianas (O(n) garantizado pero con constantes altas).\n",
        "\n",
        "    Localidad de referencia: Buen comportamiento en caché al trabajar sobre subarreglos contiguos.\n",
        "\n",
        "    Implementación in-place: No requiere memoria adicional significativa.\n",
        "\n",
        "Limitaciones:\n",
        "\n",
        "    El peor caso O(n²) lo hace inadecuado para sistemas críticos donde se necesitan garantías de tiempo estrictas.\n",
        "\n",
        "    En tales casos, se prefiere el algoritmo de la mediana de medianas (Blum-Floyd-Pratt-Rivest-Tarjan) que garantiza O(n) pero es menos práctico por sus constantes ocultas."
      ],
      "metadata": {
        "id": "YbsVA7h_uCpe"
      }
    },
    {
      "cell_type": "markdown",
      "source": [
        "# **p10**"
      ],
      "metadata": {
        "id": "BArPG0Vju25W"
      }
    },
    {
      "cell_type": "code",
      "source": [
        "def quicksort(a, s):\n",
        "    \"\"\"Ordena los s menores elementos del arreglo a en las primeras s posiciones\"\"\"\n",
        "    qsort(a, 0, len(a)-1, s)\n",
        "\n",
        "def qsort(a, i, j, s):\n",
        "    \"\"\"Versión modificada de qsort que solo ordena hasta encontrar los s menores elementos\"\"\"\n",
        "    if i < j and i < s:  # Solo procesamos si hay elementos y no hemos alcanzado s\n",
        "        k = particion(a, i, j)\n",
        "\n",
        "        # Solo ordenamos la parte izquierda si contiene elementos menores que s\n",
        "        if k > s:\n",
        "            qsort(a, i, k-1, s)\n",
        "        else:\n",
        "            qsort(a, i, k-1, s)\n",
        "            qsort(a, k+1, j, s)"
      ],
      "metadata": {
        "id": "YpqVcN8BvfsJ"
      },
      "execution_count": null,
      "outputs": []
    },
    {
      "cell_type": "markdown",
      "source": [
        "Explicación de la modificación:\n",
        "\n",
        "Parámetro adicional s:\n",
        "\n",
        "    Se añade el parámetro s a ambas funciones para indicar cuántos elementos menores queremos ordenar.\n",
        "\n",
        "Condición de corte mejorada:\n",
        "\n",
        "    En qsort, agregamos and i < s para detener la recursión cuando el subarreglo comienza después de la posición s.\n",
        "\n",
        "Lógica de particionamiento optimizada:\n",
        "\n",
        "    Si el pivote k está después de s, solo necesitamos ordenar el subarreglo izquierdo.\n",
        "\n",
        "    Si el pivote k está antes de s, necesitamos ordenar ambos subarreglos.\n",
        "\n",
        "\n",
        "Eficiencia:\n",
        "\n",
        "    Esta versión tiene complejidad promedio O(n log s) en lugar de O(n log n) del Quicksort completo.\n",
        "\n",
        "    En el peor caso sigue siendo O(n²), pero solo para los primeros s elementos."
      ],
      "metadata": {
        "id": "No8WM7qGvgat"
      }
    }
  ]
}